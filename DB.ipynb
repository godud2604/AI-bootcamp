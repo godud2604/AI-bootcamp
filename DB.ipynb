{
  "nbformat": 4,
  "nbformat_minor": 0,
  "metadata": {
    "colab": {
      "provenance": [],
      "authorship_tag": "ABX9TyM+t4rgfMKam63B8OyIl4Is",
      "include_colab_link": true
    },
    "kernelspec": {
      "name": "python3",
      "display_name": "Python 3"
    },
    "language_info": {
      "name": "python"
    }
  },
  "cells": [
    {
      "cell_type": "markdown",
      "metadata": {
        "id": "view-in-github",
        "colab_type": "text"
      },
      "source": [
        "<a href=\"https://colab.research.google.com/github/godud2604/AI-bootcamp/blob/main/%08DB.ipynb\" target=\"_parent\"><img src=\"https://colab.research.google.com/assets/colab-badge.svg\" alt=\"Open In Colab\"/></a>"
      ]
    },
    {
      "cell_type": "code",
      "execution_count": null,
      "metadata": {
        "id": "HB4Xevcca66G"
      },
      "outputs": [],
      "source": [
        "import sqlite3"
      ]
    },
    {
      "cell_type": "code",
      "source": [
        "from google.colab import drive\n",
        "drive.mount('/content/drive')"
      ],
      "metadata": {
        "colab": {
          "base_uri": "https://localhost:8080/"
        },
        "id": "_BqfM62ba9JQ",
        "outputId": "a4fb3f83-0622-47e5-8860-024ebb37bede"
      },
      "execution_count": null,
      "outputs": [
        {
          "output_type": "stream",
          "name": "stdout",
          "text": [
            "Mounted at /content/drive\n"
          ]
        }
      ]
    },
    {
      "cell_type": "code",
      "source": [
        "DB = '/content/drive/MyDrive/biodata/myDB.db'"
      ],
      "metadata": {
        "id": "9mB3khrnbBCZ"
      },
      "execution_count": null,
      "outputs": []
    },
    {
      "cell_type": "code",
      "source": [
        "con = sqlite3.connect( DB )\n",
        "\n",
        "cur = con.cursor()\n",
        "cur.execute(\"\"\"SELECT *\n",
        "               FROM productTable \"\"\")\n",
        "print(\"-------------------------------------------\")\n",
        "print(\"제품ID    제품이름              가격       수량\")\n",
        "print(\"-------------------------------------------\")\n",
        "\n",
        "while True:\n",
        "  row = cur.fetchone()\n",
        "  if row == None:\n",
        "    break\n",
        "\n",
        "  print(\"%-10s %-15s %-10d %-d\" %\n",
        "        (row[0], row[1], row[2], row[3]))\n",
        "\n",
        "\n",
        "print()\n",
        "\n",
        "cur.execute(\"\"\"SELECT *\n",
        "               FROM productTable\n",
        "               WHERE amount < 50 \"\"\")\n",
        "print(\"-------------------------------------------\")\n",
        "print(\"제품ID    제품이름              가격       수량\")\n",
        "print(\"-------------------------------------------\")\n",
        "\n",
        "while True:\n",
        "  row = cur.fetchone() # generator\n",
        "  if row == None:\n",
        "    break\n",
        "\n",
        "  print(\"%-10s %-15s %-10d %-d\" %\n",
        "        (row[0], row[1], row[2], row[3]))\n",
        "\n",
        "\n",
        "print()\n",
        "\n",
        "cur.execute(\"\"\"SELECT pCode, COUNT(*)\n",
        "               FROM salesTable\n",
        "               GROUP BY pCode \"\"\")\n",
        "print(\"-------------------------------------------\")\n",
        "print(\"제품ID    판매건수    \")\n",
        "print(\"-------------------------------------------\")\n",
        "\n",
        "while True:\n",
        "  row = cur.fetchone() # generator\n",
        "  if row == None:\n",
        "    break\n",
        "\n",
        "  print(\"%-10s  %-10d\" % (row[0], row[1]))\n",
        "\n",
        "print()\n",
        "\n",
        "cur.execute(\"\"\"SELECT userTable.userName, productTable.pName, salesTable.saleYear,\n",
        "               salesTable.saleAmount, userTable.email\n",
        "               FROM userTable, productTable, salesTable\n",
        "               WHERE userTable.id = salesTable.id AND productTable.pCode = salesTable.pCode\"\"\")\n",
        "print(\"----------------------------------------------------------------\")\n",
        "print(\"고객명       제품이름        판매연도    판매수량           고객이메일    \")\n",
        "print(\"----------------------------------------------------------------\")\n",
        "\n",
        "while True:\n",
        "  row = cur.fetchone() # generator\n",
        "  if row == None:\n",
        "    break\n",
        "\n",
        "  print(\"%-10s  %-10s  %-10d  %-10d  %s\" % (row[0], row[1], row[2], row[3], row[4]))\n",
        "\n",
        "con.close() # DB 종료\n"
      ],
      "metadata": {
        "colab": {
          "base_uri": "https://localhost:8080/"
        },
        "id": "2Auiubr0bIwW",
        "outputId": "3093d3dc-f8c3-4a7a-9ddb-6f3b71d24dbe"
      },
      "execution_count": null,
      "outputs": [
        {
          "output_type": "stream",
          "name": "stdout",
          "text": [
            "-------------------------------------------\n",
            "제품ID    제품이름              가격       수량\n",
            "-------------------------------------------\n",
            "p0001      노트북             1200000    25\n",
            "p0002      마우스             10000      300\n",
            "p0003      키보드             14000      100\n",
            "\n",
            "-------------------------------------------\n",
            "제품ID    제품이름              가격       수량\n",
            "-------------------------------------------\n",
            "p0001      노트북             1200000    25\n",
            "\n",
            "-------------------------------------------\n",
            "제품ID    판매건수    \n",
            "-------------------------------------------\n",
            "p0001       2         \n",
            "p0002       4         \n",
            "p0003       1         \n",
            "\n",
            "----------------------------------------------------------------\n",
            "고객명       제품이름        판매연도    판매수량           고객이메일    \n",
            "----------------------------------------------------------------\n",
            "John Bann   마우스         2020        1           john@naver.com\n",
            "Kim Chi     노트북         2021        2           kim@daum.net\n",
            "Kim Chi     마우스         2019        2           kim@daum.net\n",
            "Lee Chingu  키보드         2020        1           lee@gmail.com\n",
            "Park Su     노트북         2020        1           park@hotmail.com\n",
            "Park Su     마우스         2019        2           park@hotmail.com\n",
            "Park Su     마우스         2021        3           park@hotmail.com\n"
          ]
        }
      ]
    },
    {
      "cell_type": "markdown",
      "source": [
        "# 새 섹션"
      ],
      "metadata": {
        "id": "T29iONlKmy3G"
      }
    },
    {
      "cell_type": "markdown",
      "source": [
        "# 새 섹션"
      ],
      "metadata": {
        "id": "yadj2S4rmy-I"
      }
    },
    {
      "cell_type": "code",
      "source": [],
      "metadata": {
        "id": "AvzhUQ3TbMgr"
      },
      "execution_count": null,
      "outputs": []
    }
  ]
}