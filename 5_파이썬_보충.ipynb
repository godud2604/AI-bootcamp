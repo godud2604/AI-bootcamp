{
  "nbformat": 4,
  "nbformat_minor": 0,
  "metadata": {
    "colab": {
      "provenance": [],
      "include_colab_link": true
    },
    "kernelspec": {
      "name": "python3",
      "display_name": "Python 3"
    },
    "language_info": {
      "name": "python"
    }
  },
  "cells": [
    {
      "cell_type": "markdown",
      "metadata": {
        "id": "view-in-github",
        "colab_type": "text"
      },
      "source": [
        "<a href=\"https://colab.research.google.com/github/godud2604/AI-bootcamp/blob/main/%ED%8C%8C%EC%9D%B4%EC%8D%AC_%EB%B3%B4%EC%B6%A9.ipynb\" target=\"_parent\"><img src=\"https://colab.research.google.com/assets/colab-badge.svg\" alt=\"Open In Colab\"/></a>"
      ]
    },
    {
      "cell_type": "code",
      "execution_count": 2,
      "metadata": {
        "id": "_hc1X8EmumFe"
      },
      "outputs": [],
      "source": [
        "import numpy as np"
      ]
    },
    {
      "cell_type": "code",
      "source": [
        "a = np.arange( 10)\n",
        "a"
      ],
      "metadata": {
        "colab": {
          "base_uri": "https://localhost:8080/"
        },
        "id": "sXfTiPBuuwZJ",
        "outputId": "384c0a1f-3ec1-40a5-b630-26fbc740c051"
      },
      "execution_count": 3,
      "outputs": [
        {
          "output_type": "execute_result",
          "data": {
            "text/plain": [
              "array([0, 1, 2, 3, 4, 5, 6, 7, 8, 9])"
            ]
          },
          "metadata": {},
          "execution_count": 3
        }
      ]
    },
    {
      "cell_type": "code",
      "source": [
        "a > 5"
      ],
      "metadata": {
        "colab": {
          "base_uri": "https://localhost:8080/"
        },
        "id": "lHChw1IRu4LH",
        "outputId": "05552ce2-8653-419f-efcb-b7deceed0f9e"
      },
      "execution_count": 4,
      "outputs": [
        {
          "output_type": "execute_result",
          "data": {
            "text/plain": [
              "array([False, False, False, False, False, False,  True,  True,  True,\n",
              "        True])"
            ]
          },
          "metadata": {},
          "execution_count": 4
        }
      ]
    },
    {
      "cell_type": "code",
      "source": [
        "# filtering\n",
        "x = a>5\n",
        "a[ x ]"
      ],
      "metadata": {
        "colab": {
          "base_uri": "https://localhost:8080/"
        },
        "id": "UGA9SySevJ0I",
        "outputId": "862d5751-a912-4c0b-96d6-78fd2c3396b7"
      },
      "execution_count": 5,
      "outputs": [
        {
          "output_type": "execute_result",
          "data": {
            "text/plain": [
              "array([6, 7, 8, 9])"
            ]
          },
          "metadata": {},
          "execution_count": 5
        }
      ]
    },
    {
      "cell_type": "code",
      "source": [
        "a[ a>5 ]"
      ],
      "metadata": {
        "colab": {
          "base_uri": "https://localhost:8080/"
        },
        "id": "bUdoM0qEvaEY",
        "outputId": "79cd698b-5bb0-4a0a-89e4-17211caff32a"
      },
      "execution_count": 6,
      "outputs": [
        {
          "output_type": "execute_result",
          "data": {
            "text/plain": [
              "array([6, 7, 8, 9])"
            ]
          },
          "metadata": {},
          "execution_count": 6
        }
      ]
    },
    {
      "cell_type": "code",
      "source": [
        "a[ a>5 ] = -1"
      ],
      "metadata": {
        "id": "W184pZN3KlO6"
      },
      "execution_count": 7,
      "outputs": []
    },
    {
      "cell_type": "code",
      "source": [
        "a"
      ],
      "metadata": {
        "id": "gBzzJ0T1L124",
        "outputId": "4944e6c4-b99b-4616-f232-904e6c8e3db5",
        "colab": {
          "base_uri": "https://localhost:8080/"
        }
      },
      "execution_count": 8,
      "outputs": [
        {
          "output_type": "execute_result",
          "data": {
            "text/plain": [
              "array([ 0,  1,  2,  3,  4,  5, -1, -1, -1, -1])"
            ]
          },
          "metadata": {},
          "execution_count": 8
        }
      ]
    },
    {
      "cell_type": "code",
      "source": [
        "for i in range(5): #i=0 -> i=1 -> i=2\n",
        "    print(i)"
      ],
      "metadata": {
        "colab": {
          "base_uri": "https://localhost:8080/"
        },
        "id": "d5cb11b9vpZ-",
        "outputId": "aa70a707-dabb-4141-aac1-4c4279e620a1"
      },
      "execution_count": null,
      "outputs": [
        {
          "output_type": "stream",
          "name": "stdout",
          "text": [
            "0\n",
            "1\n",
            "2\n",
            "3\n",
            "4\n"
          ]
        }
      ]
    },
    {
      "cell_type": "code",
      "source": [
        "dataset = [(1,2), (3, 4)]\n",
        "for x in dataset:  # x=(1,2) -> x=(3,4)\n",
        "    print(x)"
      ],
      "metadata": {
        "colab": {
          "base_uri": "https://localhost:8080/"
        },
        "id": "QyVahG-317IX",
        "outputId": "d8f3cc76-82aa-4bf1-f5da-fe5dd61a1efe"
      },
      "execution_count": null,
      "outputs": [
        {
          "output_type": "stream",
          "name": "stdout",
          "text": [
            "(1, 2)\n",
            "(3, 4)\n"
          ]
        }
      ]
    },
    {
      "cell_type": "code",
      "source": [
        "dataset = [(1,2), (3, 4)]\n",
        "for x, y in dataset:  # x, y =(1,2) -> x, y=(3,4)\n",
        "    print(x)"
      ],
      "metadata": {
        "colab": {
          "base_uri": "https://localhost:8080/"
        },
        "id": "akRuNWLK2Jl2",
        "outputId": "3c921816-49ad-4cde-c1f3-cb58e8c13a9c"
      },
      "execution_count": null,
      "outputs": [
        {
          "output_type": "stream",
          "name": "stdout",
          "text": [
            "1\n",
            "3\n"
          ]
        }
      ]
    },
    {
      "cell_type": "code",
      "source": [
        "x, y = 1,2\n",
        "print(x, y)"
      ],
      "metadata": {
        "colab": {
          "base_uri": "https://localhost:8080/"
        },
        "id": "PQz9VIiC2UyO",
        "outputId": "04e77e4e-236b-4319-f72f-110dee875567"
      },
      "execution_count": null,
      "outputs": [
        {
          "output_type": "stream",
          "name": "stdout",
          "text": [
            "1 2\n"
          ]
        }
      ]
    },
    {
      "cell_type": "code",
      "source": [
        "number = 15\n",
        "print( f'값: {number : d}' )"
      ],
      "metadata": {
        "colab": {
          "base_uri": "https://localhost:8080/"
        },
        "id": "Eg0niUMm2WhG",
        "outputId": "e211e8e0-c7b4-49f7-ca61-b00246dc9e30"
      },
      "execution_count": null,
      "outputs": [
        {
          "output_type": "stream",
          "name": "stdout",
          "text": [
            "값:  15\n"
          ]
        }
      ]
    },
    {
      "cell_type": "code",
      "source": [
        "a = np.array([1,5,9,4,3])\n",
        "a"
      ],
      "metadata": {
        "colab": {
          "base_uri": "https://localhost:8080/"
        },
        "id": "YcWXVdzV47WG",
        "outputId": "76d90dc7-7764-422b-f875-df9b27f06f27"
      },
      "execution_count": null,
      "outputs": [
        {
          "output_type": "execute_result",
          "data": {
            "text/plain": [
              "array([1, 5, 9, 4, 3])"
            ]
          },
          "metadata": {},
          "execution_count": 13
        }
      ]
    },
    {
      "cell_type": "code",
      "source": [
        "a.max()"
      ],
      "metadata": {
        "colab": {
          "base_uri": "https://localhost:8080/"
        },
        "id": "u58uTvok7gYH",
        "outputId": "013a3818-4ea9-4559-fc6e-a104bb9442d2"
      },
      "execution_count": null,
      "outputs": [
        {
          "output_type": "execute_result",
          "data": {
            "text/plain": [
              "9"
            ]
          },
          "metadata": {},
          "execution_count": 14
        }
      ]
    },
    {
      "cell_type": "code",
      "source": [
        "a.argmax()"
      ],
      "metadata": {
        "colab": {
          "base_uri": "https://localhost:8080/"
        },
        "id": "eBPEyQjj7h6W",
        "outputId": "00983b93-fe67-4701-b946-3622c1258284"
      },
      "execution_count": null,
      "outputs": [
        {
          "output_type": "execute_result",
          "data": {
            "text/plain": [
              "2"
            ]
          },
          "metadata": {},
          "execution_count": 15
        }
      ]
    },
    {
      "cell_type": "code",
      "source": [
        "a[  a.argmax() ]"
      ],
      "metadata": {
        "colab": {
          "base_uri": "https://localhost:8080/"
        },
        "id": "CBa8z2S07nTW",
        "outputId": "92a30dd1-facb-4918-a8d9-5fcc996975a6"
      },
      "execution_count": null,
      "outputs": [
        {
          "output_type": "execute_result",
          "data": {
            "text/plain": [
              "9"
            ]
          },
          "metadata": {},
          "execution_count": 16
        }
      ]
    },
    {
      "cell_type": "code",
      "source": [
        "b = [1, 2,3, 5]\n",
        "b.index( 2)"
      ],
      "metadata": {
        "colab": {
          "base_uri": "https://localhost:8080/"
        },
        "id": "YkFzDu9r7wfm",
        "outputId": "8a21d1ee-8903-4b32-f099-b511437d2b65"
      },
      "execution_count": null,
      "outputs": [
        {
          "output_type": "execute_result",
          "data": {
            "text/plain": [
              "1"
            ]
          },
          "metadata": {},
          "execution_count": 18
        }
      ]
    },
    {
      "cell_type": "code",
      "source": [
        "s = 'abcd'"
      ],
      "metadata": {
        "id": "WvpE7mdr73zm"
      },
      "execution_count": null,
      "outputs": []
    },
    {
      "cell_type": "code",
      "source": [
        "s"
      ],
      "metadata": {
        "colab": {
          "base_uri": "https://localhost:8080/",
          "height": 37
        },
        "id": "uzkRHEUscgqj",
        "outputId": "2f86bcc6-b844-457a-a685-470f99b6a515"
      },
      "execution_count": null,
      "outputs": [
        {
          "output_type": "execute_result",
          "data": {
            "text/plain": [
              "'abcd'"
            ],
            "application/vnd.google.colaboratory.intrinsic+json": {
              "type": "string"
            }
          },
          "metadata": {},
          "execution_count": 2
        }
      ]
    },
    {
      "cell_type": "code",
      "source": [
        "spam = 15\n",
        "print( spam  )"
      ],
      "metadata": {
        "colab": {
          "base_uri": "https://localhost:8080/"
        },
        "id": "ar-3FiFZchbT",
        "outputId": "caaa0dff-3e71-497a-80e3-c4a085c7f1f9"
      },
      "execution_count": null,
      "outputs": [
        {
          "output_type": "stream",
          "name": "stdout",
          "text": [
            "15\n"
          ]
        }
      ]
    },
    {
      "cell_type": "code",
      "source": [
        "f'{spam}'  #f-string"
      ],
      "metadata": {
        "colab": {
          "base_uri": "https://localhost:8080/",
          "height": 37
        },
        "id": "zDcUwkB9c_W5",
        "outputId": "39ae0c87-9728-451b-c49b-71c6b3452b3b"
      },
      "execution_count": null,
      "outputs": [
        {
          "output_type": "execute_result",
          "data": {
            "text/plain": [
              "'15'"
            ],
            "application/vnd.google.colaboratory.intrinsic+json": {
              "type": "string"
            }
          },
          "metadata": {},
          "execution_count": 5
        }
      ]
    },
    {
      "cell_type": "code",
      "source": [
        "print('변수의 값은 spam입니다.')"
      ],
      "metadata": {
        "colab": {
          "base_uri": "https://localhost:8080/"
        },
        "id": "KMEXMu_scoGS",
        "outputId": "391a8baa-224b-432a-b91b-5bb2fd49ad01"
      },
      "execution_count": null,
      "outputs": [
        {
          "output_type": "stream",
          "name": "stdout",
          "text": [
            "변수의 값은 spam입니다.\n"
          ]
        }
      ]
    },
    {
      "cell_type": "code",
      "source": [
        "print(f'변수의 값은 {spam}입니다.')"
      ],
      "metadata": {
        "colab": {
          "base_uri": "https://localhost:8080/"
        },
        "id": "pa-1Kw5adGw3",
        "outputId": "0a5e3a22-cbe7-4813-914a-fa32694ad225"
      },
      "execution_count": null,
      "outputs": [
        {
          "output_type": "stream",
          "name": "stdout",
          "text": [
            "변수의 값은 15입니다.\n"
          ]
        }
      ]
    },
    {
      "cell_type": "code",
      "source": [
        "a = 3\n",
        "if a > 5:\n",
        "    rst = 1\n",
        "else:\n",
        "    rst = 0\n",
        "print(f'결과: {rst}' )"
      ],
      "metadata": {
        "colab": {
          "base_uri": "https://localhost:8080/"
        },
        "id": "wdOM4D29snQY",
        "outputId": "e7a43da1-e6e9-4b9a-8d6c-e159c8e9f7d7"
      },
      "execution_count": null,
      "outputs": [
        {
          "output_type": "stream",
          "name": "stdout",
          "text": [
            "결과: 0\n"
          ]
        }
      ]
    },
    {
      "cell_type": "code",
      "source": [
        "a = 10\n",
        "rst = 1 if a > 5 else 0\n",
        "print(f'결과: {rst}' )"
      ],
      "metadata": {
        "colab": {
          "base_uri": "https://localhost:8080/"
        },
        "id": "qiEM9st3tT6q",
        "outputId": "d92fa1e1-6f57-4961-d663-5281de76d175"
      },
      "execution_count": null,
      "outputs": [
        {
          "output_type": "stream",
          "name": "stdout",
          "text": [
            "결과: 1\n"
          ]
        }
      ]
    },
    {
      "cell_type": "code",
      "source": [],
      "metadata": {
        "id": "7goCxjLmtTso"
      },
      "execution_count": null,
      "outputs": []
    },
    {
      "cell_type": "code",
      "source": [
        "import matplotlib.pyplot as plt\n",
        "import numpy as np"
      ],
      "metadata": {
        "id": "DUDYLoJv8qPB"
      },
      "execution_count": 13,
      "outputs": []
    },
    {
      "cell_type": "code",
      "source": [],
      "metadata": {
        "id": "x3BiJmtARjys"
      },
      "execution_count": null,
      "outputs": []
    },
    {
      "cell_type": "code",
      "source": [
        "x = np.arange(1,30)\n",
        "y = x**2\n",
        "y2 = x**2 + 5*x\n",
        "plt.plot(x, y,marker='+', markersize=5, color='b')\n",
        "plt.plot(x,y2,marker='o', markersize=5, color='r')\n",
        "plt.grid(True)\n",
        "plt.show()"
      ],
      "metadata": {
        "id": "ja23eZ2k8qEQ"
      },
      "execution_count": null,
      "outputs": []
    },
    {
      "cell_type": "code",
      "source": [
        "ar2 = np.array([[ 30, 40,  50,  60,  70,   80],\n",
        "                [110, 120, 130, 140, 150, 160],\n",
        "                [210, 215, 220, 225, 230, 235]])\n",
        "ar2"
      ],
      "metadata": {
        "id": "vaCYnx69840K",
        "outputId": "a40489d7-93ac-43e0-f264-eeed3e5a5171",
        "colab": {
          "base_uri": "https://localhost:8080/"
        }
      },
      "execution_count": 15,
      "outputs": [
        {
          "output_type": "execute_result",
          "data": {
            "text/plain": [
              "array([[ 30,  40,  50,  60,  70,  80],\n",
              "       [110, 120, 130, 140, 150, 160],\n",
              "       [210, 215, 220, 225, 230, 235]])"
            ]
          },
          "metadata": {},
          "execution_count": 15
        }
      ]
    },
    {
      "cell_type": "code",
      "source": [
        "ar2.shape"
      ],
      "metadata": {
        "id": "dUxpgCXpRPYB",
        "outputId": "2aff8321-83a0-4eeb-dc79-ea597d2de5df",
        "colab": {
          "base_uri": "https://localhost:8080/"
        }
      },
      "execution_count": 19,
      "outputs": [
        {
          "output_type": "execute_result",
          "data": {
            "text/plain": [
              "(3, 6)"
            ]
          },
          "metadata": {},
          "execution_count": 19
        }
      ]
    },
    {
      "cell_type": "code",
      "source": [
        "ar3 = np.array([\n",
        "                [[200,20,30], [40,150,60]],\n",
        "\n",
        "                [[70,80,190], [100,100,100]]\n",
        "               ])\n",
        "ar3"
      ],
      "metadata": {
        "id": "q2ct_uqs85Yn",
        "outputId": "5cddaf23-e324-4a41-e478-ca6040dee6ac",
        "colab": {
          "base_uri": "https://localhost:8080/"
        }
      },
      "execution_count": 9,
      "outputs": [
        {
          "output_type": "execute_result",
          "data": {
            "text/plain": [
              "array([[[200,  20,  30],\n",
              "        [ 40, 150,  60]],\n",
              "\n",
              "       [[ 70,  80, 190],\n",
              "        [100, 100, 100]]])"
            ]
          },
          "metadata": {},
          "execution_count": 9
        }
      ]
    },
    {
      "cell_type": "code",
      "source": [
        "ar3.shape"
      ],
      "metadata": {
        "id": "7U5qTeD3PDyV",
        "outputId": "07ce172f-69a0-4c5c-e769-7fdeb74f4488",
        "colab": {
          "base_uri": "https://localhost:8080/"
        }
      },
      "execution_count": 11,
      "outputs": [
        {
          "output_type": "execute_result",
          "data": {
            "text/plain": [
              "(2, 2, 3)"
            ]
          },
          "metadata": {},
          "execution_count": 11
        }
      ]
    },
    {
      "cell_type": "code",
      "source": [
        "# 히스토그램\n",
        "# 변수가 하나인 단변수 데이터의 빈도수를 표현\n",
        "# => x축 : 같은 크기의 여러 구간\n",
        "# => y축 : 각 구간에 속하는 데이터 값의 개수\n",
        "plt.hist( ar2.flatten() , bins=10)\n",
        "plt.grid(True)\n",
        "plt.show()"
      ],
      "metadata": {
        "id": "YxbBaYBD8_YC",
        "outputId": "e9cf382f-866b-4e91-dd5b-83063299dd2d",
        "colab": {
          "base_uri": "https://localhost:8080/",
          "height": 430
        }
      },
      "execution_count": 17,
      "outputs": [
        {
          "output_type": "display_data",
          "data": {
            "text/plain": [
              "<Figure size 640x480 with 1 Axes>"
            ],
            "image/png": "[encoded data removed]"
          },
          "metadata": {}
        }
      ]
    },
    {
      "cell_type": "code",
      "source": [
        "plt.figure(figsize=(10, 5))\n",
        "plt.subplot(1,2,1)\n",
        "plt.title('Subplot: #1')\n",
        "plt.imshow( ar2 , cmap='gray', vmin=0, vmax=255)\n",
        "\n",
        "plt.subplot(1,2,2)\n",
        "plt.title('Subplot: #2')\n",
        "plt.imshow( ar2, cmap='gray' )\n",
        "plt.show()"
      ],
      "metadata": {
        "id": "ReS7s1WL9Dtr",
        "outputId": "f41b9c1c-634c-4a6b-8b41-f4b9ee7db629",
        "colab": {
          "base_uri": "https://localhost:8080/",
          "height": 252
        }
      },
      "execution_count": 16,
      "outputs": [
        {
          "output_type": "display_data",
          "data": {
            "text/plain": [
              "<Figure size 1000x500 with 2 Axes>"
            ],
            "image/png": "[encoded data removed]"
          },
          "metadata": {}
        }
      ]
    },
    {
      "cell_type": "code",
      "source": [
        "plt.figure(figsize=(3,3))\n",
        "plt.imshow( ar3 )\n",
        "plt.show()"
      ],
      "metadata": {
        "id": "Fh1_GBg49HsF",
        "outputId": "e524b3a3-d2b7-413a-d658-e8f669967f28",
        "colab": {
          "base_uri": "https://localhost:8080/",
          "height": 297
        }
      },
      "execution_count": 20,
      "outputs": [
        {
          "output_type": "display_data",
          "data": {
            "text/plain": [
              "<Figure size 300x300 with 1 Axes>"
            ],
            "image/png": "[encoded data removed]"
          },
          "metadata": {}
        }
      ]
    },
    {
      "cell_type": "code",
      "source": [
        "img = np.array([[0, 0, 0, 0, 0],\n",
        "                [0, 9, 9, 9, 0],\n",
        "                [0, 9, 9, 9, 0],\n",
        "                [0, 9, 9, 9, 9],\n",
        "                [0, 0, 0, 0, 0]])\n",
        "mask = img > 7\n",
        "print(mask)\n"
      ],
      "metadata": {
        "id": "_Ns53hKZdRaZ"
      },
      "execution_count": null,
      "outputs": []
    },
    {
      "cell_type": "code",
      "source": [
        "grid = np.ix_(mask.any(axis=1), mask.any(axis=0))\n",
        "print(grid)"
      ],
      "metadata": {
        "id": "U7_alnbE8Udx"
      },
      "execution_count": null,
      "outputs": []
    },
    {
      "cell_type": "code",
      "source": [
        "print(img[grid])"
      ],
      "metadata": {
        "id": "4JDWE5jp8VrM"
      },
      "execution_count": null,
      "outputs": []
    }
  ]
}