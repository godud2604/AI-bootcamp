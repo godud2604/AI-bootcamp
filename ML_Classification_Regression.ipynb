{
  "cells": [
    {
      "cell_type": "markdown",
      "metadata": {
        "id": "view-in-github",
        "colab_type": "text"
      },
      "source": [
        "<a href=\"https://colab.research.google.com/github/godud2604/AI-bootcamp/blob/main/ML_Classification_Regression.ipynb\" target=\"_parent\"><img src=\"https://colab.research.google.com/assets/colab-badge.svg\" alt=\"Open In Colab\"/></a>"
      ]
    },
    {
      "cell_type": "code",
      "execution_count": 29,
      "metadata": {
        "id": "MuwRaAM5lejm"
      },
      "outputs": [],
      "source": [
        "import numpy as np\n",
        "import pandas as pd\n",
        "import matplotlib.pyplot as plt\n",
        "from matplotlib.cm import rainbow\n",
        "import seaborn as sns; sns.set()\n",
        "from sklearn.metrics import classification_report, confusion_matrix\n",
        "import warnings\n",
        "warnings.filterwarnings('ignore')\n",
        "\n",
        "from sklearn.model_selection import train_test_split\n",
        "from sklearn.preprocessing import StandardScaler, MinMaxScaler\n",
        "from sklearn import metrics"
      ]
    },
    {
      "cell_type": "markdown",
      "metadata": {
        "id": "VzDLWU3plejk"
      },
      "source": [
        "# 1. Classification"
      ]
    },
    {
      "cell_type": "markdown",
      "metadata": {
        "id": "T5sIS-DXlejn"
      },
      "source": [
        "### Machine Learning algorithms\n",
        "1. K Neighbors Classifier\n",
        "2. Support Vector Classifier\n",
        "3. Naive Bayes\n",
        "4. Decision Tree Classifier\n",
        "5. Random Forest Classifier\n",
        "6. Logistic Regression\n",
        "7. Ensembles"
      ]
    },
    {
      "cell_type": "code",
      "execution_count": 30,
      "metadata": {
        "id": "xBC40dWylejn"
      },
      "outputs": [],
      "source": [
        "from sklearn.neighbors import KNeighborsClassifier\n",
        "from sklearn.svm import SVC\n",
        "from sklearn.tree import DecisionTreeClassifier\n",
        "from sklearn.ensemble import RandomForestClassifier"
      ]
    },
    {
      "cell_type": "code",
      "execution_count": 31,
      "metadata": {
        "colab": {
          "base_uri": "https://localhost:8080/"
        },
        "id": "TlQ6welPmSQw",
        "outputId": "f33acace-9414-4ff8-b4a6-de0ed4b615e6"
      },
      "outputs": [
        {
          "output_type": "stream",
          "name": "stdout",
          "text": [
            "Drive already mounted at /content/drive; to attempt to forcibly remount, call drive.mount(\"/content/drive\", force_remount=True).\n"
          ]
        }
      ],
      "source": [
        "from google.colab import drive\n",
        "drive.mount('/content/drive')"
      ]
    },
    {
      "cell_type": "code",
      "execution_count": 32,
      "metadata": {
        "id": "eIWEiZnOlejn"
      },
      "outputs": [],
      "source": [
        "PATH= '/content/drive/MyDrive/biodata/'"
      ]
    },
    {
      "cell_type": "markdown",
      "metadata": {
        "id": "RZkr3OMTlejn"
      },
      "source": [
        "### Import dataset"
      ]
    },
    {
      "cell_type": "markdown",
      "metadata": {
        "id": "_OkeeYm0lejm"
      },
      "source": [
        "- https://www.kaggle.com/datasets/johnsmith88/heart-disease-dataset\n",
        "\n",
        "**Variables or features explanations:**\n",
        "1. **age**, years of age\n",
        "2. **sex**, gender\n",
        "  * 0: female.\n",
        "  * 1: male.\n",
        "3. **cp**, chest pain type.\n",
        "  * 0: Typical angina(angina: 협심증)\n",
        "  * 1: Atypical angina\n",
        "  * 2: Non-anginal pain\n",
        "  * 3: Asymptomatic (무증상)\n",
        "4. **trestbps**, resting blood pressure (in mm Hg upon admission to the hospital).\n",
        "5. **chol**,serum cholesterol level in mg/dl.\n",
        "6. **fbs**,  fasting blood sugar > 120 mg/dl.\n",
        "  * 0: no.\n",
        "  * 1: yes.\n",
        "7. **restecg**,resting electrocardiographic results.\n",
        "  * 0: normal.\n",
        "  * 1: having ST-T wave abnormality (inverted T wave and/or ST elevation or depression > 0.05 mV).\n",
        "  * 2: showing probable or definite left ventricular hypertrophy(좌심실비대) by Estes' criteria.\n",
        "8. **thalach**, tmaximum heart rate achieved.\n",
        "9. **exang**, exercise-induced angina.\n",
        "  * 0: no.\n",
        "  * 1: yes.\n",
        "10. **oldpeak**, ST depression induced by exercise relative to rest.\n",
        "11. **slope**, slope of the peak exercise ST segment.\n",
        "  * 0: upsloping.\n",
        "  * 1: flat.\n",
        "  * 2: downsloping.\n",
        "12. **ca**, number of major vessels (0-3) colored by fluoroscopy(형광투시법).\n",
        "13. **thal**, thalassemia(지중해 빈혈증).\n",
        "  * 0: none.\n",
        "  * 1: normal.\n",
        "  * 2: fixed defect.\n",
        "  * 3: reversible defect.\n",
        "14. **target**, diagnosis of heart disease.\n",
        "  * 0: no heart disease diagnosed.\n",
        "  * 1: heart disease diagnosed."
      ]
    },
    {
      "cell_type": "code",
      "execution_count": 33,
      "metadata": {
        "id": "KOTn-Zx9lejo"
      },
      "outputs": [],
      "source": [
        "dataset = pd.read_csv(PATH+'heart.csv')"
      ]
    },
    {
      "cell_type": "code",
      "execution_count": 34,
      "metadata": {
        "colab": {
          "base_uri": "https://localhost:8080/"
        },
        "id": "iBf9Kkg5lejo",
        "outputId": "dd516081-e4c6-41eb-f4fc-5362730807a3"
      },
      "outputs": [
        {
          "output_type": "stream",
          "name": "stdout",
          "text": [
            "<class 'pandas.core.frame.DataFrame'>\n",
            "RangeIndex: 1025 entries, 0 to 1024\n",
            "Data columns (total 14 columns):\n",
            " #   Column    Non-Null Count  Dtype  \n",
            "---  ------    --------------  -----  \n",
            " 0   age       1025 non-null   int64  \n",
            " 1   sex       1025 non-null   int64  \n",
            " 2   cp        1025 non-null   int64  \n",
            " 3   trestbps  1025 non-null   int64  \n",
            " 4   chol      1025 non-null   int64  \n",
            " 5   fbs       1025 non-null   int64  \n",
            " 6   restecg   1025 non-null   int64  \n",
            " 7   thalach   1025 non-null   int64  \n",
            " 8   exang     1025 non-null   int64  \n",
            " 9   oldpeak   1025 non-null   float64\n",
            " 10  slope     1025 non-null   int64  \n",
            " 11  ca        1025 non-null   int64  \n",
            " 12  thal      1025 non-null   int64  \n",
            " 13  target    1025 non-null   int64  \n",
            "dtypes: float64(1), int64(13)\n",
            "memory usage: 112.2 KB\n"
          ]
        }
      ],
      "source": [
        "dataset.info()"
      ]
    },
    {
      "cell_type": "code",
      "source": [
        "# True인 것은 중복된 값이 있다는 것\n",
        "dataset.duplicated()"
      ],
      "metadata": {
        "id": "O_1NnZrOett_",
        "outputId": "636500d6-9259-40ef-e8fa-4b4899f1e1f3",
        "colab": {
          "base_uri": "https://localhost:8080/"
        }
      },
      "execution_count": 35,
      "outputs": [
        {
          "output_type": "execute_result",
          "data": {
            "text/plain": [
              "0       False\n",
              "1       False\n",
              "2       False\n",
              "3       False\n",
              "4       False\n",
              "        ...  \n",
              "1020     True\n",
              "1021     True\n",
              "1022     True\n",
              "1023     True\n",
              "1024     True\n",
              "Length: 1025, dtype: bool"
            ]
          },
          "metadata": {},
          "execution_count": 35
        }
      ]
    },
    {
      "cell_type": "code",
      "source": [
        "# 중복된 데이터가 몇개가 있는지 체크\n",
        "dataset.duplicated().sum()"
      ],
      "metadata": {
        "id": "rFE86PEPfHis",
        "outputId": "3894d51d-b8f2-4e0c-d6ea-5a247589cc03",
        "colab": {
          "base_uri": "https://localhost:8080/"
        }
      },
      "execution_count": 36,
      "outputs": [
        {
          "output_type": "execute_result",
          "data": {
            "text/plain": [
              "723"
            ]
          },
          "metadata": {},
          "execution_count": 36
        }
      ]
    },
    {
      "cell_type": "code",
      "execution_count": 37,
      "metadata": {
        "colab": {
          "base_uri": "https://localhost:8080/"
        },
        "id": "cJeekaiNlejp",
        "outputId": "95238a0f-3078-4a66-9010-f764fb96d769"
      },
      "outputs": [
        {
          "output_type": "stream",
          "name": "stdout",
          "text": [
            "<class 'pandas.core.frame.DataFrame'>\n",
            "Int64Index: 302 entries, 0 to 878\n",
            "Data columns (total 14 columns):\n",
            " #   Column    Non-Null Count  Dtype  \n",
            "---  ------    --------------  -----  \n",
            " 0   age       302 non-null    int64  \n",
            " 1   sex       302 non-null    int64  \n",
            " 2   cp        302 non-null    int64  \n",
            " 3   trestbps  302 non-null    int64  \n",
            " 4   chol      302 non-null    int64  \n",
            " 5   fbs       302 non-null    int64  \n",
            " 6   restecg   302 non-null    int64  \n",
            " 7   thalach   302 non-null    int64  \n",
            " 8   exang     302 non-null    int64  \n",
            " 9   oldpeak   302 non-null    float64\n",
            " 10  slope     302 non-null    int64  \n",
            " 11  ca        302 non-null    int64  \n",
            " 12  thal      302 non-null    int64  \n",
            " 13  target    302 non-null    int64  \n",
            "dtypes: float64(1), int64(13)\n",
            "memory usage: 35.4 KB\n"
          ]
        }
      ],
      "source": [
        "# 중복된 데이터 삭제\n",
        "dataset.drop_duplicates( inplace = True ) # inplace => 데이터셋 내부를 바꾸는지\n",
        "dataset.info()"
      ]
    },
    {
      "cell_type": "code",
      "execution_count": 38,
      "metadata": {
        "id": "7UEPRa8ylejp"
      },
      "outputs": [],
      "source": [
        "dataset.to_csv(PATH+'heart_NOdup.csv', index=False)"
      ]
    },
    {
      "cell_type": "code",
      "execution_count": 39,
      "metadata": {
        "colab": {
          "base_uri": "https://localhost:8080/",
          "height": 320
        },
        "id": "KDX7p79_lejp",
        "outputId": "93d9eea7-e358-47fe-dff0-482e5b9aed42"
      },
      "outputs": [
        {
          "output_type": "execute_result",
          "data": {
            "text/plain": [
              "             age         sex          cp    trestbps        chol         fbs  \\\n",
              "count  302.00000  302.000000  302.000000  302.000000  302.000000  302.000000   \n",
              "mean    54.42053    0.682119    0.963576  131.602649  246.500000    0.149007   \n",
              "std      9.04797    0.466426    1.032044   17.563394   51.753489    0.356686   \n",
              "min     29.00000    0.000000    0.000000   94.000000  126.000000    0.000000   \n",
              "25%     48.00000    0.000000    0.000000  120.000000  211.000000    0.000000   \n",
              "50%     55.50000    1.000000    1.000000  130.000000  240.500000    0.000000   \n",
              "75%     61.00000    1.000000    2.000000  140.000000  274.750000    0.000000   \n",
              "max     77.00000    1.000000    3.000000  200.000000  564.000000    1.000000   \n",
              "\n",
              "          restecg     thalach       exang     oldpeak       slope          ca  \\\n",
              "count  302.000000  302.000000  302.000000  302.000000  302.000000  302.000000   \n",
              "mean     0.526490  149.569536    0.327815    1.043046    1.397351    0.718543   \n",
              "std      0.526027   22.903527    0.470196    1.161452    0.616274    1.006748   \n",
              "min      0.000000   71.000000    0.000000    0.000000    0.000000    0.000000   \n",
              "25%      0.000000  133.250000    0.000000    0.000000    1.000000    0.000000   \n",
              "50%      1.000000  152.500000    0.000000    0.800000    1.000000    0.000000   \n",
              "75%      1.000000  166.000000    1.000000    1.600000    2.000000    1.000000   \n",
              "max      2.000000  202.000000    1.000000    6.200000    2.000000    4.000000   \n",
              "\n",
              "             thal      target  \n",
              "count  302.000000  302.000000  \n",
              "mean     2.314570    0.543046  \n",
              "std      0.613026    0.498970  \n",
              "min      0.000000    0.000000  \n",
              "25%      2.000000    0.000000  \n",
              "50%      2.000000    1.000000  \n",
              "75%      3.000000    1.000000  \n",
              "max      3.000000    1.000000  "
            ],
            "text/html": [
              "\n",
              "  <div id=\"df-6780ce43-25d0-4d5c-8347-0b275f0e650e\" class=\"colab-df-container\">\n",
              "    <div>\n",
              "<style scoped>\n",
              "    .dataframe tbody tr th:only-of-type {\n",
              "        vertical-align: middle;\n",
              "    }\n",
              "\n",
              "    .dataframe tbody tr th {\n",
              "        vertical-align: top;\n",
              "    }\n",
              "\n",
              "    .dataframe thead th {\n",
              "        text-align: right;\n",
              "    }\n",
              "</style>\n",
              "<table border=\"1\" class=\"dataframe\">\n",
              "  <thead>\n",
              "    <tr style=\"text-align: right;\">\n",
              "      <th></th>\n",
              "      <th>age</th>\n",
              "      <th>sex</th>\n",
              "      <th>cp</th>\n",
              "      <th>trestbps</th>\n",
              "      <th>chol</th>\n",
              "      <th>fbs</th>\n",
              "      <th>restecg</th>\n",
              "      <th>thalach</th>\n",
              "      <th>exang</th>\n",
              "      <th>oldpeak</th>\n",
              "      <th>slope</th>\n",
              "      <th>ca</th>\n",
              "      <th>thal</th>\n",
              "      <th>target</th>\n",
              "    </tr>\n",
              "  </thead>\n",
              "  <tbody>\n",
              "    <tr>\n",
              "      <th>count</th>\n",
              "      <td>302.00000</td>\n",
              "      <td>302.000000</td>\n",
              "      <td>302.000000</td>\n",
              "      <td>302.000000</td>\n",
              "      <td>302.000000</td>\n",
              "      <td>302.000000</td>\n",
              "      <td>302.000000</td>\n",
              "      <td>302.000000</td>\n",
              "      <td>302.000000</td>\n",
              "      <td>302.000000</td>\n",
              "      <td>302.000000</td>\n",
              "      <td>302.000000</td>\n",
              "      <td>302.000000</td>\n",
              "      <td>302.000000</td>\n",
              "    </tr>\n",
              "    <tr>\n",
              "      <th>mean</th>\n",
              "      <td>54.42053</td>\n",
              "      <td>0.682119</td>\n",
              "      <td>0.963576</td>\n",
              "      <td>131.602649</td>\n",
              "      <td>246.500000</td>\n",
              "      <td>0.149007</td>\n",
              "      <td>0.526490</td>\n",
              "      <td>149.569536</td>\n",
              "      <td>0.327815</td>\n",
              "      <td>1.043046</td>\n",
              "      <td>1.397351</td>\n",
              "      <td>0.718543</td>\n",
              "      <td>2.314570</td>\n",
              "      <td>0.543046</td>\n",
              "    </tr>\n",
              "    <tr>\n",
              "      <th>std</th>\n",
              "      <td>9.04797</td>\n",
              "      <td>0.466426</td>\n",
              "      <td>1.032044</td>\n",
              "      <td>17.563394</td>\n",
              "      <td>51.753489</td>\n",
              "      <td>0.356686</td>\n",
              "      <td>0.526027</td>\n",
              "      <td>22.903527</td>\n",
              "      <td>0.470196</td>\n",
              "      <td>1.161452</td>\n",
              "      <td>0.616274</td>\n",
              "      <td>1.006748</td>\n",
              "      <td>0.613026</td>\n",
              "      <td>0.498970</td>\n",
              "    </tr>\n",
              "    <tr>\n",
              "      <th>min</th>\n",
              "      <td>29.00000</td>\n",
              "      <td>0.000000</td>\n",
              "      <td>0.000000</td>\n",
              "      <td>94.000000</td>\n",
              "      <td>126.000000</td>\n",
              "      <td>0.000000</td>\n",
              "      <td>0.000000</td>\n",
              "      <td>71.000000</td>\n",
              "      <td>0.000000</td>\n",
              "      <td>0.000000</td>\n",
              "      <td>0.000000</td>\n",
              "      <td>0.000000</td>\n",
              "      <td>0.000000</td>\n",
              "      <td>0.000000</td>\n",
              "    </tr>\n",
              "    <tr>\n",
              "      <th>25%</th>\n",
              "      <td>48.00000</td>\n",
              "      <td>0.000000</td>\n",
              "      <td>0.000000</td>\n",
              "      <td>120.000000</td>\n",
              "      <td>211.000000</td>\n",
              "      <td>0.000000</td>\n",
              "      <td>0.000000</td>\n",
              "      <td>133.250000</td>\n",
              "      <td>0.000000</td>\n",
              "      <td>0.000000</td>\n",
              "      <td>1.000000</td>\n",
              "      <td>0.000000</td>\n",
              "      <td>2.000000</td>\n",
              "      <td>0.000000</td>\n",
              "    </tr>\n",
              "    <tr>\n",
              "      <th>50%</th>\n",
              "      <td>55.50000</td>\n",
              "      <td>1.000000</td>\n",
              "      <td>1.000000</td>\n",
              "      <td>130.000000</td>\n",
              "      <td>240.500000</td>\n",
              "      <td>0.000000</td>\n",
              "      <td>1.000000</td>\n",
              "      <td>152.500000</td>\n",
              "      <td>0.000000</td>\n",
              "      <td>0.800000</td>\n",
              "      <td>1.000000</td>\n",
              "      <td>0.000000</td>\n",
              "      <td>2.000000</td>\n",
              "      <td>1.000000</td>\n",
              "    </tr>\n",
              "    <tr>\n",
              "      <th>75%</th>\n",
              "      <td>61.00000</td>\n",
              "      <td>1.000000</td>\n",
              "      <td>2.000000</td>\n",
              "      <td>140.000000</td>\n",
              "      <td>274.750000</td>\n",
              "      <td>0.000000</td>\n",
              "      <td>1.000000</td>\n",
              "      <td>166.000000</td>\n",
              "      <td>1.000000</td>\n",
              "      <td>1.600000</td>\n",
              "      <td>2.000000</td>\n",
              "      <td>1.000000</td>\n",
              "      <td>3.000000</td>\n",
              "      <td>1.000000</td>\n",
              "    </tr>\n",
              "    <tr>\n",
              "      <th>max</th>\n",
              "      <td>77.00000</td>\n",
              "      <td>1.000000</td>\n",
              "      <td>3.000000</td>\n",
              "      <td>200.000000</td>\n",
              "      <td>564.000000</td>\n",
              "      <td>1.000000</td>\n",
              "      <td>2.000000</td>\n",
              "      <td>202.000000</td>\n",
              "      <td>1.000000</td>\n",
              "      <td>6.200000</td>\n",
              "      <td>2.000000</td>\n",
              "      <td>4.000000</td>\n",
              "      <td>3.000000</td>\n",
              "      <td>1.000000</td>\n",
              "    </tr>\n",
              "  </tbody>\n",
              "</table>\n",
              "</div>\n",
              "    <div class=\"colab-df-buttons\">\n",
              "\n",
              "  <div class=\"colab-df-container\">\n",
              "    <button class=\"colab-df-convert\" onclick=\"convertToInteractive('df-6780ce43-25d0-4d5c-8347-0b275f0e650e')\"\n",
              "            title=\"Convert this dataframe to an interactive table.\"\n",
              "            style=\"display:none;\">\n",
              "\n",
              "  <svg xmlns=\"http://www.w3.org/2000/svg\" height=\"24px\" viewBox=\"0 -960 960 960\">\n",
              "    <path d=\"M120-120v-720h720v720H120Zm60-500h600v-160H180v160Zm220 220h160v-160H400v160Zm0 220h160v-160H400v160ZM180-400h160v-160H180v160Zm440 0h160v-160H620v160ZM180-180h160v-160H180v160Zm440 0h160v-160H620v160Z\"/>\n",
              "  </svg>\n",
              "    </button>\n",
              "\n",
              "  <style>\n",
              "    .colab-df-container {\n",
              "      display:flex;\n",
              "      gap: 12px;\n",
              "    }\n",
              "\n",
              "    .colab-df-convert {\n",
              "      background-color: #E8F0FE;\n",
              "      border: none;\n",
              "      border-radius: 50%;\n",
              "      cursor: pointer;\n",
              "      display: none;\n",
              "      fill: #1967D2;\n",
              "      height: 32px;\n",
              "      padding: 0 0 0 0;\n",
              "      width: 32px;\n",
              "    }\n",
              "\n",
              "    .colab-df-convert:hover {\n",
              "      background-color: #E2EBFA;\n",
              "      box-shadow: 0px 1px 2px rgba(60, 64, 67, 0.3), 0px 1px 3px 1px rgba(60, 64, 67, 0.15);\n",
              "      fill: #174EA6;\n",
              "    }\n",
              "\n",
              "    .colab-df-buttons div {\n",
              "      margin-bottom: 4px;\n",
              "    }\n",
              "\n",
              "    [theme=dark] .colab-df-convert {\n",
              "      background-color: #3B4455;\n",
              "      fill: #D2E3FC;\n",
              "    }\n",
              "\n",
              "    [theme=dark] .colab-df-convert:hover {\n",
              "      background-color: #434B5C;\n",
              "      box-shadow: 0px 1px 3px 1px rgba(0, 0, 0, 0.15);\n",
              "      filter: drop-shadow(0px 1px 2px rgba(0, 0, 0, 0.3));\n",
              "      fill: #FFFFFF;\n",
              "    }\n",
              "  </style>\n",
              "\n",
              "    <script>\n",
              "      const buttonEl =\n",
              "        document.querySelector('#df-6780ce43-25d0-4d5c-8347-0b275f0e650e button.colab-df-convert');\n",
              "      buttonEl.style.display =\n",
              "        google.colab.kernel.accessAllowed ? 'block' : 'none';\n",
              "\n",
              "      async function convertToInteractive(key) {\n",
              "        const element = document.querySelector('#df-6780ce43-25d0-4d5c-8347-0b275f0e650e');\n",
              "        const dataTable =\n",
              "          await google.colab.kernel.invokeFunction('convertToInteractive',\n",
              "                                                    [key], {});\n",
              "        if (!dataTable) return;\n",
              "\n",
              "        const docLinkHtml = 'Like what you see? Visit the ' +\n",
              "          '<a target=\"_blank\" href=https://colab.research.google.com/notebooks/data_table.ipynb>data table notebook</a>'\n",
              "          + ' to learn more about interactive tables.';\n",
              "        element.innerHTML = '';\n",
              "        dataTable['output_type'] = 'display_data';\n",
              "        await google.colab.output.renderOutput(dataTable, element);\n",
              "        const docLink = document.createElement('div');\n",
              "        docLink.innerHTML = docLinkHtml;\n",
              "        element.appendChild(docLink);\n",
              "      }\n",
              "    </script>\n",
              "  </div>\n",
              "\n",
              "\n",
              "<div id=\"df-3fc48a81-89d9-49a1-91e3-da9cc33db66e\">\n",
              "  <button class=\"colab-df-quickchart\" onclick=\"quickchart('df-3fc48a81-89d9-49a1-91e3-da9cc33db66e')\"\n",
              "            title=\"Suggest charts.\"\n",
              "            style=\"display:none;\">\n",
              "\n",
              "<svg xmlns=\"http://www.w3.org/2000/svg\" height=\"24px\"viewBox=\"0 0 24 24\"\n",
              "     width=\"24px\">\n",
              "    <g>\n",
              "        <path d=\"M19 3H5c-1.1 0-2 .9-2 2v14c0 1.1.9 2 2 2h14c1.1 0 2-.9 2-2V5c0-1.1-.9-2-2-2zM9 17H7v-7h2v7zm4 0h-2V7h2v10zm4 0h-2v-4h2v4z\"/>\n",
              "    </g>\n",
              "</svg>\n",
              "  </button>\n",
              "\n",
              "<style>\n",
              "  .colab-df-quickchart {\n",
              "      --bg-color: #E8F0FE;\n",
              "      --fill-color: #1967D2;\n",
              "      --hover-bg-color: #E2EBFA;\n",
              "      --hover-fill-color: #174EA6;\n",
              "      --disabled-fill-color: #AAA;\n",
              "      --disabled-bg-color: #DDD;\n",
              "  }\n",
              "\n",
              "  [theme=dark] .colab-df-quickchart {\n",
              "      --bg-color: #3B4455;\n",
              "      --fill-color: #D2E3FC;\n",
              "      --hover-bg-color: #434B5C;\n",
              "      --hover-fill-color: #FFFFFF;\n",
              "      --disabled-bg-color: #3B4455;\n",
              "      --disabled-fill-color: #666;\n",
              "  }\n",
              "\n",
              "  .colab-df-quickchart {\n",
              "    background-color: var(--bg-color);\n",
              "    border: none;\n",
              "    border-radius: 50%;\n",
              "    cursor: pointer;\n",
              "    display: none;\n",
              "    fill: var(--fill-color);\n",
              "    height: 32px;\n",
              "    padding: 0;\n",
              "    width: 32px;\n",
              "  }\n",
              "\n",
              "  .colab-df-quickchart:hover {\n",
              "    background-color: var(--hover-bg-color);\n",
              "    box-shadow: 0 1px 2px rgba(60, 64, 67, 0.3), 0 1px 3px 1px rgba(60, 64, 67, 0.15);\n",
              "    fill: var(--button-hover-fill-color);\n",
              "  }\n",
              "\n",
              "  .colab-df-quickchart-complete:disabled,\n",
              "  .colab-df-quickchart-complete:disabled:hover {\n",
              "    background-color: var(--disabled-bg-color);\n",
              "    fill: var(--disabled-fill-color);\n",
              "    box-shadow: none;\n",
              "  }\n",
              "\n",
              "  .colab-df-spinner {\n",
              "    border: 2px solid var(--fill-color);\n",
              "    border-color: transparent;\n",
              "    border-bottom-color: var(--fill-color);\n",
              "    animation:\n",
              "      spin 1s steps(1) infinite;\n",
              "  }\n",
              "\n",
              "  @keyframes spin {\n",
              "    0% {\n",
              "      border-color: transparent;\n",
              "      border-bottom-color: var(--fill-color);\n",
              "      border-left-color: var(--fill-color);\n",
              "    }\n",
              "    20% {\n",
              "      border-color: transparent;\n",
              "      border-left-color: var(--fill-color);\n",
              "      border-top-color: var(--fill-color);\n",
              "    }\n",
              "    30% {\n",
              "      border-color: transparent;\n",
              "      border-left-color: var(--fill-color);\n",
              "      border-top-color: var(--fill-color);\n",
              "      border-right-color: var(--fill-color);\n",
              "    }\n",
              "    40% {\n",
              "      border-color: transparent;\n",
              "      border-right-color: var(--fill-color);\n",
              "      border-top-color: var(--fill-color);\n",
              "    }\n",
              "    60% {\n",
              "      border-color: transparent;\n",
              "      border-right-color: var(--fill-color);\n",
              "    }\n",
              "    80% {\n",
              "      border-color: transparent;\n",
              "      border-right-color: var(--fill-color);\n",
              "      border-bottom-color: var(--fill-color);\n",
              "    }\n",
              "    90% {\n",
              "      border-color: transparent;\n",
              "      border-bottom-color: var(--fill-color);\n",
              "    }\n",
              "  }\n",
              "</style>\n",
              "\n",
              "  <script>\n",
              "    async function quickchart(key) {\n",
              "      const quickchartButtonEl =\n",
              "        document.querySelector('#' + key + ' button');\n",
              "      quickchartButtonEl.disabled = true;  // To prevent multiple clicks.\n",
              "      quickchartButtonEl.classList.add('colab-df-spinner');\n",
              "      try {\n",
              "        const charts = await google.colab.kernel.invokeFunction(\n",
              "            'suggestCharts', [key], {});\n",
              "      } catch (error) {\n",
              "        console.error('Error during call to suggestCharts:', error);\n",
              "      }\n",
              "      quickchartButtonEl.classList.remove('colab-df-spinner');\n",
              "      quickchartButtonEl.classList.add('colab-df-quickchart-complete');\n",
              "    }\n",
              "    (() => {\n",
              "      let quickchartButtonEl =\n",
              "        document.querySelector('#df-3fc48a81-89d9-49a1-91e3-da9cc33db66e button');\n",
              "      quickchartButtonEl.style.display =\n",
              "        google.colab.kernel.accessAllowed ? 'block' : 'none';\n",
              "    })();\n",
              "  </script>\n",
              "</div>\n",
              "    </div>\n",
              "  </div>\n"
            ]
          },
          "metadata": {},
          "execution_count": 39
        }
      ],
      "source": [
        "dataset.describe()"
      ]
    },
    {
      "cell_type": "code",
      "execution_count": 40,
      "metadata": {
        "id": "SBZ8qmjqOkql",
        "outputId": "9793b148-4a64-4dbd-a2e7-a107d86fc06c",
        "colab": {
          "base_uri": "https://localhost:8080/"
        }
      },
      "outputs": [
        {
          "output_type": "execute_result",
          "data": {
            "text/plain": [
              "0      0\n",
              "1      0\n",
              "2      0\n",
              "3      0\n",
              "4      0\n",
              "      ..\n",
              "723    1\n",
              "733    1\n",
              "739    0\n",
              "843    0\n",
              "878    0\n",
              "Name: target, Length: 302, dtype: int64"
            ]
          },
          "metadata": {},
          "execution_count": 40
        }
      ],
      "source": [
        "dataset.target"
      ]
    },
    {
      "cell_type": "markdown",
      "metadata": {
        "id": "jEiTR37rlejq"
      },
      "source": [
        "### Data Preprocessing"
      ]
    },
    {
      "cell_type": "code",
      "execution_count": 41,
      "metadata": {
        "id": "U0H8skMVlejy",
        "outputId": "e55a4ef1-965e-4e76-a770-70a00b993fb8",
        "colab": {
          "base_uri": "https://localhost:8080/"
        }
      },
      "outputs": [
        {
          "output_type": "stream",
          "name": "stdout",
          "text": [
            "<class 'pandas.core.frame.DataFrame'> (202, 13) <class 'pandas.core.series.Series'> (202,)\n"
          ]
        }
      ],
      "source": [
        "y = dataset['target']\n",
        "x = dataset.drop(['target'], axis = 1 )\n",
        "x_train, x_test, y_train, y_test = train_test_split(x, y, test_size = 0.33 , random_state = 0 )\n",
        "print(  type(x_train), x_train.shape, type( y_train), y_train.shape)"
      ]
    },
    {
      "cell_type": "code",
      "source": [
        "x_train.hist( figsize=(10,10), bins=10 )\n",
        "plt.show()"
      ],
      "metadata": {
        "id": "5_EYvt4fjJLn",
        "outputId": "08ae074c-9c16-47b4-c77d-39d8fc01e766",
        "colab": {
          "base_uri": "https://localhost:8080/",
          "height": 857
        }
      },
      "execution_count": 42,
      "outputs": [
        {
          "output_type": "display_data",
          "data": {
            "text/plain": [
              "<Figure size 1000x1000 with 16 Axes>"
            ],
            "image/png": "[encoded data removed]"
          },
          "metadata": {}
        }
      ]
    },
    {
      "cell_type": "code",
      "execution_count": 43,
      "metadata": {
        "id": "vcJSUlEclejr"
      },
      "outputs": [],
      "source": [
        "# Standardization\n",
        "standard_scaler = StandardScaler()\n",
        "\n",
        "x_train_standard = x_train.copy()\n",
        "x_test_standard = x_test.copy()\n",
        "columns_to_scale =  x_train_standard.columns\n",
        "\n",
        "# [Q] fit_transform / trainsform 하는 이유\n",
        "x_train_standard[ columns_to_scale ] = standard_scaler.fit_transform( x_train_standard[ columns_to_scale ]  )\n",
        "x_test_standard[ columns_to_scale ] = standard_scaler.transform( x_test_standard[ columns_to_scale ]  )"
      ]
    },
    {
      "cell_type": "code",
      "source": [
        "x_train_standard.hist( figsize=(10,10), bins=10 )\n",
        "plt.show()"
      ],
      "metadata": {
        "id": "ulvzysrxjhql",
        "outputId": "fac1af6b-314c-44c2-aac3-33d0181757b6",
        "colab": {
          "base_uri": "https://localhost:8080/",
          "height": 857
        }
      },
      "execution_count": 44,
      "outputs": [
        {
          "output_type": "display_data",
          "data": {
            "text/plain": [
              "<Figure size 1000x1000 with 16 Axes>"
            ],
            "image/png": "[encoded data removed]"
          },
          "metadata": {}
        }
      ]
    },
    {
      "cell_type": "code",
      "execution_count": 45,
      "metadata": {
        "id": "21OgVyV4Okqm",
        "outputId": "c961aba8-9230-4d02-d728-6afaab6999c6",
        "colab": {
          "base_uri": "https://localhost:8080/",
          "height": 320
        }
      },
      "outputs": [
        {
          "output_type": "execute_result",
          "data": {
            "text/plain": [
              "                age           sex            cp      trestbps          chol  \\\n",
              "count  2.020000e+02  2.020000e+02  2.020000e+02  2.020000e+02  2.020000e+02   \n",
              "mean  -2.814031e-16 -1.472969e-16  2.198461e-17  6.243630e-16  1.385031e-16   \n",
              "std    1.002484e+00  1.002484e+00  1.002484e+00  1.002484e+00  1.002484e+00   \n",
              "min   -2.683328e+00 -1.468418e+00 -8.723014e-01 -2.140541e+00 -2.193071e+00   \n",
              "25%   -8.343946e-01 -1.468418e+00 -8.723014e-01 -5.849687e-01 -7.075052e-01   \n",
              "50%    4.987796e-02  6.810052e-01 -8.723014e-01  1.332840e-02 -9.956575e-02   \n",
              "75%    7.465775e-01  6.810052e-01  1.188574e+00  6.116255e-01  4.855188e-01   \n",
              "max    2.461530e+00  6.810052e-01  2.219012e+00  4.201408e+00  5.815273e+00   \n",
              "\n",
              "                fbs       restecg       thalach       exang       oldpeak  \\\n",
              "count  2.020000e+02  2.020000e+02  2.020000e+02  202.000000  2.020000e+02   \n",
              "mean   2.198461e-18 -1.934646e-16 -3.825323e-16    0.000000  1.187169e-16   \n",
              "std    1.002484e+00  1.002484e+00  1.002484e+00    1.002484  1.002484e+00   \n",
              "min   -4.094265e-01 -1.045893e+00 -2.666339e+00   -0.728219 -8.894456e-01   \n",
              "25%   -4.094265e-01 -1.045893e+00 -7.316161e-01   -0.728219 -8.894456e-01   \n",
              "50%   -4.094265e-01  8.237563e-01  1.478034e-01   -0.728219 -3.998870e-01   \n",
              "75%   -4.094265e-01  8.237563e-01  7.194262e-01    1.373213  5.792302e-01   \n",
              "max    2.442441e+00  2.693406e+00  2.346352e+00    1.373213  3.679768e+00   \n",
              "\n",
              "              slope            ca          thal  \n",
              "count  2.020000e+02  2.020000e+02  2.020000e+02  \n",
              "mean   1.319077e-16 -2.803038e-17  2.945938e-16  \n",
              "std    1.002484e+00  1.002484e+00  1.002484e+00  \n",
              "min   -2.256983e+00 -6.892581e-01 -3.884610e+00  \n",
              "25%   -6.228950e-01 -6.892581e-01 -5.525879e-01  \n",
              "50%   -6.228950e-01 -6.892581e-01 -5.525879e-01  \n",
              "75%    1.011193e+00  3.497728e-01  1.113423e+00  \n",
              "max    1.011193e+00  3.466865e+00  1.113423e+00  "
            ],
            "text/html": [
              "\n",
              "  <div id=\"df-5dd390da-b4e2-4cf9-8aec-167a3cd9fb44\" class=\"colab-df-container\">\n",
              "    <div>\n",
              "<style scoped>\n",
              "    .dataframe tbody tr th:only-of-type {\n",
              "        vertical-align: middle;\n",
              "    }\n",
              "\n",
              "    .dataframe tbody tr th {\n",
              "        vertical-align: top;\n",
              "    }\n",
              "\n",
              "    .dataframe thead th {\n",
              "        text-align: right;\n",
              "    }\n",
              "</style>\n",
              "<table border=\"1\" class=\"dataframe\">\n",
              "  <thead>\n",
              "    <tr style=\"text-align: right;\">\n",
              "      <th></th>\n",
              "      <th>age</th>\n",
              "      <th>sex</th>\n",
              "      <th>cp</th>\n",
              "      <th>trestbps</th>\n",
              "      <th>chol</th>\n",
              "      <th>fbs</th>\n",
              "      <th>restecg</th>\n",
              "      <th>thalach</th>\n",
              "      <th>exang</th>\n",
              "      <th>oldpeak</th>\n",
              "      <th>slope</th>\n",
              "      <th>ca</th>\n",
              "      <th>thal</th>\n",
              "    </tr>\n",
              "  </thead>\n",
              "  <tbody>\n",
              "    <tr>\n",
              "      <th>count</th>\n",
              "      <td>2.020000e+02</td>\n",
              "      <td>2.020000e+02</td>\n",
              "      <td>2.020000e+02</td>\n",
              "      <td>2.020000e+02</td>\n",
              "      <td>2.020000e+02</td>\n",
              "      <td>2.020000e+02</td>\n",
              "      <td>2.020000e+02</td>\n",
              "      <td>2.020000e+02</td>\n",
              "      <td>202.000000</td>\n",
              "      <td>2.020000e+02</td>\n",
              "      <td>2.020000e+02</td>\n",
              "      <td>2.020000e+02</td>\n",
              "      <td>2.020000e+02</td>\n",
              "    </tr>\n",
              "    <tr>\n",
              "      <th>mean</th>\n",
              "      <td>-2.814031e-16</td>\n",
              "      <td>-1.472969e-16</td>\n",
              "      <td>2.198461e-17</td>\n",
              "      <td>6.243630e-16</td>\n",
              "      <td>1.385031e-16</td>\n",
              "      <td>2.198461e-18</td>\n",
              "      <td>-1.934646e-16</td>\n",
              "      <td>-3.825323e-16</td>\n",
              "      <td>0.000000</td>\n",
              "      <td>1.187169e-16</td>\n",
              "      <td>1.319077e-16</td>\n",
              "      <td>-2.803038e-17</td>\n",
              "      <td>2.945938e-16</td>\n",
              "    </tr>\n",
              "    <tr>\n",
              "      <th>std</th>\n",
              "      <td>1.002484e+00</td>\n",
              "      <td>1.002484e+00</td>\n",
              "      <td>1.002484e+00</td>\n",
              "      <td>1.002484e+00</td>\n",
              "      <td>1.002484e+00</td>\n",
              "      <td>1.002484e+00</td>\n",
              "      <td>1.002484e+00</td>\n",
              "      <td>1.002484e+00</td>\n",
              "      <td>1.002484</td>\n",
              "      <td>1.002484e+00</td>\n",
              "      <td>1.002484e+00</td>\n",
              "      <td>1.002484e+00</td>\n",
              "      <td>1.002484e+00</td>\n",
              "    </tr>\n",
              "    <tr>\n",
              "      <th>min</th>\n",
              "      <td>-2.683328e+00</td>\n",
              "      <td>-1.468418e+00</td>\n",
              "      <td>-8.723014e-01</td>\n",
              "      <td>-2.140541e+00</td>\n",
              "      <td>-2.193071e+00</td>\n",
              "      <td>-4.094265e-01</td>\n",
              "      <td>-1.045893e+00</td>\n",
              "      <td>-2.666339e+00</td>\n",
              "      <td>-0.728219</td>\n",
              "      <td>-8.894456e-01</td>\n",
              "      <td>-2.256983e+00</td>\n",
              "      <td>-6.892581e-01</td>\n",
              "      <td>-3.884610e+00</td>\n",
              "    </tr>\n",
              "    <tr>\n",
              "      <th>25%</th>\n",
              "      <td>-8.343946e-01</td>\n",
              "      <td>-1.468418e+00</td>\n",
              "      <td>-8.723014e-01</td>\n",
              "      <td>-5.849687e-01</td>\n",
              "      <td>-7.075052e-01</td>\n",
              "      <td>-4.094265e-01</td>\n",
              "      <td>-1.045893e+00</td>\n",
              "      <td>-7.316161e-01</td>\n",
              "      <td>-0.728219</td>\n",
              "      <td>-8.894456e-01</td>\n",
              "      <td>-6.228950e-01</td>\n",
              "      <td>-6.892581e-01</td>\n",
              "      <td>-5.525879e-01</td>\n",
              "    </tr>\n",
              "    <tr>\n",
              "      <th>50%</th>\n",
              "      <td>4.987796e-02</td>\n",
              "      <td>6.810052e-01</td>\n",
              "      <td>-8.723014e-01</td>\n",
              "      <td>1.332840e-02</td>\n",
              "      <td>-9.956575e-02</td>\n",
              "      <td>-4.094265e-01</td>\n",
              "      <td>8.237563e-01</td>\n",
              "      <td>1.478034e-01</td>\n",
              "      <td>-0.728219</td>\n",
              "      <td>-3.998870e-01</td>\n",
              "      <td>-6.228950e-01</td>\n",
              "      <td>-6.892581e-01</td>\n",
              "      <td>-5.525879e-01</td>\n",
              "    </tr>\n",
              "    <tr>\n",
              "      <th>75%</th>\n",
              "      <td>7.465775e-01</td>\n",
              "      <td>6.810052e-01</td>\n",
              "      <td>1.188574e+00</td>\n",
              "      <td>6.116255e-01</td>\n",
              "      <td>4.855188e-01</td>\n",
              "      <td>-4.094265e-01</td>\n",
              "      <td>8.237563e-01</td>\n",
              "      <td>7.194262e-01</td>\n",
              "      <td>1.373213</td>\n",
              "      <td>5.792302e-01</td>\n",
              "      <td>1.011193e+00</td>\n",
              "      <td>3.497728e-01</td>\n",
              "      <td>1.113423e+00</td>\n",
              "    </tr>\n",
              "    <tr>\n",
              "      <th>max</th>\n",
              "      <td>2.461530e+00</td>\n",
              "      <td>6.810052e-01</td>\n",
              "      <td>2.219012e+00</td>\n",
              "      <td>4.201408e+00</td>\n",
              "      <td>5.815273e+00</td>\n",
              "      <td>2.442441e+00</td>\n",
              "      <td>2.693406e+00</td>\n",
              "      <td>2.346352e+00</td>\n",
              "      <td>1.373213</td>\n",
              "      <td>3.679768e+00</td>\n",
              "      <td>1.011193e+00</td>\n",
              "      <td>3.466865e+00</td>\n",
              "      <td>1.113423e+00</td>\n",
              "    </tr>\n",
              "  </tbody>\n",
              "</table>\n",
              "</div>\n",
              "    <div class=\"colab-df-buttons\">\n",
              "\n",
              "  <div class=\"colab-df-container\">\n",
              "    <button class=\"colab-df-convert\" onclick=\"convertToInteractive('df-5dd390da-b4e2-4cf9-8aec-167a3cd9fb44')\"\n",
              "            title=\"Convert this dataframe to an interactive table.\"\n",
              "            style=\"display:none;\">\n",
              "\n",
              "  <svg xmlns=\"http://www.w3.org/2000/svg\" height=\"24px\" viewBox=\"0 -960 960 960\">\n",
              "    <path d=\"M120-120v-720h720v720H120Zm60-500h600v-160H180v160Zm220 220h160v-160H400v160Zm0 220h160v-160H400v160ZM180-400h160v-160H180v160Zm440 0h160v-160H620v160ZM180-180h160v-160H180v160Zm440 0h160v-160H620v160Z\"/>\n",
              "  </svg>\n",
              "    </button>\n",
              "\n",
              "  <style>\n",
              "    .colab-df-container {\n",
              "      display:flex;\n",
              "      gap: 12px;\n",
              "    }\n",
              "\n",
              "    .colab-df-convert {\n",
              "      background-color: #E8F0FE;\n",
              "      border: none;\n",
              "      border-radius: 50%;\n",
              "      cursor: pointer;\n",
              "      display: none;\n",
              "      fill: #1967D2;\n",
              "      height: 32px;\n",
              "      padding: 0 0 0 0;\n",
              "      width: 32px;\n",
              "    }\n",
              "\n",
              "    .colab-df-convert:hover {\n",
              "      background-color: #E2EBFA;\n",
              "      box-shadow: 0px 1px 2px rgba(60, 64, 67, 0.3), 0px 1px 3px 1px rgba(60, 64, 67, 0.15);\n",
              "      fill: #174EA6;\n",
              "    }\n",
              "\n",
              "    .colab-df-buttons div {\n",
              "      margin-bottom: 4px;\n",
              "    }\n",
              "\n",
              "    [theme=dark] .colab-df-convert {\n",
              "      background-color: #3B4455;\n",
              "      fill: #D2E3FC;\n",
              "    }\n",
              "\n",
              "    [theme=dark] .colab-df-convert:hover {\n",
              "      background-color: #434B5C;\n",
              "      box-shadow: 0px 1px 3px 1px rgba(0, 0, 0, 0.15);\n",
              "      filter: drop-shadow(0px 1px 2px rgba(0, 0, 0, 0.3));\n",
              "      fill: #FFFFFF;\n",
              "    }\n",
              "  </style>\n",
              "\n",
              "    <script>\n",
              "      const buttonEl =\n",
              "        document.querySelector('#df-5dd390da-b4e2-4cf9-8aec-167a3cd9fb44 button.colab-df-convert');\n",
              "      buttonEl.style.display =\n",
              "        google.colab.kernel.accessAllowed ? 'block' : 'none';\n",
              "\n",
              "      async function convertToInteractive(key) {\n",
              "        const element = document.querySelector('#df-5dd390da-b4e2-4cf9-8aec-167a3cd9fb44');\n",
              "        const dataTable =\n",
              "          await google.colab.kernel.invokeFunction('convertToInteractive',\n",
              "                                                    [key], {});\n",
              "        if (!dataTable) return;\n",
              "\n",
              "        const docLinkHtml = 'Like what you see? Visit the ' +\n",
              "          '<a target=\"_blank\" href=https://colab.research.google.com/notebooks/data_table.ipynb>data table notebook</a>'\n",
              "          + ' to learn more about interactive tables.';\n",
              "        element.innerHTML = '';\n",
              "        dataTable['output_type'] = 'display_data';\n",
              "        await google.colab.output.renderOutput(dataTable, element);\n",
              "        const docLink = document.createElement('div');\n",
              "        docLink.innerHTML = docLinkHtml;\n",
              "        element.appendChild(docLink);\n",
              "      }\n",
              "    </script>\n",
              "  </div>\n",
              "\n",
              "\n",
              "<div id=\"df-823d3526-cff6-4006-b1c0-483e68418753\">\n",
              "  <button class=\"colab-df-quickchart\" onclick=\"quickchart('df-823d3526-cff6-4006-b1c0-483e68418753')\"\n",
              "            title=\"Suggest charts.\"\n",
              "            style=\"display:none;\">\n",
              "\n",
              "<svg xmlns=\"http://www.w3.org/2000/svg\" height=\"24px\"viewBox=\"0 0 24 24\"\n",
              "     width=\"24px\">\n",
              "    <g>\n",
              "        <path d=\"M19 3H5c-1.1 0-2 .9-2 2v14c0 1.1.9 2 2 2h14c1.1 0 2-.9 2-2V5c0-1.1-.9-2-2-2zM9 17H7v-7h2v7zm4 0h-2V7h2v10zm4 0h-2v-4h2v4z\"/>\n",
              "    </g>\n",
              "</svg>\n",
              "  </button>\n",
              "\n",
              "<style>\n",
              "  .colab-df-quickchart {\n",
              "      --bg-color: #E8F0FE;\n",
              "      --fill-color: #1967D2;\n",
              "      --hover-bg-color: #E2EBFA;\n",
              "      --hover-fill-color: #174EA6;\n",
              "      --disabled-fill-color: #AAA;\n",
              "      --disabled-bg-color: #DDD;\n",
              "  }\n",
              "\n",
              "  [theme=dark] .colab-df-quickchart {\n",
              "      --bg-color: #3B4455;\n",
              "      --fill-color: #D2E3FC;\n",
              "      --hover-bg-color: #434B5C;\n",
              "      --hover-fill-color: #FFFFFF;\n",
              "      --disabled-bg-color: #3B4455;\n",
              "      --disabled-fill-color: #666;\n",
              "  }\n",
              "\n",
              "  .colab-df-quickchart {\n",
              "    background-color: var(--bg-color);\n",
              "    border: none;\n",
              "    border-radius: 50%;\n",
              "    cursor: pointer;\n",
              "    display: none;\n",
              "    fill: var(--fill-color);\n",
              "    height: 32px;\n",
              "    padding: 0;\n",
              "    width: 32px;\n",
              "  }\n",
              "\n",
              "  .colab-df-quickchart:hover {\n",
              "    background-color: var(--hover-bg-color);\n",
              "    box-shadow: 0 1px 2px rgba(60, 64, 67, 0.3), 0 1px 3px 1px rgba(60, 64, 67, 0.15);\n",
              "    fill: var(--button-hover-fill-color);\n",
              "  }\n",
              "\n",
              "  .colab-df-quickchart-complete:disabled,\n",
              "  .colab-df-quickchart-complete:disabled:hover {\n",
              "    background-color: var(--disabled-bg-color);\n",
              "    fill: var(--disabled-fill-color);\n",
              "    box-shadow: none;\n",
              "  }\n",
              "\n",
              "  .colab-df-spinner {\n",
              "    border: 2px solid var(--fill-color);\n",
              "    border-color: transparent;\n",
              "    border-bottom-color: var(--fill-color);\n",
              "    animation:\n",
              "      spin 1s steps(1) infinite;\n",
              "  }\n",
              "\n",
              "  @keyframes spin {\n",
              "    0% {\n",
              "      border-color: transparent;\n",
              "      border-bottom-color: var(--fill-color);\n",
              "      border-left-color: var(--fill-color);\n",
              "    }\n",
              "    20% {\n",
              "      border-color: transparent;\n",
              "      border-left-color: var(--fill-color);\n",
              "      border-top-color: var(--fill-color);\n",
              "    }\n",
              "    30% {\n",
              "      border-color: transparent;\n",
              "      border-left-color: var(--fill-color);\n",
              "      border-top-color: var(--fill-color);\n",
              "      border-right-color: var(--fill-color);\n",
              "    }\n",
              "    40% {\n",
              "      border-color: transparent;\n",
              "      border-right-color: var(--fill-color);\n",
              "      border-top-color: var(--fill-color);\n",
              "    }\n",
              "    60% {\n",
              "      border-color: transparent;\n",
              "      border-right-color: var(--fill-color);\n",
              "    }\n",
              "    80% {\n",
              "      border-color: transparent;\n",
              "      border-right-color: var(--fill-color);\n",
              "      border-bottom-color: var(--fill-color);\n",
              "    }\n",
              "    90% {\n",
              "      border-color: transparent;\n",
              "      border-bottom-color: var(--fill-color);\n",
              "    }\n",
              "  }\n",
              "</style>\n",
              "\n",
              "  <script>\n",
              "    async function quickchart(key) {\n",
              "      const quickchartButtonEl =\n",
              "        document.querySelector('#' + key + ' button');\n",
              "      quickchartButtonEl.disabled = true;  // To prevent multiple clicks.\n",
              "      quickchartButtonEl.classList.add('colab-df-spinner');\n",
              "      try {\n",
              "        const charts = await google.colab.kernel.invokeFunction(\n",
              "            'suggestCharts', [key], {});\n",
              "      } catch (error) {\n",
              "        console.error('Error during call to suggestCharts:', error);\n",
              "      }\n",
              "      quickchartButtonEl.classList.remove('colab-df-spinner');\n",
              "      quickchartButtonEl.classList.add('colab-df-quickchart-complete');\n",
              "    }\n",
              "    (() => {\n",
              "      let quickchartButtonEl =\n",
              "        document.querySelector('#df-823d3526-cff6-4006-b1c0-483e68418753 button');\n",
              "      quickchartButtonEl.style.display =\n",
              "        google.colab.kernel.accessAllowed ? 'block' : 'none';\n",
              "    })();\n",
              "  </script>\n",
              "</div>\n",
              "    </div>\n",
              "  </div>\n"
            ]
          },
          "metadata": {},
          "execution_count": 45
        }
      ],
      "source": [
        "x_train_standard.describe()"
      ]
    },
    {
      "cell_type": "code",
      "execution_count": 46,
      "metadata": {
        "id": "qvcg_QzYOkqm"
      },
      "outputs": [],
      "source": [
        "# MinMax scaling\n",
        "minmax_scaler = MinMaxScaler()\n",
        "\n",
        "x_train_minmax = x_train.copy()\n",
        "x_test_minmax = x_test.copy()\n",
        "columns_to_scale = x_train_minmax.columns\n",
        "\n",
        "x_train_minmax[ columns_to_scale ] = minmax_scaler.fit_transform( x_train_minmax[ columns_to_scale ]  )\n",
        "x_test_minmax[ columns_to_scale ] = minmax_scaler.transform( x_test_minmax[ columns_to_scale ] )"
      ]
    },
    {
      "cell_type": "code",
      "execution_count": 47,
      "metadata": {
        "id": "1GWXDnUTOkqn",
        "outputId": "6dc9b2af-bc90-4ad1-86cb-05204861af34",
        "colab": {
          "base_uri": "https://localhost:8080/",
          "height": 857
        }
      },
      "outputs": [
        {
          "output_type": "display_data",
          "data": {
            "text/plain": [
              "<Figure size 1000x1000 with 16 Axes>"
            ],
            "image/png": "[encoded data removed]"
          },
          "metadata": {}
        }
      ],
      "source": [
        "x_train_minmax.hist( figsize=(10,10), bins=10 )\n",
        "plt.show()"
      ]
    },
    {
      "cell_type": "code",
      "execution_count": 48,
      "metadata": {
        "id": "euFfQIaYOkqn",
        "outputId": "a3b3c21d-52ac-4272-80c2-0e1e5e85d337",
        "colab": {
          "base_uri": "https://localhost:8080/"
        }
      },
      "outputs": [
        {
          "output_type": "execute_result",
          "data": {
            "text/plain": [
              "age         0.854167\n",
              "sex         1.000000\n",
              "cp          1.000000\n",
              "trestbps    0.924528\n",
              "chol        0.520548\n",
              "fbs         1.000000\n",
              "restecg     0.500000\n",
              "thalach     0.938596\n",
              "exang       1.000000\n",
              "oldpeak     1.107143\n",
              "slope       1.000000\n",
              "ca          1.000000\n",
              "thal        1.000000\n",
              "dtype: float64"
            ]
          },
          "metadata": {},
          "execution_count": 48
        }
      ],
      "source": [
        "x_test_minmax.max()"
      ]
    },
    {
      "cell_type": "code",
      "source": [
        "x_train_minmax.describe()"
      ],
      "metadata": {
        "id": "37oI5gMPlg7X",
        "outputId": "22ea5f6a-fdf8-460f-80c0-5bdaffc4d8a5",
        "colab": {
          "base_uri": "https://localhost:8080/",
          "height": 300
        }
      },
      "execution_count": 49,
      "outputs": [
        {
          "output_type": "execute_result",
          "data": {
            "text/plain": [
              "              age         sex          cp    trestbps        chol         fbs  \\\n",
              "count  202.000000  202.000000  202.000000  202.000000  202.000000  202.000000   \n",
              "mean     0.521555    0.683168    0.282178    0.337521    0.273848    0.143564   \n",
              "std      0.194852    0.466397    0.324291    0.158072    0.125180    0.351519   \n",
              "min      0.000000    0.000000    0.000000    0.000000    0.000000    0.000000   \n",
              "25%      0.359375    0.000000    0.000000    0.245283    0.185502    0.000000   \n",
              "50%      0.531250    1.000000    0.000000    0.339623    0.261416    0.000000   \n",
              "75%      0.666667    1.000000    0.666667    0.433962    0.334475    0.000000   \n",
              "max      1.000000    1.000000    1.000000    1.000000    1.000000    1.000000   \n",
              "\n",
              "          restecg     thalach       exang     oldpeak       slope          ca  \\\n",
              "count  202.000000  202.000000  202.000000  202.000000  202.000000  202.000000   \n",
              "mean     0.279703    0.531918    0.346535    0.194661    0.690594    0.165842   \n",
              "std      0.268094    0.199989    0.477048    0.219400    0.306741    0.241207   \n",
              "min      0.000000    0.000000    0.000000    0.000000    0.000000    0.000000   \n",
              "25%      0.000000    0.385965    0.000000    0.000000    0.500000    0.000000   \n",
              "50%      0.500000    0.561404    0.000000    0.107143    0.500000    0.000000   \n",
              "75%      0.500000    0.675439    1.000000    0.321429    1.000000    0.250000   \n",
              "max      1.000000    1.000000    1.000000    1.000000    1.000000    1.000000   \n",
              "\n",
              "             thal  \n",
              "count  202.000000  \n",
              "mean     0.777228  \n",
              "std      0.200576  \n",
              "min      0.000000  \n",
              "25%      0.666667  \n",
              "50%      0.666667  \n",
              "75%      1.000000  \n",
              "max      1.000000  "
            ],
            "text/html": [
              "\n",
              "  <div id=\"df-89fbac3c-7f38-4f06-aca1-d42030728924\" class=\"colab-df-container\">\n",
              "    <div>\n",
              "<style scoped>\n",
              "    .dataframe tbody tr th:only-of-type {\n",
              "        vertical-align: middle;\n",
              "    }\n",
              "\n",
              "    .dataframe tbody tr th {\n",
              "        vertical-align: top;\n",
              "    }\n",
              "\n",
              "    .dataframe thead th {\n",
              "        text-align: right;\n",
              "    }\n",
              "</style>\n",
              "<table border=\"1\" class=\"dataframe\">\n",
              "  <thead>\n",
              "    <tr style=\"text-align: right;\">\n",
              "      <th></th>\n",
              "      <th>age</th>\n",
              "      <th>sex</th>\n",
              "      <th>cp</th>\n",
              "      <th>trestbps</th>\n",
              "      <th>chol</th>\n",
              "      <th>fbs</th>\n",
              "      <th>restecg</th>\n",
              "      <th>thalach</th>\n",
              "      <th>exang</th>\n",
              "      <th>oldpeak</th>\n",
              "      <th>slope</th>\n",
              "      <th>ca</th>\n",
              "      <th>thal</th>\n",
              "    </tr>\n",
              "  </thead>\n",
              "  <tbody>\n",
              "    <tr>\n",
              "      <th>count</th>\n",
              "      <td>202.000000</td>\n",
              "      <td>202.000000</td>\n",
              "      <td>202.000000</td>\n",
              "      <td>202.000000</td>\n",
              "      <td>202.000000</td>\n",
              "      <td>202.000000</td>\n",
              "      <td>202.000000</td>\n",
              "      <td>202.000000</td>\n",
              "      <td>202.000000</td>\n",
              "      <td>202.000000</td>\n",
              "      <td>202.000000</td>\n",
              "      <td>202.000000</td>\n",
              "      <td>202.000000</td>\n",
              "    </tr>\n",
              "    <tr>\n",
              "      <th>mean</th>\n",
              "      <td>0.521555</td>\n",
              "      <td>0.683168</td>\n",
              "      <td>0.282178</td>\n",
              "      <td>0.337521</td>\n",
              "      <td>0.273848</td>\n",
              "      <td>0.143564</td>\n",
              "      <td>0.279703</td>\n",
              "      <td>0.531918</td>\n",
              "      <td>0.346535</td>\n",
              "      <td>0.194661</td>\n",
              "      <td>0.690594</td>\n",
              "      <td>0.165842</td>\n",
              "      <td>0.777228</td>\n",
              "    </tr>\n",
              "    <tr>\n",
              "      <th>std</th>\n",
              "      <td>0.194852</td>\n",
              "      <td>0.466397</td>\n",
              "      <td>0.324291</td>\n",
              "      <td>0.158072</td>\n",
              "      <td>0.125180</td>\n",
              "      <td>0.351519</td>\n",
              "      <td>0.268094</td>\n",
              "      <td>0.199989</td>\n",
              "      <td>0.477048</td>\n",
              "      <td>0.219400</td>\n",
              "      <td>0.306741</td>\n",
              "      <td>0.241207</td>\n",
              "      <td>0.200576</td>\n",
              "    </tr>\n",
              "    <tr>\n",
              "      <th>min</th>\n",
              "      <td>0.000000</td>\n",
              "      <td>0.000000</td>\n",
              "      <td>0.000000</td>\n",
              "      <td>0.000000</td>\n",
              "      <td>0.000000</td>\n",
              "      <td>0.000000</td>\n",
              "      <td>0.000000</td>\n",
              "      <td>0.000000</td>\n",
              "      <td>0.000000</td>\n",
              "      <td>0.000000</td>\n",
              "      <td>0.000000</td>\n",
              "      <td>0.000000</td>\n",
              "      <td>0.000000</td>\n",
              "    </tr>\n",
              "    <tr>\n",
              "      <th>25%</th>\n",
              "      <td>0.359375</td>\n",
              "      <td>0.000000</td>\n",
              "      <td>0.000000</td>\n",
              "      <td>0.245283</td>\n",
              "      <td>0.185502</td>\n",
              "      <td>0.000000</td>\n",
              "      <td>0.000000</td>\n",
              "      <td>0.385965</td>\n",
              "      <td>0.000000</td>\n",
              "      <td>0.000000</td>\n",
              "      <td>0.500000</td>\n",
              "      <td>0.000000</td>\n",
              "      <td>0.666667</td>\n",
              "    </tr>\n",
              "    <tr>\n",
              "      <th>50%</th>\n",
              "      <td>0.531250</td>\n",
              "      <td>1.000000</td>\n",
              "      <td>0.000000</td>\n",
              "      <td>0.339623</td>\n",
              "      <td>0.261416</td>\n",
              "      <td>0.000000</td>\n",
              "      <td>0.500000</td>\n",
              "      <td>0.561404</td>\n",
              "      <td>0.000000</td>\n",
              "      <td>0.107143</td>\n",
              "      <td>0.500000</td>\n",
              "      <td>0.000000</td>\n",
              "      <td>0.666667</td>\n",
              "    </tr>\n",
              "    <tr>\n",
              "      <th>75%</th>\n",
              "      <td>0.666667</td>\n",
              "      <td>1.000000</td>\n",
              "      <td>0.666667</td>\n",
              "      <td>0.433962</td>\n",
              "      <td>0.334475</td>\n",
              "      <td>0.000000</td>\n",
              "      <td>0.500000</td>\n",
              "      <td>0.675439</td>\n",
              "      <td>1.000000</td>\n",
              "      <td>0.321429</td>\n",
              "      <td>1.000000</td>\n",
              "      <td>0.250000</td>\n",
              "      <td>1.000000</td>\n",
              "    </tr>\n",
              "    <tr>\n",
              "      <th>max</th>\n",
              "      <td>1.000000</td>\n",
              "      <td>1.000000</td>\n",
              "      <td>1.000000</td>\n",
              "      <td>1.000000</td>\n",
              "      <td>1.000000</td>\n",
              "      <td>1.000000</td>\n",
              "      <td>1.000000</td>\n",
              "      <td>1.000000</td>\n",
              "      <td>1.000000</td>\n",
              "      <td>1.000000</td>\n",
              "      <td>1.000000</td>\n",
              "      <td>1.000000</td>\n",
              "      <td>1.000000</td>\n",
              "    </tr>\n",
              "  </tbody>\n",
              "</table>\n",
              "</div>\n",
              "    <div class=\"colab-df-buttons\">\n",
              "\n",
              "  <div class=\"colab-df-container\">\n",
              "    <button class=\"colab-df-convert\" onclick=\"convertToInteractive('df-89fbac3c-7f38-4f06-aca1-d42030728924')\"\n",
              "            title=\"Convert this dataframe to an interactive table.\"\n",
              "            style=\"display:none;\">\n",
              "\n",
              "  <svg xmlns=\"http://www.w3.org/2000/svg\" height=\"24px\" viewBox=\"0 -960 960 960\">\n",
              "    <path d=\"M120-120v-720h720v720H120Zm60-500h600v-160H180v160Zm220 220h160v-160H400v160Zm0 220h160v-160H400v160ZM180-400h160v-160H180v160Zm440 0h160v-160H620v160ZM180-180h160v-160H180v160Zm440 0h160v-160H620v160Z\"/>\n",
              "  </svg>\n",
              "    </button>\n",
              "\n",
              "  <style>\n",
              "    .colab-df-container {\n",
              "      display:flex;\n",
              "      gap: 12px;\n",
              "    }\n",
              "\n",
              "    .colab-df-convert {\n",
              "      background-color: #E8F0FE;\n",
              "      border: none;\n",
              "      border-radius: 50%;\n",
              "      cursor: pointer;\n",
              "      display: none;\n",
              "      fill: #1967D2;\n",
              "      height: 32px;\n",
              "      padding: 0 0 0 0;\n",
              "      width: 32px;\n",
              "    }\n",
              "\n",
              "    .colab-df-convert:hover {\n",
              "      background-color: #E2EBFA;\n",
              "      box-shadow: 0px 1px 2px rgba(60, 64, 67, 0.3), 0px 1px 3px 1px rgba(60, 64, 67, 0.15);\n",
              "      fill: #174EA6;\n",
              "    }\n",
              "\n",
              "    .colab-df-buttons div {\n",
              "      margin-bottom: 4px;\n",
              "    }\n",
              "\n",
              "    [theme=dark] .colab-df-convert {\n",
              "      background-color: #3B4455;\n",
              "      fill: #D2E3FC;\n",
              "    }\n",
              "\n",
              "    [theme=dark] .colab-df-convert:hover {\n",
              "      background-color: #434B5C;\n",
              "      box-shadow: 0px 1px 3px 1px rgba(0, 0, 0, 0.15);\n",
              "      filter: drop-shadow(0px 1px 2px rgba(0, 0, 0, 0.3));\n",
              "      fill: #FFFFFF;\n",
              "    }\n",
              "  </style>\n",
              "\n",
              "    <script>\n",
              "      const buttonEl =\n",
              "        document.querySelector('#df-89fbac3c-7f38-4f06-aca1-d42030728924 button.colab-df-convert');\n",
              "      buttonEl.style.display =\n",
              "        google.colab.kernel.accessAllowed ? 'block' : 'none';\n",
              "\n",
              "      async function convertToInteractive(key) {\n",
              "        const element = document.querySelector('#df-89fbac3c-7f38-4f06-aca1-d42030728924');\n",
              "        const dataTable =\n",
              "          await google.colab.kernel.invokeFunction('convertToInteractive',\n",
              "                                                    [key], {});\n",
              "        if (!dataTable) return;\n",
              "\n",
              "        const docLinkHtml = 'Like what you see? Visit the ' +\n",
              "          '<a target=\"_blank\" href=https://colab.research.google.com/notebooks/data_table.ipynb>data table notebook</a>'\n",
              "          + ' to learn more about interactive tables.';\n",
              "        element.innerHTML = '';\n",
              "        dataTable['output_type'] = 'display_data';\n",
              "        await google.colab.output.renderOutput(dataTable, element);\n",
              "        const docLink = document.createElement('div');\n",
              "        docLink.innerHTML = docLinkHtml;\n",
              "        element.appendChild(docLink);\n",
              "      }\n",
              "    </script>\n",
              "  </div>\n",
              "\n",
              "\n",
              "<div id=\"df-f34bda71-2dbb-4aa9-a914-72370cb8344b\">\n",
              "  <button class=\"colab-df-quickchart\" onclick=\"quickchart('df-f34bda71-2dbb-4aa9-a914-72370cb8344b')\"\n",
              "            title=\"Suggest charts.\"\n",
              "            style=\"display:none;\">\n",
              "\n",
              "<svg xmlns=\"http://www.w3.org/2000/svg\" height=\"24px\"viewBox=\"0 0 24 24\"\n",
              "     width=\"24px\">\n",
              "    <g>\n",
              "        <path d=\"M19 3H5c-1.1 0-2 .9-2 2v14c0 1.1.9 2 2 2h14c1.1 0 2-.9 2-2V5c0-1.1-.9-2-2-2zM9 17H7v-7h2v7zm4 0h-2V7h2v10zm4 0h-2v-4h2v4z\"/>\n",
              "    </g>\n",
              "</svg>\n",
              "  </button>\n",
              "\n",
              "<style>\n",
              "  .colab-df-quickchart {\n",
              "      --bg-color: #E8F0FE;\n",
              "      --fill-color: #1967D2;\n",
              "      --hover-bg-color: #E2EBFA;\n",
              "      --hover-fill-color: #174EA6;\n",
              "      --disabled-fill-color: #AAA;\n",
              "      --disabled-bg-color: #DDD;\n",
              "  }\n",
              "\n",
              "  [theme=dark] .colab-df-quickchart {\n",
              "      --bg-color: #3B4455;\n",
              "      --fill-color: #D2E3FC;\n",
              "      --hover-bg-color: #434B5C;\n",
              "      --hover-fill-color: #FFFFFF;\n",
              "      --disabled-bg-color: #3B4455;\n",
              "      --disabled-fill-color: #666;\n",
              "  }\n",
              "\n",
              "  .colab-df-quickchart {\n",
              "    background-color: var(--bg-color);\n",
              "    border: none;\n",
              "    border-radius: 50%;\n",
              "    cursor: pointer;\n",
              "    display: none;\n",
              "    fill: var(--fill-color);\n",
              "    height: 32px;\n",
              "    padding: 0;\n",
              "    width: 32px;\n",
              "  }\n",
              "\n",
              "  .colab-df-quickchart:hover {\n",
              "    background-color: var(--hover-bg-color);\n",
              "    box-shadow: 0 1px 2px rgba(60, 64, 67, 0.3), 0 1px 3px 1px rgba(60, 64, 67, 0.15);\n",
              "    fill: var(--button-hover-fill-color);\n",
              "  }\n",
              "\n",
              "  .colab-df-quickchart-complete:disabled,\n",
              "  .colab-df-quickchart-complete:disabled:hover {\n",
              "    background-color: var(--disabled-bg-color);\n",
              "    fill: var(--disabled-fill-color);\n",
              "    box-shadow: none;\n",
              "  }\n",
              "\n",
              "  .colab-df-spinner {\n",
              "    border: 2px solid var(--fill-color);\n",
              "    border-color: transparent;\n",
              "    border-bottom-color: var(--fill-color);\n",
              "    animation:\n",
              "      spin 1s steps(1) infinite;\n",
              "  }\n",
              "\n",
              "  @keyframes spin {\n",
              "    0% {\n",
              "      border-color: transparent;\n",
              "      border-bottom-color: var(--fill-color);\n",
              "      border-left-color: var(--fill-color);\n",
              "    }\n",
              "    20% {\n",
              "      border-color: transparent;\n",
              "      border-left-color: var(--fill-color);\n",
              "      border-top-color: var(--fill-color);\n",
              "    }\n",
              "    30% {\n",
              "      border-color: transparent;\n",
              "      border-left-color: var(--fill-color);\n",
              "      border-top-color: var(--fill-color);\n",
              "      border-right-color: var(--fill-color);\n",
              "    }\n",
              "    40% {\n",
              "      border-color: transparent;\n",
              "      border-right-color: var(--fill-color);\n",
              "      border-top-color: var(--fill-color);\n",
              "    }\n",
              "    60% {\n",
              "      border-color: transparent;\n",
              "      border-right-color: var(--fill-color);\n",
              "    }\n",
              "    80% {\n",
              "      border-color: transparent;\n",
              "      border-right-color: var(--fill-color);\n",
              "      border-bottom-color: var(--fill-color);\n",
              "    }\n",
              "    90% {\n",
              "      border-color: transparent;\n",
              "      border-bottom-color: var(--fill-color);\n",
              "    }\n",
              "  }\n",
              "</style>\n",
              "\n",
              "  <script>\n",
              "    async function quickchart(key) {\n",
              "      const quickchartButtonEl =\n",
              "        document.querySelector('#' + key + ' button');\n",
              "      quickchartButtonEl.disabled = true;  // To prevent multiple clicks.\n",
              "      quickchartButtonEl.classList.add('colab-df-spinner');\n",
              "      try {\n",
              "        const charts = await google.colab.kernel.invokeFunction(\n",
              "            'suggestCharts', [key], {});\n",
              "      } catch (error) {\n",
              "        console.error('Error during call to suggestCharts:', error);\n",
              "      }\n",
              "      quickchartButtonEl.classList.remove('colab-df-spinner');\n",
              "      quickchartButtonEl.classList.add('colab-df-quickchart-complete');\n",
              "    }\n",
              "    (() => {\n",
              "      let quickchartButtonEl =\n",
              "        document.querySelector('#df-f34bda71-2dbb-4aa9-a914-72370cb8344b button');\n",
              "      quickchartButtonEl.style.display =\n",
              "        google.colab.kernel.accessAllowed ? 'block' : 'none';\n",
              "    })();\n",
              "  </script>\n",
              "</div>\n",
              "    </div>\n",
              "  </div>\n"
            ]
          },
          "metadata": {},
          "execution_count": 49
        }
      ]
    },
    {
      "cell_type": "markdown",
      "metadata": {
        "id": "NQsWaj2Nlejy"
      },
      "source": [
        "## K Neighbors Classifier"
      ]
    },
    {
      "cell_type": "code",
      "execution_count": 50,
      "metadata": {
        "id": "4up7Yauolejy"
      },
      "outputs": [],
      "source": [
        "knn_scores = []\n",
        "n_values = range( 1, 20, 2 )\n",
        "for k in n_values:\n",
        "    knn_classifier = KNeighborsClassifier(n_neighbors = k )\n",
        "    knn_classifier.fit( x_train_minmax , y_train  )  # x 는 minmax, y는 default\n",
        "    knn_scores.append(knn_classifier.score( x_test_minmax, y_test  )) # append는 test 데이터로"
      ]
    },
    {
      "cell_type": "code",
      "execution_count": 51,
      "metadata": {
        "colab": {
          "base_uri": "https://localhost:8080/",
          "height": 480
        },
        "id": "MrSvi_IMlejy",
        "outputId": "a63e688d-b8f9-44a6-c267-e61aeb0c1990"
      },
      "outputs": [
        {
          "output_type": "display_data",
          "data": {
            "text/plain": [
              "<Figure size 640x480 with 1 Axes>"
            ],
            "image/png": "[encoded data removed]"
          },
          "metadata": {}
        }
      ],
      "source": [
        "colors = rainbow(np.linspace(0, 1, len(n_values)) )\n",
        "plt.bar(n_values, knn_scores, color = colors)\n",
        "\n",
        "for i, n  in zip(range(len(n_values)), n_values):\n",
        "    plt.text( n , knn_scores[i], knn_scores[i])\n",
        "\n",
        "plt.xticks(n_values )\n",
        "plt.xlabel('Number of Neighbors (K)')\n",
        "plt.ylabel('Scores')\n",
        "plt.title('K Neighbors Classifier scores for different K values')\n",
        "plt.show()"
      ]
    },
    {
      "cell_type": "code",
      "execution_count": 52,
      "metadata": {
        "colab": {
          "base_uri": "https://localhost:8080/"
        },
        "id": "LCQLgnaAlejy",
        "outputId": "b20ae360-3f6b-4b8a-cc2c-422999630ac8"
      },
      "outputs": [
        {
          "output_type": "stream",
          "name": "stdout",
          "text": [
            "The score for K Neighbors Classifier is 80.0% with 3 nieghbors.\n"
          ]
        }
      ],
      "source": [
        "max_idx = np.argmax( np.array(knn_scores) ) # argmax : index 찾는것\n",
        "print(\"The score for K Neighbors Classifier is {}% with {} nieghbors.\".format(knn_scores[max_idx]*100,\n",
        "                                                                              n_values[max_idx]) )"
      ]
    },
    {
      "cell_type": "code",
      "source": [
        "# 위의 방법을 GridSearchCV로 사용해봄.\n",
        "\n",
        "from sklearn.model_selection import GridSearchCV\n",
        "\n",
        "# 가장 좋은 k 값 도출\n",
        "grid = GridSearchCV(KNeighborsClassifier(), { \"n_neighbors\": [ x for x in range(1, 20, 2)] })\n",
        "grid.fit( x_train_minmax, y_train )\n",
        "\n",
        "print(grid.best_score_)\n",
        "print(grid.best_params_) # => 5\n",
        "\n",
        "\"\"\"\n",
        "문제점 => gridsearchCV는 훈련 데이터 기준 가장 좋은 성능을 찾는다.\n",
        "     => 따라서 위의 k=3의 정답과 다르다.\n",
        "     => 문제점떄문에 gridsearchCV를 쓰지 않을 것\n",
        "     => 성능이 가장 좋은 것을 찾았다고 말할 수 없다\n",
        "\"\"\""
      ],
      "metadata": {
        "id": "8vjd0xeZqIvg",
        "outputId": "4abf866b-f6a3-4e64-9be2-6479af51a3e9",
        "colab": {
          "base_uri": "https://localhost:8080/"
        }
      },
      "execution_count": 55,
      "outputs": [
        {
          "output_type": "stream",
          "name": "stdout",
          "text": [
            "0.8369512195121951\n",
            "{'n_neighbors': 5}\n"
          ]
        }
      ]
    },
    {
      "cell_type": "code",
      "source": [
        "model = grid.best_estimator_\n",
        "\n",
        "model.fit( x_train_minmax, y_train )\n",
        "model.score( x_test_minmax, y_test )"
      ],
      "metadata": {
        "id": "9gKz5eZKsHgZ",
        "outputId": "65735561-46ec-45fb-8a22-14b71afcdd7f",
        "colab": {
          "base_uri": "https://localhost:8080/"
        }
      },
      "execution_count": 58,
      "outputs": [
        {
          "output_type": "execute_result",
          "data": {
            "text/plain": [
              "0.72"
            ]
          },
          "metadata": {},
          "execution_count": 58
        }
      ]
    },
    {
      "cell_type": "markdown",
      "metadata": {
        "id": "VrFEv-BFlejz"
      },
      "source": [
        "## Support Vector Classifier\n",
        "- https://scikit-learn.org/stable/modules/generated/sklearn.svm.SVC.html\n",
        "- https://scikit-learn.org/stable/modules/svm.html#svm-kernels"
      ]
    },
    {
      "cell_type": "code",
      "execution_count": 59,
      "metadata": {
        "id": "xHGQKJe9lejz"
      },
      "outputs": [],
      "source": [
        "svc_scores = []\n",
        "kernels = ['linear', 'poly', 'rbf', 'sigmoid']\n",
        "for i in range(len(kernels)):\n",
        "    svc_classifier = SVC(kernel = kernels[i])\n",
        "    svc_classifier.fit(  x_train_standard , y_train  ) # train\n",
        "    svc_scores.append(svc_classifier.score(  x_test_standard , y_test )) # test"
      ]
    },
    {
      "cell_type": "code",
      "execution_count": 60,
      "metadata": {
        "colab": {
          "base_uri": "https://localhost:8080/",
          "height": 480
        },
        "id": "iaAFDevHlejz",
        "outputId": "389d75c2-80b4-489f-89ce-cf2fd5b2ed05"
      },
      "outputs": [
        {
          "output_type": "display_data",
          "data": {
            "text/plain": [
              "<Figure size 640x480 with 1 Axes>"
            ],
            "image/png": "[encoded data removed]"
          },
          "metadata": {}
        }
      ],
      "source": [
        "colors = rainbow(np.linspace(0, 1, len(kernels)))\n",
        "plt.bar(kernels, svc_scores, color = colors)\n",
        "for i in range(len(kernels)):\n",
        "    plt.text(i, svc_scores[i], svc_scores[i])\n",
        "plt.xlabel('Kernels')\n",
        "plt.ylabel('Scores')\n",
        "plt.title('Support Vector Classifier scores for different kernels')\n",
        "plt.show()"
      ]
    },
    {
      "cell_type": "code",
      "execution_count": 61,
      "metadata": {
        "colab": {
          "base_uri": "https://localhost:8080/"
        },
        "id": "I2YztkGSlejz",
        "outputId": "cc351614-d681-4cbd-f7d0-e0a1423df800"
      },
      "outputs": [
        {
          "output_type": "stream",
          "name": "stdout",
          "text": [
            "The score for Support Vector Classifier is 80.0% with rbf kernel.\n"
          ]
        }
      ],
      "source": [
        "max_idx = np.argmax( np.array(svc_scores) )\n",
        "print(\"The score for Support Vector Classifier is {}% with {} kernel.\".format(svc_scores[max_idx]*100,\n",
        "                                                                              kernels[max_idx]))"
      ]
    },
    {
      "cell_type": "code",
      "execution_count": 62,
      "metadata": {
        "id": "P5wY_sbuOkqo",
        "outputId": "08bd3c5a-125d-4d17-b25a-ee9a801d8586",
        "colab": {
          "base_uri": "https://localhost:8080/",
          "height": 498
        }
      },
      "outputs": [
        {
          "output_type": "display_data",
          "data": {
            "text/plain": [
              "<Figure size 640x480 with 1 Axes>"
            ],
            "image/png": "[encoded data removed]"
          },
          "metadata": {}
        },
        {
          "output_type": "stream",
          "name": "stdout",
          "text": [
            "The score for Support Vector Classifier is 80.0% with c=1 .\n"
          ]
        }
      ],
      "source": [
        "svc_scores = []\n",
        "\n",
        "c_values =  list( range( 1, 11 ) )\n",
        "for c in c_values:\n",
        "    svc_classifier = SVC(kernel = 'rbf', C = c )\n",
        "    svc_classifier.fit(  x_train_standard , y_train )\n",
        "    svc_scores.append(svc_classifier.score(  x_test_standard , y_test ))\n",
        "\n",
        "colors = rainbow(np.linspace(0, 1, len(c_values)))\n",
        "plt.bar(c_values, svc_scores, color = colors)\n",
        "\n",
        "for i, c in zip( range( len(c_values)), c_values) :\n",
        "    plt.text(c, svc_scores[i], svc_scores[i])\n",
        "\n",
        "plt.xlabel('C')\n",
        "plt.ylabel('Scores')\n",
        "plt.title('Support Vector Classifier scores for different kernels')\n",
        "plt.show()\n",
        "\n",
        "max_idx = np.argmax( np.array(svc_scores) )\n",
        "print(\"The score for Support Vector Classifier is {}% with c={} .\".format(svc_scores[max_idx]*100,\n",
        "                                                                              c_values[max_idx]))"
      ]
    },
    {
      "cell_type": "code",
      "source": [
        "import sys\n",
        "sys.float_info"
      ],
      "metadata": {
        "id": "xGlqZwwZyV8Z",
        "outputId": "ecebad0e-33f8-462b-e63e-f3d5b0cabcbf",
        "colab": {
          "base_uri": "https://localhost:8080/"
        }
      },
      "execution_count": 63,
      "outputs": [
        {
          "output_type": "execute_result",
          "data": {
            "text/plain": [
              "sys.float_info(max=1.7976931348623157e+308, max_exp=1024, max_10_exp=308, min=2.2250738585072014e-308, min_exp=-1021, min_10_exp=-307, dig=15, mant_dig=53, epsilon=2.220446049250313e-16, radix=2, rounds=1)"
            ]
          },
          "metadata": {},
          "execution_count": 63
        }
      ]
    },
    {
      "cell_type": "code",
      "source": [
        "1.7976931348623157e+308 == 1.79e+300"
      ],
      "metadata": {
        "id": "ivipXJgpykEm",
        "outputId": "9c63d3a1-3e32-4b27-b2b3-d8004c14c29c",
        "colab": {
          "base_uri": "https://localhost:8080/"
        }
      },
      "execution_count": 67,
      "outputs": [
        {
          "output_type": "execute_result",
          "data": {
            "text/plain": [
              "False"
            ]
          },
          "metadata": {},
          "execution_count": 67
        }
      ]
    },
    {
      "cell_type": "markdown",
      "metadata": {
        "id": "Dvlkp8-ulejz"
      },
      "source": [
        "## Decision Tree Classifier\n",
        "- https://scikit-learn.org/stable/modules/generated/sklearn.tree.DecisionTreeClassifier.html#sklearn.tree.DecisionTreeClassifier"
      ]
    },
    {
      "cell_type": "code",
      "execution_count": null,
      "metadata": {
        "id": "OUaRApgBlejz"
      },
      "outputs": [],
      "source": [
        "dt_scores = []\n",
        "feature_importances = []\n",
        "n_max_features =\n",
        "\n",
        "for i in n_max_features:\n",
        "    dt_classifier = DecisionTreeClassifier(max_features = i, random_state = 0)\n",
        "    dt_classifier.fit(  x , y  )\n",
        "    dt_scores.append(dt_classifier.score(  x , y  ))"
      ]
    },
    {
      "cell_type": "code",
      "execution_count": null,
      "metadata": {
        "id": "o7KvFjjDlej0"
      },
      "outputs": [],
      "source": [
        "colors = rainbow(np.linspace(0, 1, len(n_max_features))   )\n",
        "plt.bar(n_max_features, dt_scores, color = colors)\n",
        "\n",
        "for i in n_max_features:\n",
        "    plt.text(i, dt_scores[i-1], dt_scores[i-1])\n",
        "plt.xticks(n_max_features)\n",
        "plt.xlabel('Max features')\n",
        "plt.ylabel('Scores')\n",
        "plt.title('Decision Tree Classifier scores for different number of maximum features')\n",
        "plt.show()"
      ]
    },
    {
      "cell_type": "code",
      "execution_count": null,
      "metadata": {
        "id": "VLDbYwXBlej0"
      },
      "outputs": [],
      "source": [
        "max_idx = np.argmax( np.array(dt_scores) )\n",
        "print(\"The score for Decision Tree Classifier is {}% with {} maximum features.\".format(dt_scores[max_idx]*100,max_idx+1))"
      ]
    },
    {
      "cell_type": "markdown",
      "metadata": {
        "id": "3AFCpN2Llej0"
      },
      "source": [
        "## Random Forest Classifier"
      ]
    },
    {
      "cell_type": "code",
      "execution_count": null,
      "metadata": {
        "id": "sm3zyX9ulej0"
      },
      "outputs": [],
      "source": [
        "rf_scores = []\n",
        "estimators = [ ]\n",
        "for i in estimators:\n",
        "    rf_classifier = RandomForestClassifier(n_estimators = i, random_state = 0)\n",
        "    rf_classifier.fit(  x , y  )\n",
        "    rf_scores.append(rf_classifier.score(  x , y ))"
      ]
    },
    {
      "cell_type": "code",
      "execution_count": null,
      "metadata": {
        "id": "s3gNbMIVlej1",
        "scrolled": false
      },
      "outputs": [],
      "source": [
        "colors = rainbow(np.linspace(0, 1, len(estimators)))\n",
        "plt.bar(range(len(estimators)), rf_scores, color = colors, width = 0.8)\n",
        "for i in range(len(estimators)):\n",
        "    plt.text(i, rf_scores[i], rf_scores[i])\n",
        "plt.xticks(ticks =  range(len(estimators)),\n",
        "           labels =  estimators)\n",
        "plt.xlabel('Number of estimators')\n",
        "plt.ylabel('Scores')\n",
        "plt.title('Random Forest Classifier scores for different number of estimators')\n",
        "plt.show("
      ]
    },
    {
      "cell_type": "code",
      "execution_count": null,
      "metadata": {
        "id": "-b5I1-u4lej1"
      },
      "outputs": [],
      "source": [
        "max_idx = np.argmax( np.array(rf_scores) )\n",
        "print(\"The score for Random Forest Classifier is {}% with {} estimators.\".format(rf_scores[max_idx]*100,\n",
        "                                                                                 estimators[max_idx]))"
      ]
    },
    {
      "cell_type": "markdown",
      "metadata": {
        "id": "gwY0HAi9lej2"
      },
      "source": [
        "# 앙상블 분류기"
      ]
    },
    {
      "cell_type": "code",
      "execution_count": null,
      "metadata": {
        "id": "tNvFQkcqlej2"
      },
      "outputs": [],
      "source": [
        "from sklearn.ensemble import RandomForestClassifier\n",
        "from sklearn.ensemble import VotingClassifier\n",
        "from sklearn.svm import SVC\n",
        "from sklearn.naive_bayes import GaussianNB\n",
        "from sklearn.neighbors import KNeighborsClassifier"
      ]
    },
    {
      "cell_type": "code",
      "execution_count": null,
      "metadata": {
        "id": "7-TYKtUdlej3"
      },
      "outputs": [],
      "source": [
        "knn_clf = KNeighborsClassifier(n_neighbors= )\n",
        "nb_clf = GaussianNB()\n",
        "rndf_clf = RandomForestClassifier(n_estimators = , random_state = 0)\n",
        "svm_clf = SVC( kernel =  )\n",
        "dt_clf = DecisionTreeClassifier(max_features = , random_state = 0)\n",
        "\n",
        "voting_clf = VotingClassifier(\n",
        "              estimators=[('dt', dt_clf),\n",
        "                          ('nb', nb_clf),\n",
        "                          ('knn', knn_clf),\n",
        "                          ('rndf', rndf_clf),\n",
        "                          ('svm', svm_clf) ],\n",
        "              voting=  )"
      ]
    },
    {
      "cell_type": "code",
      "execution_count": null,
      "metadata": {
        "id": "yOd91vv0lej3"
      },
      "outputs": [],
      "source": [
        "# 학습 & 성능 확인\n",
        "from sklearn.metrics import accuracy_score\n",
        "\n",
        "clfList= [dt_clf, knn_clf, nb_clf, rndf_clf, svm_clf, voting_clf]\n",
        "for clf in clfList:\n",
        "    clf.fit(  x , y  )\n",
        "    pred = clf.predict(  x , y )\n",
        "    print(f\"{clf.__class__.__name__:23s}: {accuracy_score( y, pred ):.3f}\")"
      ]
    },
    {
      "cell_type": "code",
      "execution_count": null,
      "metadata": {
        "id": "kW2xwlfylej3"
      },
      "outputs": [],
      "source": []
    },
    {
      "cell_type": "code",
      "execution_count": null,
      "metadata": {
        "id": "9Z6KCPz2lej3"
      },
      "outputs": [],
      "source": []
    },
    {
      "cell_type": "code",
      "execution_count": null,
      "metadata": {
        "id": "tIWgRp9_lej3"
      },
      "outputs": [],
      "source": []
    },
    {
      "cell_type": "markdown",
      "metadata": {
        "id": "nqijYPd8lej3"
      },
      "source": [
        "# 2. Regression"
      ]
    },
    {
      "cell_type": "markdown",
      "metadata": {
        "id": "TNNLAVqUlej4"
      },
      "source": [
        "## (1) Linear Regression\n",
        "\n",
        "###  다중회귀 분석\n",
        "\n",
        "### Dataset\n",
        "- https://github.com/stedy/Machine-Learning-with-R-datasets"
      ]
    },
    {
      "cell_type": "code",
      "execution_count": null,
      "metadata": {
        "id": "_uj3_hX1lej5"
      },
      "outputs": [],
      "source": [
        "dataset = pd.read_csv(PATH + 'insurance.csv')\n",
        "dataset.head()"
      ]
    },
    {
      "cell_type": "code",
      "execution_count": null,
      "metadata": {
        "id": "7r79zFm2Okq1"
      },
      "outputs": [],
      "source": [
        "dataset.info()"
      ]
    },
    {
      "cell_type": "code",
      "execution_count": null,
      "metadata": {
        "id": "No-jdOw8Okq1"
      },
      "outputs": [],
      "source": [
        "dataset.duplicated()"
      ]
    },
    {
      "cell_type": "code",
      "execution_count": null,
      "metadata": {
        "id": "pMZGjqPAOkq1"
      },
      "outputs": [],
      "source": [
        "dataset"
      ]
    },
    {
      "cell_type": "code",
      "execution_count": null,
      "metadata": {
        "id": "6Lp-HXj7Okq1"
      },
      "outputs": [],
      "source": [
        "dataset.describe()"
      ]
    },
    {
      "cell_type": "code",
      "execution_count": null,
      "metadata": {
        "id": "sPtrciBLOkq1"
      },
      "outputs": [],
      "source": [
        "fig, axes = plt.subplots(nrows=2, ncols=2, figsize=(12, 10))\n",
        "dataset.plot(kind= , y=\"age\", bins=70, color=\"b\", ax=axes[0][0])\n",
        "dataset.plot(kind= , y=\"bmi\", bins=200, color=\"r\", ax=axes[0][1])\n",
        "dataset.plot(kind= , y=\"children\", bins=5, color=\"g\", ax=axes[1][0])\n",
        "dataset.plot(kind= , y=\"charges\", bins=200, color=\"orange\", ax=axes[1][1])\n",
        "plt.show()"
      ]
    },
    {
      "cell_type": "code",
      "execution_count": null,
      "metadata": {
        "id": "q5rAZcKROkq2"
      },
      "outputs": [],
      "source": [
        "(x=\"sex\", kind=\"count\", palette=\"Set1\", data=dataset)\n",
        "plt.show()"
      ]
    },
    {
      "cell_type": "code",
      "execution_count": null,
      "metadata": {
        "id": "5sFTguAPOkq2"
      },
      "outputs": [],
      "source": [
        "dataset['age_range'] = dataset['age']"
      ]
    },
    {
      "cell_type": "code",
      "execution_count": null,
      "metadata": {
        "id": "oNLxFyXDOkq2"
      },
      "outputs": [],
      "source": [
        "dataset"
      ]
    },
    {
      "cell_type": "code",
      "execution_count": null,
      "metadata": {
        "id": "Wse_8EcEOkq3"
      },
      "outputs": [],
      "source": [
        "# Visualising Categorical Variables\n",
        "plt.figure(figsize=(20, 15))\n",
        "plt.subplot(2,3,1)\n",
        "(x = 'smoker', y = 'charges', data = dataset)\n",
        "plt.title('Smoker vs Charges',fontweight=\"bold\", size=20)\n",
        "\n",
        "plt.subplot(2,3,2)\n",
        "(x = 'children', y = 'charges', data = dataset)\n",
        "plt.title('Children vs Charges',fontweight=\"bold\", size=20)\n",
        "\n",
        "plt.subplot(2,3,3)\n",
        "(x = 'sex', y = 'charges', data = dataset)\n",
        "plt.title('Sex vs Charges',fontweight=\"bold\", size=20)\n",
        "\n",
        "plt.subplot(2,3,4)\n",
        "(x = 'region', y = 'charges', data = dataset, palette=\"bright\")\n",
        "plt.title('Region vs Charges',fontweight=\"bold\", size=20)\n",
        "\n",
        "plt.subplot(2,3,5)\n",
        "(x = 'age_range', y = 'charges', data = dataset)\n",
        "plt.title('Age vs Charges',fontweight=\"bold\", size=20)\n",
        "plt.show()\n"
      ]
    },
    {
      "cell_type": "code",
      "execution_count": null,
      "metadata": {
        "id": "R91LTA7iOkq3"
      },
      "outputs": [],
      "source": [
        "plt.figure(figsize=(8, 6))\n",
        "(dataset.corr(), cmap='RdYlGn', annot = True)\n",
        "plt.title(\"Correlation between Variables\")\n",
        "plt.show()"
      ]
    },
    {
      "cell_type": "markdown",
      "metadata": {
        "id": "PubHmKsaOkq3"
      },
      "source": [
        "## Data Preparation"
      ]
    },
    {
      "cell_type": "code",
      "execution_count": null,
      "metadata": {
        "id": "N5e_Str9Okq3"
      },
      "outputs": [],
      "source": [
        "\n",
        "dataset['gender'] = dataset['sex'] ({'female':  , 'male':  })\n",
        "dataset['smoking'] = dataset['smoker'] ({'no':  , 'yes':   })\n",
        "dataset['location'] = dataset['region'] ({ 'northeast':  , 'northwest': ,\n",
        "                                             'southeast': , 'southwest':   })"
      ]
    },
    {
      "cell_type": "code",
      "execution_count": null,
      "metadata": {
        "id": "uOGr2uEIOkq3"
      },
      "outputs": [],
      "source": []
    },
    {
      "cell_type": "code",
      "execution_count": null,
      "metadata": {
        "id": "Cd_s0MjeOkq4"
      },
      "outputs": [],
      "source": [
        "x = dataset[   ]\n",
        "y = dataset\n"
      ]
    },
    {
      "cell_type": "code",
      "execution_count": null,
      "metadata": {
        "id": "zGWtgT4uOkq4"
      },
      "outputs": [],
      "source": [
        "x_train, x_test, y_train, y_test = train_test_split(x, y, test_size=  , random_state=  )"
      ]
    },
    {
      "cell_type": "markdown",
      "metadata": {
        "id": "bDuwqC9MOkq4"
      },
      "source": [
        "### Multiple Linear Regression"
      ]
    },
    {
      "cell_type": "code",
      "execution_count": null,
      "metadata": {
        "id": "mvZ7UTa_Okq4"
      },
      "outputs": [],
      "source": [
        "from sklearn.linear_model import LinearRegression\n",
        "reg = LinearRegression(  )\n",
        "reg.fit( x, y )"
      ]
    },
    {
      "cell_type": "code",
      "execution_count": null,
      "metadata": {
        "id": "CtMwOiVzOkq4"
      },
      "outputs": [],
      "source": [
        "for feature_name, coef in zip(x_train.columns, reg.coef_):\n",
        "    print(f\"coef of {feature_name:10s} : {coef:15.3f}\" )\n",
        "\n",
        "print( f'intercept : {reg.intercept_:.3f}')"
      ]
    },
    {
      "cell_type": "code",
      "execution_count": null,
      "metadata": {
        "id": "_mjXKlwCOkq5"
      },
      "outputs": [],
      "source": [
        "def evaluation(x, y, model) :\n",
        "    from sklearn import metrics\n",
        "    y_pred = model.predict(x)\n",
        "    mab = metrics.mean_absolute_error(y, y)\n",
        "    mse = metrics.mean_squared_error(y, y)\n",
        "    r2_score = metrics.r2_score(y, y)\n",
        "    rmse = metrics.mean_squared_error(y, y)\n",
        "    print(\"mean_absolute_error : \", mab)\n",
        "    print(\"mean_squared_error  : \", mse)\n",
        "    print(\"root_mean_squared_error\", rmse)\n",
        "    print(\"R2_score            : \", r2_score)\n"
      ]
    },
    {
      "cell_type": "code",
      "execution_count": null,
      "metadata": {
        "id": "TFNhy6TQOkq5"
      },
      "outputs": [],
      "source": [
        "evaluation(x, y, reg)"
      ]
    },
    {
      "cell_type": "code",
      "execution_count": null,
      "metadata": {
        "id": "F5fJCPQKOkq5"
      },
      "outputs": [],
      "source": [
        "def compare(true, pred):\n",
        "    d = pd.DataFrame()\n",
        "    d[\"Actual\"] =\n",
        "    d[\"Predict\"] =\n",
        "    d[\"residual\"] =\n",
        "    return d"
      ]
    },
    {
      "cell_type": "code",
      "execution_count": null,
      "metadata": {
        "id": "uQSU9QA9Okq5"
      },
      "outputs": [],
      "source": [
        "y_pred = reg.predict( x )\n",
        "compare(  ,  )"
      ]
    },
    {
      "cell_type": "markdown",
      "metadata": {
        "id": "6v4DBnJbOkq6"
      },
      "source": [
        "##  Polynomial regression\n",
        "- https://scikit-learn.org/stable/modules/linear_model.html#polynomial-regression-extending-linear-models-with-basis-functions"
      ]
    },
    {
      "cell_type": "code",
      "execution_count": null,
      "metadata": {
        "id": "WnVWIss7Okq6"
      },
      "outputs": [],
      "source": [
        "from sklearn.preprocessing import PolynomialFeatures\n",
        "\n",
        "polynomial_features =  PolynomialFeatures( )\n",
        "x_train_poly = polynomial_features\n",
        "x_test_poly = polynomial_features\n",
        "\n",
        "\n",
        "polynomial_reg = LinearRegression(fit_intercept = True  )\n",
        "polynomial_reg.fit( x, y  )"
      ]
    },
    {
      "cell_type": "code",
      "execution_count": null,
      "metadata": {
        "id": "XOMXr93sOkq6"
      },
      "outputs": [],
      "source": [
        "evaluation(  x, y , polynomial_reg )"
      ]
    },
    {
      "cell_type": "code",
      "execution_count": null,
      "metadata": {
        "id": "1sltqu4uOkq6"
      },
      "outputs": [],
      "source": [
        "y_pred = polynomial_reg.predict( x )\n",
        "compare(  ,  )"
      ]
    },
    {
      "cell_type": "markdown",
      "metadata": {
        "id": "A8zIENzTlej1"
      },
      "source": [
        "## (2) Logistic Regression"
      ]
    },
    {
      "cell_type": "code",
      "execution_count": null,
      "metadata": {
        "id": "Al6K6WUCOkq7"
      },
      "outputs": [],
      "source": [
        "dataset = pd.read_csv(PATH+'heart_NOdup.csv')\n",
        "dataset.info()"
      ]
    },
    {
      "cell_type": "code",
      "execution_count": null,
      "metadata": {
        "id": "1kEiL8mTOkq7"
      },
      "outputs": [],
      "source": [
        "y = dataset['target']\n",
        "x = dataset.drop(['target']   )\n",
        "x_train, x_test, y_train, y_test = train_test_split(x, y, test_size =  , random_state = 0 )"
      ]
    },
    {
      "cell_type": "code",
      "execution_count": null,
      "metadata": {
        "id": "L8DLBC4ilej1"
      },
      "outputs": [],
      "source": [
        "from sklearn.linear_model import LogisticRegression\n",
        "log_clf = LogisticRegression(fit_intercept= True  ).fit( x, y  )"
      ]
    },
    {
      "cell_type": "code",
      "execution_count": null,
      "metadata": {
        "id": "vB4rD7DKlej1"
      },
      "outputs": [],
      "source": [
        "log_clf.coef_"
      ]
    },
    {
      "cell_type": "code",
      "execution_count": null,
      "metadata": {
        "id": "Zvp6jGn7lej1"
      },
      "outputs": [],
      "source": [
        "log_clf.intercept_"
      ]
    },
    {
      "cell_type": "code",
      "execution_count": null,
      "metadata": {
        "id": "qpfGklL9lej2"
      },
      "outputs": [],
      "source": [
        "pred = log_clf.predict(  )\n",
        "print(confusion_matrix(   ,   ))"
      ]
    },
    {
      "cell_type": "code",
      "execution_count": null,
      "metadata": {
        "id": "mT18IXs4Okq7"
      },
      "outputs": [],
      "source": []
    }
  ],
  "metadata": {
    "colab": {
      "provenance": [],
      "include_colab_link": true
    },
    "kernelspec": {
      "display_name": "Python 3 (ipykernel)",
      "language": "python",
      "name": "python3"
    },
    "language_info": {
      "codemirror_mode": {
        "name": "ipython",
        "version": 3
      },
      "file_extension": ".py",
      "mimetype": "text/x-python",
      "name": "python",
      "nbconvert_exporter": "python",
      "pygments_lexer": "ipython3",
      "version": "3.9.13"
    }
  },
  "nbformat": 4,
  "nbformat_minor": 0
}