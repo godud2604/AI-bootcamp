{
  "cells": [
    {
      "cell_type": "markdown",
      "metadata": {
        "id": "view-in-github",
        "colab_type": "text"
      },
      "source": [
        "<a href=\"https://colab.research.google.com/github/godud2604/AI-bootcamp/blob/main/RNN_%EB%AC%B8%EC%9E%A5%EC%83%9D%EC%84%B1.ipynb\" target=\"_parent\"><img src=\"https://colab.research.google.com/assets/colab-badge.svg\" alt=\"Open In Colab\"/></a>"
      ]
    },
    {
      "cell_type": "markdown",
      "metadata": {
        "id": "6Y9QI2iMtSbl"
      },
      "source": [
        "# RNN 활용 문장 생성"
      ]
    },
    {
      "cell_type": "code",
      "execution_count": 1,
      "metadata": {
        "id": "DqyPZ6PrprSt"
      },
      "outputs": [],
      "source": [
        "import numpy as np\n",
        "from tensorflow.keras.preprocessing.text import Tokenizer\n",
        "from tensorflow.keras.preprocessing.sequence import pad_sequences\n",
        "from tensorflow.keras.utils import to_categorical"
      ]
    },
    {
      "cell_type": "code",
      "execution_count": 2,
      "metadata": {
        "id": "Brfh0a96psWD"
      },
      "outputs": [],
      "source": [
        "corpus = '''안경을 쓰고 있으면 상대방의 말이 번역돼 렌즈에 표시된다.\n",
        " AR 안경을 사용해 북경어에서 영어로 또는 그 반대로 영어에서 스페인어로 번역한다.\n",
        "청각 장애인이나 난청이 있는 사람들에게 읽을 수 있는 텍스트를 제공한다.\n",
        "보청기 없이도 의사 소통할 수 있는 방법을 보여주었다.\n",
        "가상현실기술은 가상환경에 사용자를 몰입하게 하여 실제환경을 볼 수 없다.\n",
        "'''"
      ]
    },
    {
      "cell_type": "code",
      "execution_count": 8,
      "metadata": {
        "id": "Wqh-u2qHpwWM",
        "outputId": "fa73f6b7-6a54-4310-81f7-9ffd2b51cd4d",
        "colab": {
          "base_uri": "https://localhost:8080/"
        }
      },
      "outputs": [
        {
          "output_type": "stream",
          "name": "stdout",
          "text": [
            "단어 집합의 크기 : 42\n",
            "{'있는': 1, '수': 2, '안경을': 3, '쓰고': 4, '있으면': 5, '상대방의': 6, '말이': 7, '번역돼': 8, '렌즈에': 9, '표시된다': 10, 'ar': 11, '사용해': 12, '북경어에서': 13, '영어로': 14, '또는': 15, '그': 16, '반대로': 17, '영어에서': 18, '스페인어로': 19, '번역한다': 20, '청각': 21, '장애인이나': 22, '난청이': 23, '사람들에게': 24, '읽을': 25, '텍스트를': 26, '제공한다': 27, '보청기': 28, '없이도': 29, '의사': 30, '소통할': 31, '방법을': 32, '보여주었다': 33, '가상현실기술은': 34, '가상환경에': 35, '사용자를': 36, '몰입하게': 37, '하여': 38, '실제환경을': 39, '볼': 40, '없다': 41}\n"
          ]
        }
      ],
      "source": [
        "tokenizer = Tokenizer()\n",
        "tokenizer.fit_on_texts( [corpus] )\n",
        "vocab_size = len( tokenizer.word_index ) + 1\n",
        "print('단어 집합의 크기 : %d' % vocab_size)\n",
        "print(tokenizer.word_index)"
      ]
    },
    {
      "cell_type": "code",
      "execution_count": 12,
      "metadata": {
        "id": "4FqxgrNyp-0i",
        "outputId": "565126c9-76fc-45b9-b780-e4a79dcb4221",
        "colab": {
          "base_uri": "https://localhost:8080/"
        }
      },
      "outputs": [
        {
          "output_type": "stream",
          "name": "stdout",
          "text": [
            "line 안경을 쓰고 있으면 상대방의 말이 번역돼 렌즈에 표시된다.\n",
            "encoded [3, 4, 5, 6, 7, 8, 9, 10]\n",
            "line AR 안경을 사용해 북경어에서 영어로 또는 그 반대로 영어에서 스페인어로 번역한다.\n",
            "encoded [11, 3, 12, 13, 14, 15, 16, 17, 18, 19, 20]\n",
            "line 청각 장애인이나 난청이 있는 사람들에게 읽을 수 있는 텍스트를 제공한다.\n",
            "encoded [21, 22, 23, 1, 24, 25, 2, 1, 26, 27]\n",
            "line 보청기 없이도 의사 소통할 수 있는 방법을 보여주었다.\n",
            "encoded [28, 29, 30, 31, 2, 1, 32, 33]\n",
            "line 가상현실기술은 가상환경에 사용자를 몰입하게 하여 실제환경을 볼 수 없다.\n",
            "encoded [34, 35, 36, 37, 38, 39, 40, 2, 41]\n",
            "학습에 사용할 샘플의 개수: 41\n"
          ]
        },
        {
          "output_type": "stream",
          "name": "stderr",
          "text": [
            "[nltk_data] Downloading package punkt to /root/nltk_data...\n",
            "[nltk_data]   Package punkt is already up-to-date!\n"
          ]
        }
      ],
      "source": [
        "import nltk\n",
        "nltk.download('punkt')\n",
        "\n",
        "sequences = list()\n",
        "for line in  nltk.sent_tokenize(corpus): # 각 문장들의 리스트\n",
        "    print('line', line)\n",
        "    encoded = tokenizer.texts_to_sequences( [ line ] )[0] # text를 숫자로 변경\n",
        "    print('encoded', encoded)\n",
        "    for i in range(1, len(encoded)):\n",
        "        sequence = encoded[:i+1]\n",
        "        sequences.append(sequence)\n",
        "\n",
        "print('학습에 사용할 샘플의 개수: %d' % len(sequences))"
      ]
    },
    {
      "cell_type": "code",
      "execution_count": 13,
      "metadata": {
        "id": "JwxnuG3p9z89",
        "outputId": "8a13d46a-886d-4bf2-a1f7-73a598d431de",
        "colab": {
          "base_uri": "https://localhost:8080/"
        }
      },
      "outputs": [
        {
          "output_type": "execute_result",
          "data": {
            "text/plain": [
              "[[3, 4],\n",
              " [3, 4, 5],\n",
              " [3, 4, 5, 6],\n",
              " [3, 4, 5, 6, 7],\n",
              " [3, 4, 5, 6, 7, 8],\n",
              " [3, 4, 5, 6, 7, 8, 9],\n",
              " [3, 4, 5, 6, 7, 8, 9, 10],\n",
              " [11, 3],\n",
              " [11, 3, 12],\n",
              " [11, 3, 12, 13],\n",
              " [11, 3, 12, 13, 14],\n",
              " [11, 3, 12, 13, 14, 15],\n",
              " [11, 3, 12, 13, 14, 15, 16],\n",
              " [11, 3, 12, 13, 14, 15, 16, 17],\n",
              " [11, 3, 12, 13, 14, 15, 16, 17, 18],\n",
              " [11, 3, 12, 13, 14, 15, 16, 17, 18, 19],\n",
              " [11, 3, 12, 13, 14, 15, 16, 17, 18, 19, 20],\n",
              " [21, 22],\n",
              " [21, 22, 23],\n",
              " [21, 22, 23, 1],\n",
              " [21, 22, 23, 1, 24],\n",
              " [21, 22, 23, 1, 24, 25],\n",
              " [21, 22, 23, 1, 24, 25, 2],\n",
              " [21, 22, 23, 1, 24, 25, 2, 1],\n",
              " [21, 22, 23, 1, 24, 25, 2, 1, 26],\n",
              " [21, 22, 23, 1, 24, 25, 2, 1, 26, 27],\n",
              " [28, 29],\n",
              " [28, 29, 30],\n",
              " [28, 29, 30, 31],\n",
              " [28, 29, 30, 31, 2],\n",
              " [28, 29, 30, 31, 2, 1],\n",
              " [28, 29, 30, 31, 2, 1, 32],\n",
              " [28, 29, 30, 31, 2, 1, 32, 33],\n",
              " [34, 35],\n",
              " [34, 35, 36],\n",
              " [34, 35, 36, 37],\n",
              " [34, 35, 36, 37, 38],\n",
              " [34, 35, 36, 37, 38, 39],\n",
              " [34, 35, 36, 37, 38, 39, 40],\n",
              " [34, 35, 36, 37, 38, 39, 40, 2],\n",
              " [34, 35, 36, 37, 38, 39, 40, 2, 41]]"
            ]
          },
          "metadata": {},
          "execution_count": 13
        }
      ],
      "source": [
        "sequences"
      ]
    },
    {
      "cell_type": "code",
      "execution_count": 15,
      "metadata": {
        "id": "lsnM-e2Sqfvd",
        "outputId": "d8e46a84-1e93-45e7-89a2-b6666813c950",
        "colab": {
          "base_uri": "https://localhost:8080/"
        }
      },
      "outputs": [
        {
          "output_type": "stream",
          "name": "stdout",
          "text": [
            "[2, 3, 4, 5, 6, 7, 8, 2, 3, 4, 5, 6, 7, 8, 9, 10, 11, 2, 3, 4, 5, 6, 7, 8, 9, 10, 2, 3, 4, 5, 6, 7, 8, 2, 3, 4, 5, 6, 7, 8, 9]\n",
            "샘플의 최대 길이 : 11\n"
          ]
        }
      ],
      "source": [
        "sample_len_list = [ len(l) for l in sequences]\n",
        "print( sample_len_list )\n",
        "max_len = max(sample_len_list)   # 모든 샘플에서 길이가 가장 긴 샘플의 길이 출력\n",
        "print('샘플의 최대 길이 : {}'.format(max_len))"
      ]
    },
    {
      "cell_type": "code",
      "execution_count": 16,
      "metadata": {
        "id": "FZnKJ9wLrB-T",
        "outputId": "e70b07a5-0b45-43d9-f539-4dde2f291a85",
        "colab": {
          "base_uri": "https://localhost:8080/"
        }
      },
      "outputs": [
        {
          "output_type": "stream",
          "name": "stdout",
          "text": [
            "[[ 0  0  0  0  0  0  0  0  0  3  4]\n",
            " [ 0  0  0  0  0  0  0  0  3  4  5]\n",
            " [ 0  0  0  0  0  0  0  3  4  5  6]\n",
            " [ 0  0  0  0  0  0  3  4  5  6  7]\n",
            " [ 0  0  0  0  0  3  4  5  6  7  8]\n",
            " [ 0  0  0  0  3  4  5  6  7  8  9]\n",
            " [ 0  0  0  3  4  5  6  7  8  9 10]\n",
            " [ 0  0  0  0  0  0  0  0  0 11  3]\n",
            " [ 0  0  0  0  0  0  0  0 11  3 12]\n",
            " [ 0  0  0  0  0  0  0 11  3 12 13]\n",
            " [ 0  0  0  0  0  0 11  3 12 13 14]\n",
            " [ 0  0  0  0  0 11  3 12 13 14 15]\n",
            " [ 0  0  0  0 11  3 12 13 14 15 16]\n",
            " [ 0  0  0 11  3 12 13 14 15 16 17]\n",
            " [ 0  0 11  3 12 13 14 15 16 17 18]\n",
            " [ 0 11  3 12 13 14 15 16 17 18 19]\n",
            " [11  3 12 13 14 15 16 17 18 19 20]\n",
            " [ 0  0  0  0  0  0  0  0  0 21 22]\n",
            " [ 0  0  0  0  0  0  0  0 21 22 23]\n",
            " [ 0  0  0  0  0  0  0 21 22 23  1]\n",
            " [ 0  0  0  0  0  0 21 22 23  1 24]\n",
            " [ 0  0  0  0  0 21 22 23  1 24 25]\n",
            " [ 0  0  0  0 21 22 23  1 24 25  2]\n",
            " [ 0  0  0 21 22 23  1 24 25  2  1]\n",
            " [ 0  0 21 22 23  1 24 25  2  1 26]\n",
            " [ 0 21 22 23  1 24 25  2  1 26 27]\n",
            " [ 0  0  0  0  0  0  0  0  0 28 29]\n",
            " [ 0  0  0  0  0  0  0  0 28 29 30]\n",
            " [ 0  0  0  0  0  0  0 28 29 30 31]\n",
            " [ 0  0  0  0  0  0 28 29 30 31  2]\n",
            " [ 0  0  0  0  0 28 29 30 31  2  1]\n",
            " [ 0  0  0  0 28 29 30 31  2  1 32]\n",
            " [ 0  0  0 28 29 30 31  2  1 32 33]\n",
            " [ 0  0  0  0  0  0  0  0  0 34 35]\n",
            " [ 0  0  0  0  0  0  0  0 34 35 36]\n",
            " [ 0  0  0  0  0  0  0 34 35 36 37]\n",
            " [ 0  0  0  0  0  0 34 35 36 37 38]\n",
            " [ 0  0  0  0  0 34 35 36 37 38 39]\n",
            " [ 0  0  0  0 34 35 36 37 38 39 40]\n",
            " [ 0  0  0 34 35 36 37 38 39 40  2]\n",
            " [ 0  0 34 35 36 37 38 39 40  2 41]]\n"
          ]
        }
      ],
      "source": [
        "# 일정 길이로 맞추기 위해 padding 적용\n",
        "sequences = pad_sequences( sequences, maxlen = max_len)\n",
        "print(sequences)"
      ]
    },
    {
      "cell_type": "code",
      "execution_count": 19,
      "metadata": {
        "id": "5I2InKQNrE_j"
      },
      "outputs": [],
      "source": [
        "sequences = np.array(sequences)\n",
        "X = sequences[:, :-1]\n",
        "y = sequences[:, -1]"
      ]
    },
    {
      "cell_type": "code",
      "execution_count": 20,
      "metadata": {
        "id": "qBhl8xTerKQT",
        "outputId": "b535c1c9-867d-4416-f7ef-6668916aa05e",
        "colab": {
          "base_uri": "https://localhost:8080/"
        }
      },
      "outputs": [
        {
          "output_type": "stream",
          "name": "stdout",
          "text": [
            "[[ 0  0  0  0  0  0  0  0  0  3]\n",
            " [ 0  0  0  0  0  0  0  0  3  4]\n",
            " [ 0  0  0  0  0  0  0  3  4  5]\n",
            " [ 0  0  0  0  0  0  3  4  5  6]\n",
            " [ 0  0  0  0  0  3  4  5  6  7]\n",
            " [ 0  0  0  0  3  4  5  6  7  8]\n",
            " [ 0  0  0  3  4  5  6  7  8  9]\n",
            " [ 0  0  0  0  0  0  0  0  0 11]\n",
            " [ 0  0  0  0  0  0  0  0 11  3]\n",
            " [ 0  0  0  0  0  0  0 11  3 12]\n",
            " [ 0  0  0  0  0  0 11  3 12 13]\n",
            " [ 0  0  0  0  0 11  3 12 13 14]\n",
            " [ 0  0  0  0 11  3 12 13 14 15]\n",
            " [ 0  0  0 11  3 12 13 14 15 16]\n",
            " [ 0  0 11  3 12 13 14 15 16 17]\n",
            " [ 0 11  3 12 13 14 15 16 17 18]\n",
            " [11  3 12 13 14 15 16 17 18 19]\n",
            " [ 0  0  0  0  0  0  0  0  0 21]\n",
            " [ 0  0  0  0  0  0  0  0 21 22]\n",
            " [ 0  0  0  0  0  0  0 21 22 23]\n",
            " [ 0  0  0  0  0  0 21 22 23  1]\n",
            " [ 0  0  0  0  0 21 22 23  1 24]\n",
            " [ 0  0  0  0 21 22 23  1 24 25]\n",
            " [ 0  0  0 21 22 23  1 24 25  2]\n",
            " [ 0  0 21 22 23  1 24 25  2  1]\n",
            " [ 0 21 22 23  1 24 25  2  1 26]\n",
            " [ 0  0  0  0  0  0  0  0  0 28]\n",
            " [ 0  0  0  0  0  0  0  0 28 29]\n",
            " [ 0  0  0  0  0  0  0 28 29 30]\n",
            " [ 0  0  0  0  0  0 28 29 30 31]\n",
            " [ 0  0  0  0  0 28 29 30 31  2]\n",
            " [ 0  0  0  0 28 29 30 31  2  1]\n",
            " [ 0  0  0 28 29 30 31  2  1 32]\n",
            " [ 0  0  0  0  0  0  0  0  0 34]\n",
            " [ 0  0  0  0  0  0  0  0 34 35]\n",
            " [ 0  0  0  0  0  0  0 34 35 36]\n",
            " [ 0  0  0  0  0  0 34 35 36 37]\n",
            " [ 0  0  0  0  0 34 35 36 37 38]\n",
            " [ 0  0  0  0 34 35 36 37 38 39]\n",
            " [ 0  0  0 34 35 36 37 38 39 40]\n",
            " [ 0  0 34 35 36 37 38 39 40  2]]\n"
          ]
        }
      ],
      "source": [
        "print(X)"
      ]
    },
    {
      "cell_type": "code",
      "execution_count": 21,
      "metadata": {
        "id": "7PDxioXGrNWS",
        "outputId": "f41adcaa-f723-4131-fc0a-ba5baf781ac6",
        "colab": {
          "base_uri": "https://localhost:8080/"
        }
      },
      "outputs": [
        {
          "output_type": "stream",
          "name": "stdout",
          "text": [
            "[ 4  5  6  7  8  9 10  3 12 13 14 15 16 17 18 19 20 22 23  1 24 25  2  1\n",
            " 26 27 29 30 31  2  1 32 33 35 36 37 38 39 40  2 41]\n"
          ]
        }
      ],
      "source": [
        "print(y)"
      ]
    },
    {
      "cell_type": "code",
      "execution_count": 22,
      "metadata": {
        "id": "HyBCBjpkrOzy",
        "outputId": "6944bf92-871a-4ac7-e3fe-0140d219b5ea",
        "colab": {
          "base_uri": "https://localhost:8080/"
        }
      },
      "outputs": [
        {
          "output_type": "stream",
          "name": "stdout",
          "text": [
            "[[0. 0. 0. ... 0. 0. 0.]\n",
            " [0. 0. 0. ... 0. 0. 0.]\n",
            " [0. 0. 0. ... 0. 0. 0.]\n",
            " ...\n",
            " [0. 0. 0. ... 0. 1. 0.]\n",
            " [0. 0. 1. ... 0. 0. 0.]\n",
            " [0. 0. 0. ... 0. 0. 1.]]\n"
          ]
        }
      ],
      "source": [
        "# 원핫인코딩\n",
        "y = to_categorical(y, num_classes=vocab_size)\n",
        "print(y)"
      ]
    },
    {
      "cell_type": "code",
      "execution_count": 34,
      "metadata": {
        "id": "TISHFNMwrVsC",
        "outputId": "e812c38f-4177-4215-ac28-cde66501e618",
        "colab": {
          "base_uri": "https://localhost:8080/"
        }
      },
      "outputs": [
        {
          "output_type": "stream",
          "name": "stdout",
          "text": [
            "2/2 [==============================] - 0s 10ms/step - loss: 0.2306 - accuracy: 1.0000\n",
            "[0.2306271493434906, 1.0]\n"
          ]
        }
      ],
      "source": [
        "from tensorflow.keras.models import Sequential\n",
        "from tensorflow.keras.layers import Embedding, Dense, SimpleRNN\n",
        "\n",
        "embedding_dim = 10\n",
        "hidden_units = 16\n",
        "\n",
        "model = Sequential()\n",
        "model.add( Embedding( vocab_size, embedding_dim ) )\n",
        "model.add( SimpleRNN( hidden_units ) )\n",
        "model.add( Dense( vocab_size, activation='softmax' ) )\n",
        "model.compile(loss= 'categorical_crossentropy' , optimizer= 'adam',\n",
        "              metrics=['accuracy'])\n",
        "model.fit(X, y, epochs=500, verbose=0)\n",
        "print(model.evaluate(X, y))"
      ]
    },
    {
      "cell_type": "code",
      "execution_count": 35,
      "metadata": {
        "id": "jkiwzeOPrits"
      },
      "outputs": [],
      "source": [
        "import time\n",
        "def sentence_generation(model, tokenizer, current_word, n): # 모델, 토크나이저, 현재 단어, 반복할 횟수\n",
        "    init_word = current_word\n",
        "    sentence = ''\n",
        "    print(init_word, end=\" \")\n",
        "\n",
        "    # n번 반복\n",
        "    for _ in range(n):\n",
        "        # 현재 단어에 대한 정수 인코딩과 패딩\n",
        "        encoded = tokenizer.texts_to_sequences([ current_word])[0]\n",
        "        encoded = pad_sequences( [encoded], maxlen = max_len )\n",
        "        # 입력한 X(현재 단어)에 대해서 Y를 예측하고 Y(예측한 단어)를 result에 저장.\n",
        "        result = model.predict( encoded, verbose=0 )\n",
        "        result = np.argmax(result, axis=1)[0]\n",
        "        print(result)\n",
        "\n",
        "        for word, index in tokenizer.word_index.items() :\n",
        "            # 만약 예측한 단어와 인덱스와 동일한 단어가 있다면 break\n",
        "            if index == result:\n",
        "                break\n",
        "\n",
        "        # 현재 단어 + ' ' + 예측 단어를 현재 단어로 변경\n",
        "        current_word = current_word + ' '  + word\n",
        "\n",
        "        # 예측 단어를 문장에 저장\n",
        "        sentence = sentence + ' ' + word\n",
        "        time.sleep(0.5)\n",
        "        print(word, end=\" \")\n",
        "\n",
        "    sentence = init_word + sentence\n",
        "    return sentence"
      ]
    },
    {
      "cell_type": "code",
      "execution_count": 36,
      "metadata": {
        "id": "TwUQGtH0rk_c",
        "outputId": "ca61d903-10e3-4ae4-8ec6-66f3e338f457",
        "colab": {
          "base_uri": "https://localhost:8080/"
        }
      },
      "outputs": [
        {
          "output_type": "stream",
          "name": "stdout",
          "text": [
            "안경을 4\n",
            "쓰고 5\n",
            "있으면 6\n",
            "상대방의 7\n",
            "말이 8\n",
            "번역돼 9\n",
            "렌즈에 10\n",
            "표시된다 안경을 쓰고 있으면 상대방의 말이 번역돼 렌즈에 표시된다\n"
          ]
        }
      ],
      "source": [
        "print(sentence_generation(model, tokenizer, '안경을', 7))"
      ]
    },
    {
      "cell_type": "code",
      "execution_count": 37,
      "metadata": {
        "id": "jplVdTYdvkix",
        "outputId": "9e1685b4-95ea-4060-f63e-b4b7c88e7e6e",
        "colab": {
          "base_uri": "https://localhost:8080/"
        }
      },
      "outputs": [
        {
          "output_type": "stream",
          "name": "stdout",
          "text": [
            "AR 3\n",
            "안경을 12\n",
            "사용해 13\n",
            "북경어에서 14\n",
            "영어로 15\n",
            "또는 16\n",
            "그 17\n",
            "반대로 18\n",
            "영어에서 19\n",
            "스페인어로 20\n",
            "번역한다 AR 안경을 사용해 북경어에서 영어로 또는 그 반대로 영어에서 스페인어로 번역한다\n"
          ]
        }
      ],
      "source": [
        "print(sentence_generation(model, tokenizer, 'AR', 10))"
      ]
    },
    {
      "cell_type": "code",
      "source": [
        "print(sentence_generation(model, tokenizer, '청각', 7))"
      ],
      "metadata": {
        "id": "LtA9gMxp0Zvn",
        "outputId": "79809be6-a2d2-46eb-e9e4-5766b2c1fef3",
        "colab": {
          "base_uri": "https://localhost:8080/"
        }
      },
      "execution_count": 38,
      "outputs": [
        {
          "output_type": "stream",
          "name": "stdout",
          "text": [
            "청각 22\n",
            "장애인이나 23\n",
            "난청이 1\n",
            "있는 24\n",
            "사람들에게 25\n",
            "읽을 2\n",
            "수 1\n",
            "있는 청각 장애인이나 난청이 있는 사람들에게 읽을 수 있는\n"
          ]
        }
      ]
    },
    {
      "cell_type": "code",
      "source": [],
      "metadata": {
        "id": "ICHjEzWI03Oy"
      },
      "execution_count": null,
      "outputs": []
    }
  ],
  "metadata": {
    "colab": {
      "provenance": [],
      "gpuType": "T4",
      "include_colab_link": true
    },
    "kernelspec": {
      "display_name": "Python 3",
      "name": "python3"
    },
    "language_info": {
      "codemirror_mode": {
        "name": "ipython",
        "version": 3
      },
      "file_extension": ".py",
      "mimetype": "text/x-python",
      "name": "python",
      "nbconvert_exporter": "python",
      "pygments_lexer": "ipython3",
      "version": "3.8.10"
    },
    "accelerator": "GPU"
  },
  "nbformat": 4,
  "nbformat_minor": 0
}