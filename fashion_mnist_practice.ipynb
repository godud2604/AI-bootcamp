{
  "metadata": {
    "language_info": {
      "pygments_lexer": "ipython3",
      "nbconvert_exporter": "python",
      "version": "3.6.4",
      "file_extension": ".py",
      "codemirror_mode": {
        "name": "ipython",
        "version": 3
      },
      "name": "python",
      "mimetype": "text/x-python"
    },
    "kernelspec": {
      "display_name": "Python 3",
      "name": "python3"
    },
    "colab": {
      "provenance": [],
      "gpuType": "T4",
      "include_colab_link": true
    },
    "accelerator": "GPU"
  },
  "nbformat_minor": 0,
  "nbformat": 4,
  "cells": [
    {
      "cell_type": "markdown",
      "metadata": {
        "id": "view-in-github",
        "colab_type": "text"
      },
      "source": [
        "<a href=\"https://colab.research.google.com/github/godud2604/AI-bootcamp/blob/main/fashion_mnist_practice.ipynb\" target=\"_parent\"><img src=\"https://colab.research.google.com/assets/colab-badge.svg\" alt=\"Open In Colab\"/></a>"
      ]
    },
    {
      "cell_type": "code",
      "source": [
        "# This Python 3 environment comes with many helpful analytics libraries installed\n",
        "# It is defined by the kaggle/python Docker image: https://github.com/kaggle/docker-python\n",
        "# For example, here's several helpful packages to load\n",
        "\n",
        "import numpy as np # linear algebra\n",
        "import pandas as pd # data processing, CSV file I/O (e.g. pd.read_csv)\n",
        "\n",
        "# Input data files are available in the read-only \"../input/\" directory\n",
        "# For example, running this (by clicking run or pressing Shift+Enter) will list all files under the input directory\n",
        "\n",
        "import os\n",
        "for dirname, _, filenames in os.walk('/kaggle/input'):\n",
        "    for filename in filenames:\n",
        "        print(os.path.join(dirname, filename))\n",
        "\n",
        "# You can write up to 20GB to the current directory (/kaggle/working/) that gets preserved as output when you create a version using \"Save & Run All\"\n",
        "# You can also write temporary files to /kaggle/temp/, but they won't be saved outside of the current session"
      ],
      "metadata": {
        "_uuid": "8f2839f25d086af736a60e9eeb907d3b93b6e0e5",
        "_cell_guid": "b1076dfc-b9ad-4769-8c92-a6c4dae69d19",
        "trusted": true,
        "id": "xQsu_4masvn2"
      },
      "execution_count": null,
      "outputs": []
    },
    {
      "cell_type": "markdown",
      "source": [
        "### Keras fashion mnist dataset을 다운로드\n",
        "* 5만개의 학습용, 1만개의 테스트용 grayscale image array를 다운로드"
      ],
      "metadata": {
        "id": "KLpCSLdbsvn5"
      }
    },
    {
      "cell_type": "code",
      "source": [
        "from tensorflow.keras.datasets import fashion_mnist\n",
        "\n",
        "# 전체 6만개 데이터 중, 5만개는 학습 데이터용, 1만개는 테스트 데이터용으로 분리\n",
        "(train_images, train_labels), (test_images, test_labels) = fashion_mnist.load_data()\n",
        "# image size는 28x28의 grayscale 2차원 데이터\n",
        "print(\"train dataset shape:\", train_images.shape, train_labels.shape)\n",
        "print(\"test dataset shape:\", test_images.shape, test_labels.shape)"
      ],
      "metadata": {
        "trusted": true,
        "colab": {
          "base_uri": "https://localhost:8080/"
        },
        "id": "5kBQmRcksvn7",
        "outputId": "05234e0f-2b0b-4f4f-9e49-275b54cbc715"
      },
      "execution_count": null,
      "outputs": [
        {
          "output_type": "stream",
          "name": "stdout",
          "text": [
            "Downloading data from https://storage.googleapis.com/tensorflow/tf-keras-datasets/train-labels-idx1-ubyte.gz\n",
            "29515/29515 [==============================] - 0s 0us/step\n",
            "Downloading data from https://storage.googleapis.com/tensorflow/tf-keras-datasets/train-images-idx3-ubyte.gz\n",
            "26421880/26421880 [==============================] - 0s 0us/step\n",
            "Downloading data from https://storage.googleapis.com/tensorflow/tf-keras-datasets/t10k-labels-idx1-ubyte.gz\n",
            "5148/5148 [==============================] - 0s 0us/step\n",
            "Downloading data from https://storage.googleapis.com/tensorflow/tf-keras-datasets/t10k-images-idx3-ubyte.gz\n",
            "4422102/4422102 [==============================] - 0s 0us/step\n",
            "train dataset shape: (60000, 28, 28) (60000,)\n",
            "test dataset shape: (10000, 28, 28) (10000,)\n"
          ]
        }
      ]
    },
    {
      "cell_type": "markdown",
      "source": [
        "### MNIST image array 시각화"
      ],
      "metadata": {
        "id": "qXYr1320svn7"
      }
    },
    {
      "cell_type": "code",
      "source": [
        "import matplotlib.pyplot as plt\n",
        "%matplotlib inline\n",
        "\n",
        "plt.imshow(train_images[0], cmap='gray')\n",
        "plt.title(train_labels[0])"
      ],
      "metadata": {
        "trusted": true,
        "colab": {
          "base_uri": "https://localhost:8080/",
          "height": 470
        },
        "id": "C0l7Pnnosvn7",
        "outputId": "e2f223ba-e5d3-4b1e-9ae7-4d108d9fa331"
      },
      "execution_count": null,
      "outputs": [
        {
          "output_type": "execute_result",
          "data": {
            "text/plain": [
              "Text(0.5, 1.0, '9')"
            ]
          },
          "metadata": {},
          "execution_count": 3
        },
        {
          "output_type": "display_data",
          "data": {
            "text/plain": [
              "<Figure size 640x480 with 1 Axes>"
            ],
            "image/png": "[encoded data removed]"
          },
          "metadata": {}
        }
      ]
    },
    {
      "cell_type": "code",
      "source": [
        "train_images[0, :, :], train_labels[0]"
      ],
      "metadata": {
        "trusted": true,
        "colab": {
          "base_uri": "https://localhost:8080/"
        },
        "id": "5A1FQM1Rsvn8",
        "outputId": "140d5598-f18a-4e79-9856-4c487b636b86"
      },
      "execution_count": null,
      "outputs": [
        {
          "output_type": "execute_result",
          "data": {
            "text/plain": [
              "(array([[  0,   0,   0,   0,   0,   0,   0,   0,   0,   0,   0,   0,   0,\n",
              "           0,   0,   0,   0,   0,   0,   0,   0,   0,   0,   0,   0,   0,\n",
              "           0,   0],\n",
              "        [  0,   0,   0,   0,   0,   0,   0,   0,   0,   0,   0,   0,   0,\n",
              "           0,   0,   0,   0,   0,   0,   0,   0,   0,   0,   0,   0,   0,\n",
              "           0,   0],\n",
              "        [  0,   0,   0,   0,   0,   0,   0,   0,   0,   0,   0,   0,   0,\n",
              "           0,   0,   0,   0,   0,   0,   0,   0,   0,   0,   0,   0,   0,\n",
              "           0,   0],\n",
              "        [  0,   0,   0,   0,   0,   0,   0,   0,   0,   0,   0,   0,   1,\n",
              "           0,   0,  13,  73,   0,   0,   1,   4,   0,   0,   0,   0,   1,\n",
              "           1,   0],\n",
              "        [  0,   0,   0,   0,   0,   0,   0,   0,   0,   0,   0,   0,   3,\n",
              "           0,  36, 136, 127,  62,  54,   0,   0,   0,   1,   3,   4,   0,\n",
              "           0,   3],\n",
              "        [  0,   0,   0,   0,   0,   0,   0,   0,   0,   0,   0,   0,   6,\n",
              "           0, 102, 204, 176, 134, 144, 123,  23,   0,   0,   0,   0,  12,\n",
              "          10,   0],\n",
              "        [  0,   0,   0,   0,   0,   0,   0,   0,   0,   0,   0,   0,   0,\n",
              "           0, 155, 236, 207, 178, 107, 156, 161, 109,  64,  23,  77, 130,\n",
              "          72,  15],\n",
              "        [  0,   0,   0,   0,   0,   0,   0,   0,   0,   0,   0,   1,   0,\n",
              "          69, 207, 223, 218, 216, 216, 163, 127, 121, 122, 146, 141,  88,\n",
              "         172,  66],\n",
              "        [  0,   0,   0,   0,   0,   0,   0,   0,   0,   1,   1,   1,   0,\n",
              "         200, 232, 232, 233, 229, 223, 223, 215, 213, 164, 127, 123, 196,\n",
              "         229,   0],\n",
              "        [  0,   0,   0,   0,   0,   0,   0,   0,   0,   0,   0,   0,   0,\n",
              "         183, 225, 216, 223, 228, 235, 227, 224, 222, 224, 221, 223, 245,\n",
              "         173,   0],\n",
              "        [  0,   0,   0,   0,   0,   0,   0,   0,   0,   0,   0,   0,   0,\n",
              "         193, 228, 218, 213, 198, 180, 212, 210, 211, 213, 223, 220, 243,\n",
              "         202,   0],\n",
              "        [  0,   0,   0,   0,   0,   0,   0,   0,   0,   1,   3,   0,  12,\n",
              "         219, 220, 212, 218, 192, 169, 227, 208, 218, 224, 212, 226, 197,\n",
              "         209,  52],\n",
              "        [  0,   0,   0,   0,   0,   0,   0,   0,   0,   0,   6,   0,  99,\n",
              "         244, 222, 220, 218, 203, 198, 221, 215, 213, 222, 220, 245, 119,\n",
              "         167,  56],\n",
              "        [  0,   0,   0,   0,   0,   0,   0,   0,   0,   4,   0,   0,  55,\n",
              "         236, 228, 230, 228, 240, 232, 213, 218, 223, 234, 217, 217, 209,\n",
              "          92,   0],\n",
              "        [  0,   0,   1,   4,   6,   7,   2,   0,   0,   0,   0,   0, 237,\n",
              "         226, 217, 223, 222, 219, 222, 221, 216, 223, 229, 215, 218, 255,\n",
              "          77,   0],\n",
              "        [  0,   3,   0,   0,   0,   0,   0,   0,   0,  62, 145, 204, 228,\n",
              "         207, 213, 221, 218, 208, 211, 218, 224, 223, 219, 215, 224, 244,\n",
              "         159,   0],\n",
              "        [  0,   0,   0,   0,  18,  44,  82, 107, 189, 228, 220, 222, 217,\n",
              "         226, 200, 205, 211, 230, 224, 234, 176, 188, 250, 248, 233, 238,\n",
              "         215,   0],\n",
              "        [  0,  57, 187, 208, 224, 221, 224, 208, 204, 214, 208, 209, 200,\n",
              "         159, 245, 193, 206, 223, 255, 255, 221, 234, 221, 211, 220, 232,\n",
              "         246,   0],\n",
              "        [  3, 202, 228, 224, 221, 211, 211, 214, 205, 205, 205, 220, 240,\n",
              "          80, 150, 255, 229, 221, 188, 154, 191, 210, 204, 209, 222, 228,\n",
              "         225,   0],\n",
              "        [ 98, 233, 198, 210, 222, 229, 229, 234, 249, 220, 194, 215, 217,\n",
              "         241,  65,  73, 106, 117, 168, 219, 221, 215, 217, 223, 223, 224,\n",
              "         229,  29],\n",
              "        [ 75, 204, 212, 204, 193, 205, 211, 225, 216, 185, 197, 206, 198,\n",
              "         213, 240, 195, 227, 245, 239, 223, 218, 212, 209, 222, 220, 221,\n",
              "         230,  67],\n",
              "        [ 48, 203, 183, 194, 213, 197, 185, 190, 194, 192, 202, 214, 219,\n",
              "         221, 220, 236, 225, 216, 199, 206, 186, 181, 177, 172, 181, 205,\n",
              "         206, 115],\n",
              "        [  0, 122, 219, 193, 179, 171, 183, 196, 204, 210, 213, 207, 211,\n",
              "         210, 200, 196, 194, 191, 195, 191, 198, 192, 176, 156, 167, 177,\n",
              "         210,  92],\n",
              "        [  0,   0,  74, 189, 212, 191, 175, 172, 175, 181, 185, 188, 189,\n",
              "         188, 193, 198, 204, 209, 210, 210, 211, 188, 188, 194, 192, 216,\n",
              "         170,   0],\n",
              "        [  2,   0,   0,   0,  66, 200, 222, 237, 239, 242, 246, 243, 244,\n",
              "         221, 220, 193, 191, 179, 182, 182, 181, 176, 166, 168,  99,  58,\n",
              "           0,   0],\n",
              "        [  0,   0,   0,   0,   0,   0,   0,  40,  61,  44,  72,  41,  35,\n",
              "           0,   0,   0,   0,   0,   0,   0,   0,   0,   0,   0,   0,   0,\n",
              "           0,   0],\n",
              "        [  0,   0,   0,   0,   0,   0,   0,   0,   0,   0,   0,   0,   0,\n",
              "           0,   0,   0,   0,   0,   0,   0,   0,   0,   0,   0,   0,   0,\n",
              "           0,   0],\n",
              "        [  0,   0,   0,   0,   0,   0,   0,   0,   0,   0,   0,   0,   0,\n",
              "           0,   0,   0,   0,   0,   0,   0,   0,   0,   0,   0,   0,   0,\n",
              "           0,   0]], dtype=uint8),\n",
              " 9)"
            ]
          },
          "metadata": {},
          "execution_count": 4
        }
      ]
    },
    {
      "cell_type": "code",
      "source": [
        "import matplotlib.pyplot as plt\n",
        "%matplotlib inline\n",
        "\n",
        "class_names = ['T-shirt/top', 'Trouser', 'Pullover', 'Dress', 'Coat','Sandal', 'Shirt', 'Sneaker', 'Bag', 'Ankle boot']\n",
        "\n",
        "def show_images(images, labels, ncols=8):\n",
        "    figure, axs = plt.subplots(figsize=(22, 6), nrows=1, ncols=ncols)\n",
        "\n",
        "    # 0~7\n",
        "    for i in range(ncols):\n",
        "        axs[i].imshow(images[i], cmap='gray')\n",
        "        axs[i].set_title(class_names[labels[i]])\n",
        "\n",
        "show_images(train_images[:8], train_labels[:8], ncols=8) # [0~7]\n",
        "show_images(train_images[8:16], train_labels[8:16], ncols=8)"
      ],
      "metadata": {
        "trusted": true,
        "colab": {
          "base_uri": "https://localhost:8080/",
          "height": 389
        },
        "id": "4zB4LMOgsvn8",
        "outputId": "84654ea8-35d3-41dc-9011-9ab52888b5f8"
      },
      "execution_count": null,
      "outputs": [
        {
          "output_type": "display_data",
          "data": {
            "text/plain": [
              "<Figure size 2200x600 with 8 Axes>"
            ],
            "image/png": "[encoded data removed]"
          },
          "metadata": {}
        },
        {
          "output_type": "display_data",
          "data": {
            "text/plain": [
              "<Figure size 2200x600 with 8 Axes>"
            ],
            "image/png": "[encoded data removed]"
          },
          "metadata": {}
        }
      ]
    },
    {
      "cell_type": "markdown",
      "source": [
        "### 데이터 전처리 수행.\n",
        "* 0 ~ 255 사이의 픽셀값을 0 ~ 1 사이 값으로 변환.\n",
        "  -> 성능이 더 좋아짐\n",
        "* array type은 float 32"
      ],
      "metadata": {
        "id": "r-iZQV5isvn8"
      }
    },
    {
      "cell_type": "code",
      "source": [
        "(train_images, train_labels), (test_images, test_labels) = fashion_mnist.load_data()\n",
        "\n",
        "def get_preprocessed_data(images, labels):\n",
        "\n",
        "    # 학습과 테스트 이미지 array를 0~1 사이값으로 scale 및 float32 형 변형.\n",
        "    images = np.array(images/255.0, dtype=np.float32)\n",
        "    labels = np.array(labels, dtype=np.float32)\n",
        "\n",
        "    return images, labels\n",
        "\n",
        "train_images, train_labels = get_preprocessed_data(train_images, train_labels)\n",
        "test_images, test_labels = get_preprocessed_data(test_images, test_labels)\n",
        "\n",
        "print(\"train dataset shape:\", train_images.shape, train_labels.shape)\n",
        "print(\"test dataset shape:\", test_images.shape, test_labels.shape)\n"
      ],
      "metadata": {
        "trusted": true,
        "colab": {
          "base_uri": "https://localhost:8080/"
        },
        "id": "T9egCgMvsvn8",
        "outputId": "bf86fc1a-4dbc-433c-9da1-4f2bc56504d9"
      },
      "execution_count": null,
      "outputs": [
        {
          "output_type": "stream",
          "name": "stdout",
          "text": [
            "train dataset shape: (60000, 28, 28) (60000,)\n",
            "test dataset shape: (10000, 28, 28) (10000,)\n"
          ]
        }
      ]
    },
    {
      "cell_type": "code",
      "source": [
        "train_labels"
      ],
      "metadata": {
        "colab": {
          "base_uri": "https://localhost:8080/"
        },
        "id": "9csO7fl56gFm",
        "outputId": "88613497-7e4a-46b3-af33-cee05a5dc46a"
      },
      "execution_count": null,
      "outputs": [
        {
          "output_type": "execute_result",
          "data": {
            "text/plain": [
              "array([9., 0., 0., ..., 3., 0., 5.], dtype=float32)"
            ]
          },
          "metadata": {},
          "execution_count": 7
        }
      ]
    },
    {
      "cell_type": "code",
      "source": [
        "train_images[0]"
      ],
      "metadata": {
        "trusted": true,
        "colab": {
          "base_uri": "https://localhost:8080/"
        },
        "id": "JYQyViiysvn9",
        "outputId": "5856c641-2f8e-4fa3-82cf-da9ff578a1dd"
      },
      "execution_count": null,
      "outputs": [
        {
          "output_type": "execute_result",
          "data": {
            "text/plain": [
              "array([[0.        , 0.        , 0.        , 0.        , 0.        ,\n",
              "        0.        , 0.        , 0.        , 0.        , 0.        ,\n",
              "        0.        , 0.        , 0.        , 0.        , 0.        ,\n",
              "        0.        , 0.        , 0.        , 0.        , 0.        ,\n",
              "        0.        , 0.        , 0.        , 0.        , 0.        ,\n",
              "        0.        , 0.        , 0.        ],\n",
              "       [0.        , 0.        , 0.        , 0.        , 0.        ,\n",
              "        0.        , 0.        , 0.        , 0.        , 0.        ,\n",
              "        0.        , 0.        , 0.        , 0.        , 0.        ,\n",
              "        0.        , 0.        , 0.        , 0.        , 0.        ,\n",
              "        0.        , 0.        , 0.        , 0.        , 0.        ,\n",
              "        0.        , 0.        , 0.        ],\n",
              "       [0.        , 0.        , 0.        , 0.        , 0.        ,\n",
              "        0.        , 0.        , 0.        , 0.        , 0.        ,\n",
              "        0.        , 0.        , 0.        , 0.        , 0.        ,\n",
              "        0.        , 0.        , 0.        , 0.        , 0.        ,\n",
              "        0.        , 0.        , 0.        , 0.        , 0.        ,\n",
              "        0.        , 0.        , 0.        ],\n",
              "       [0.        , 0.        , 0.        , 0.        , 0.        ,\n",
              "        0.        , 0.        , 0.        , 0.        , 0.        ,\n",
              "        0.        , 0.        , 0.00392157, 0.        , 0.        ,\n",
              "        0.05098039, 0.28627452, 0.        , 0.        , 0.00392157,\n",
              "        0.01568628, 0.        , 0.        , 0.        , 0.        ,\n",
              "        0.00392157, 0.00392157, 0.        ],\n",
              "       [0.        , 0.        , 0.        , 0.        , 0.        ,\n",
              "        0.        , 0.        , 0.        , 0.        , 0.        ,\n",
              "        0.        , 0.        , 0.01176471, 0.        , 0.14117648,\n",
              "        0.53333336, 0.49803922, 0.24313726, 0.21176471, 0.        ,\n",
              "        0.        , 0.        , 0.00392157, 0.01176471, 0.01568628,\n",
              "        0.        , 0.        , 0.01176471],\n",
              "       [0.        , 0.        , 0.        , 0.        , 0.        ,\n",
              "        0.        , 0.        , 0.        , 0.        , 0.        ,\n",
              "        0.        , 0.        , 0.02352941, 0.        , 0.4       ,\n",
              "        0.8       , 0.6901961 , 0.5254902 , 0.5647059 , 0.48235294,\n",
              "        0.09019608, 0.        , 0.        , 0.        , 0.        ,\n",
              "        0.04705882, 0.03921569, 0.        ],\n",
              "       [0.        , 0.        , 0.        , 0.        , 0.        ,\n",
              "        0.        , 0.        , 0.        , 0.        , 0.        ,\n",
              "        0.        , 0.        , 0.        , 0.        , 0.60784316,\n",
              "        0.9254902 , 0.8117647 , 0.69803923, 0.41960785, 0.6117647 ,\n",
              "        0.6313726 , 0.42745098, 0.2509804 , 0.09019608, 0.3019608 ,\n",
              "        0.50980395, 0.28235295, 0.05882353],\n",
              "       [0.        , 0.        , 0.        , 0.        , 0.        ,\n",
              "        0.        , 0.        , 0.        , 0.        , 0.        ,\n",
              "        0.        , 0.00392157, 0.        , 0.27058825, 0.8117647 ,\n",
              "        0.8745098 , 0.85490197, 0.84705883, 0.84705883, 0.6392157 ,\n",
              "        0.49803922, 0.4745098 , 0.47843137, 0.57254905, 0.5529412 ,\n",
              "        0.34509805, 0.6745098 , 0.25882354],\n",
              "       [0.        , 0.        , 0.        , 0.        , 0.        ,\n",
              "        0.        , 0.        , 0.        , 0.        , 0.00392157,\n",
              "        0.00392157, 0.00392157, 0.        , 0.78431374, 0.9098039 ,\n",
              "        0.9098039 , 0.9137255 , 0.8980392 , 0.8745098 , 0.8745098 ,\n",
              "        0.84313726, 0.8352941 , 0.6431373 , 0.49803922, 0.48235294,\n",
              "        0.76862746, 0.8980392 , 0.        ],\n",
              "       [0.        , 0.        , 0.        , 0.        , 0.        ,\n",
              "        0.        , 0.        , 0.        , 0.        , 0.        ,\n",
              "        0.        , 0.        , 0.        , 0.7176471 , 0.88235295,\n",
              "        0.84705883, 0.8745098 , 0.89411765, 0.92156863, 0.8901961 ,\n",
              "        0.8784314 , 0.87058824, 0.8784314 , 0.8666667 , 0.8745098 ,\n",
              "        0.9607843 , 0.6784314 , 0.        ],\n",
              "       [0.        , 0.        , 0.        , 0.        , 0.        ,\n",
              "        0.        , 0.        , 0.        , 0.        , 0.        ,\n",
              "        0.        , 0.        , 0.        , 0.75686276, 0.89411765,\n",
              "        0.85490197, 0.8352941 , 0.7764706 , 0.7058824 , 0.83137256,\n",
              "        0.8235294 , 0.827451  , 0.8352941 , 0.8745098 , 0.8627451 ,\n",
              "        0.9529412 , 0.7921569 , 0.        ],\n",
              "       [0.        , 0.        , 0.        , 0.        , 0.        ,\n",
              "        0.        , 0.        , 0.        , 0.        , 0.00392157,\n",
              "        0.01176471, 0.        , 0.04705882, 0.85882354, 0.8627451 ,\n",
              "        0.83137256, 0.85490197, 0.7529412 , 0.6627451 , 0.8901961 ,\n",
              "        0.8156863 , 0.85490197, 0.8784314 , 0.83137256, 0.8862745 ,\n",
              "        0.77254903, 0.81960785, 0.20392157],\n",
              "       [0.        , 0.        , 0.        , 0.        , 0.        ,\n",
              "        0.        , 0.        , 0.        , 0.        , 0.        ,\n",
              "        0.02352941, 0.        , 0.3882353 , 0.95686275, 0.87058824,\n",
              "        0.8627451 , 0.85490197, 0.79607844, 0.7764706 , 0.8666667 ,\n",
              "        0.84313726, 0.8352941 , 0.87058824, 0.8627451 , 0.9607843 ,\n",
              "        0.46666667, 0.654902  , 0.21960784],\n",
              "       [0.        , 0.        , 0.        , 0.        , 0.        ,\n",
              "        0.        , 0.        , 0.        , 0.        , 0.01568628,\n",
              "        0.        , 0.        , 0.21568628, 0.9254902 , 0.89411765,\n",
              "        0.9019608 , 0.89411765, 0.9411765 , 0.9098039 , 0.8352941 ,\n",
              "        0.85490197, 0.8745098 , 0.91764706, 0.8509804 , 0.8509804 ,\n",
              "        0.81960785, 0.36078432, 0.        ],\n",
              "       [0.        , 0.        , 0.00392157, 0.01568628, 0.02352941,\n",
              "        0.02745098, 0.00784314, 0.        , 0.        , 0.        ,\n",
              "        0.        , 0.        , 0.92941177, 0.8862745 , 0.8509804 ,\n",
              "        0.8745098 , 0.87058824, 0.85882354, 0.87058824, 0.8666667 ,\n",
              "        0.84705883, 0.8745098 , 0.8980392 , 0.84313726, 0.85490197,\n",
              "        1.        , 0.3019608 , 0.        ],\n",
              "       [0.        , 0.01176471, 0.        , 0.        , 0.        ,\n",
              "        0.        , 0.        , 0.        , 0.        , 0.24313726,\n",
              "        0.5686275 , 0.8       , 0.89411765, 0.8117647 , 0.8352941 ,\n",
              "        0.8666667 , 0.85490197, 0.8156863 , 0.827451  , 0.85490197,\n",
              "        0.8784314 , 0.8745098 , 0.85882354, 0.84313726, 0.8784314 ,\n",
              "        0.95686275, 0.62352943, 0.        ],\n",
              "       [0.        , 0.        , 0.        , 0.        , 0.07058824,\n",
              "        0.17254902, 0.32156864, 0.41960785, 0.7411765 , 0.89411765,\n",
              "        0.8627451 , 0.87058824, 0.8509804 , 0.8862745 , 0.78431374,\n",
              "        0.8039216 , 0.827451  , 0.9019608 , 0.8784314 , 0.91764706,\n",
              "        0.6901961 , 0.7372549 , 0.98039216, 0.972549  , 0.9137255 ,\n",
              "        0.93333334, 0.84313726, 0.        ],\n",
              "       [0.        , 0.22352941, 0.73333335, 0.8156863 , 0.8784314 ,\n",
              "        0.8666667 , 0.8784314 , 0.8156863 , 0.8       , 0.8392157 ,\n",
              "        0.8156863 , 0.81960785, 0.78431374, 0.62352943, 0.9607843 ,\n",
              "        0.75686276, 0.80784315, 0.8745098 , 1.        , 1.        ,\n",
              "        0.8666667 , 0.91764706, 0.8666667 , 0.827451  , 0.8627451 ,\n",
              "        0.9098039 , 0.9647059 , 0.        ],\n",
              "       [0.01176471, 0.7921569 , 0.89411765, 0.8784314 , 0.8666667 ,\n",
              "        0.827451  , 0.827451  , 0.8392157 , 0.8039216 , 0.8039216 ,\n",
              "        0.8039216 , 0.8627451 , 0.9411765 , 0.3137255 , 0.5882353 ,\n",
              "        1.        , 0.8980392 , 0.8666667 , 0.7372549 , 0.6039216 ,\n",
              "        0.7490196 , 0.8235294 , 0.8       , 0.81960785, 0.87058824,\n",
              "        0.89411765, 0.88235295, 0.        ],\n",
              "       [0.38431373, 0.9137255 , 0.7764706 , 0.8235294 , 0.87058824,\n",
              "        0.8980392 , 0.8980392 , 0.91764706, 0.9764706 , 0.8627451 ,\n",
              "        0.7607843 , 0.84313726, 0.8509804 , 0.94509804, 0.25490198,\n",
              "        0.28627452, 0.41568628, 0.45882353, 0.65882355, 0.85882354,\n",
              "        0.8666667 , 0.84313726, 0.8509804 , 0.8745098 , 0.8745098 ,\n",
              "        0.8784314 , 0.8980392 , 0.11372549],\n",
              "       [0.29411766, 0.8       , 0.83137256, 0.8       , 0.75686276,\n",
              "        0.8039216 , 0.827451  , 0.88235295, 0.84705883, 0.7254902 ,\n",
              "        0.77254903, 0.80784315, 0.7764706 , 0.8352941 , 0.9411765 ,\n",
              "        0.7647059 , 0.8901961 , 0.9607843 , 0.9372549 , 0.8745098 ,\n",
              "        0.85490197, 0.83137256, 0.81960785, 0.87058824, 0.8627451 ,\n",
              "        0.8666667 , 0.9019608 , 0.2627451 ],\n",
              "       [0.1882353 , 0.79607844, 0.7176471 , 0.7607843 , 0.8352941 ,\n",
              "        0.77254903, 0.7254902 , 0.74509805, 0.7607843 , 0.7529412 ,\n",
              "        0.7921569 , 0.8392157 , 0.85882354, 0.8666667 , 0.8627451 ,\n",
              "        0.9254902 , 0.88235295, 0.84705883, 0.78039217, 0.80784315,\n",
              "        0.7294118 , 0.70980394, 0.69411767, 0.6745098 , 0.70980394,\n",
              "        0.8039216 , 0.80784315, 0.4509804 ],\n",
              "       [0.        , 0.47843137, 0.85882354, 0.75686276, 0.7019608 ,\n",
              "        0.67058825, 0.7176471 , 0.76862746, 0.8       , 0.8235294 ,\n",
              "        0.8352941 , 0.8117647 , 0.827451  , 0.8235294 , 0.78431374,\n",
              "        0.76862746, 0.7607843 , 0.7490196 , 0.7647059 , 0.7490196 ,\n",
              "        0.7764706 , 0.7529412 , 0.6901961 , 0.6117647 , 0.654902  ,\n",
              "        0.69411767, 0.8235294 , 0.36078432],\n",
              "       [0.        , 0.        , 0.2901961 , 0.7411765 , 0.83137256,\n",
              "        0.7490196 , 0.6862745 , 0.6745098 , 0.6862745 , 0.70980394,\n",
              "        0.7254902 , 0.7372549 , 0.7411765 , 0.7372549 , 0.75686276,\n",
              "        0.7764706 , 0.8       , 0.81960785, 0.8235294 , 0.8235294 ,\n",
              "        0.827451  , 0.7372549 , 0.7372549 , 0.7607843 , 0.7529412 ,\n",
              "        0.84705883, 0.6666667 , 0.        ],\n",
              "       [0.00784314, 0.        , 0.        , 0.        , 0.25882354,\n",
              "        0.78431374, 0.87058824, 0.92941177, 0.9372549 , 0.9490196 ,\n",
              "        0.9647059 , 0.9529412 , 0.95686275, 0.8666667 , 0.8627451 ,\n",
              "        0.75686276, 0.7490196 , 0.7019608 , 0.7137255 , 0.7137255 ,\n",
              "        0.70980394, 0.6901961 , 0.6509804 , 0.65882355, 0.3882353 ,\n",
              "        0.22745098, 0.        , 0.        ],\n",
              "       [0.        , 0.        , 0.        , 0.        , 0.        ,\n",
              "        0.        , 0.        , 0.15686275, 0.23921569, 0.17254902,\n",
              "        0.28235295, 0.16078432, 0.13725491, 0.        , 0.        ,\n",
              "        0.        , 0.        , 0.        , 0.        , 0.        ,\n",
              "        0.        , 0.        , 0.        , 0.        , 0.        ,\n",
              "        0.        , 0.        , 0.        ],\n",
              "       [0.        , 0.        , 0.        , 0.        , 0.        ,\n",
              "        0.        , 0.        , 0.        , 0.        , 0.        ,\n",
              "        0.        , 0.        , 0.        , 0.        , 0.        ,\n",
              "        0.        , 0.        , 0.        , 0.        , 0.        ,\n",
              "        0.        , 0.        , 0.        , 0.        , 0.        ,\n",
              "        0.        , 0.        , 0.        ],\n",
              "       [0.        , 0.        , 0.        , 0.        , 0.        ,\n",
              "        0.        , 0.        , 0.        , 0.        , 0.        ,\n",
              "        0.        , 0.        , 0.        , 0.        , 0.        ,\n",
              "        0.        , 0.        , 0.        , 0.        , 0.        ,\n",
              "        0.        , 0.        , 0.        , 0.        , 0.        ,\n",
              "        0.        , 0.        , 0.        ]], dtype=float32)"
            ]
          },
          "metadata": {},
          "execution_count": 8
        }
      ]
    },
    {
      "cell_type": "markdown",
      "source": [
        "### Dense Layer를 기반으로 모델을 생성"
      ],
      "metadata": {
        "id": "jwR_2QYQsvn9"
      }
    },
    {
      "cell_type": "code",
      "source": [
        "INPUT_SIZE = 28"
      ],
      "metadata": {
        "trusted": true,
        "id": "wmP7V1Wysvn9"
      },
      "execution_count": null,
      "outputs": []
    },
    {
      "cell_type": "code",
      "source": [
        "from tensorflow.keras.layers import Dense, Flatten\n",
        "from tensorflow.keras.models import Sequential\n",
        "\n",
        "model = Sequential([\n",
        "    Flatten(input_shape=(INPUT_SIZE, INPUT_SIZE)),\n",
        "    Dense(100, activation='relu'),\n",
        "    Dense(30, activation='relu'),\n",
        "    Dense(10, activation='softmax')\n",
        "])\n",
        "\n",
        "model.summary()\n"
      ],
      "metadata": {
        "trusted": true,
        "colab": {
          "base_uri": "https://localhost:8080/"
        },
        "id": "kxxDjMUAsvn9",
        "outputId": "9cb469ef-a338-4ac0-dfef-a3f0877d79c8"
      },
      "execution_count": null,
      "outputs": [
        {
          "output_type": "stream",
          "name": "stdout",
          "text": [
            "Model: \"sequential\"\n",
            "_________________________________________________________________\n",
            " Layer (type)                Output Shape              Param #   \n",
            "=================================================================\n",
            " flatten (Flatten)           (None, 784)               0         \n",
            "                                                                 \n",
            " dense (Dense)               (None, 100)               78500     \n",
            "                                                                 \n",
            " dense_1 (Dense)             (None, 30)                3030      \n",
            "                                                                 \n",
            " dense_2 (Dense)             (None, 10)                310       \n",
            "                                                                 \n",
            "=================================================================\n",
            "Total params: 81840 (319.69 KB)\n",
            "Trainable params: 81840 (319.69 KB)\n",
            "Non-trainable params: 0 (0.00 Byte)\n",
            "_________________________________________________________________\n"
          ]
        }
      ]
    },
    {
      "cell_type": "markdown",
      "source": [
        "### 모델의 Loss와 Optimizer 설정하고 학습 수행\n",
        "* loss는 categorical_crossentropy로, optimizer는 Adam으로 설정\n",
        "* categorical crossentropy를 위해서 Lable을 OHE 로 변경"
      ],
      "metadata": {
        "id": "jjsV7pqWsvn9"
      }
    },
    {
      "cell_type": "code",
      "source": [
        "from tensorflow.keras.optimizers import Adam\n",
        "from tensorflow.keras.losses import CategoricalCrossentropy\n",
        "from tensorflow.keras.metrics import Accuracy\n",
        "\n",
        "model.compile(optimizer=Adam(0.001), loss='categorical_crossentropy', metrics=['accuracy'])"
      ],
      "metadata": {
        "trusted": true,
        "id": "Yx7e_NwWsvn-"
      },
      "execution_count": null,
      "outputs": []
    },
    {
      "cell_type": "code",
      "source": [
        "from tensorflow.keras.utils import to_categorical\n",
        "\n",
        "# 원핫인코딩\n",
        "train_oh_labels = to_categorical(train_labels)\n",
        "test_oh_labels = to_categorical(test_labels)\n",
        "\n",
        "print(train_oh_labels.shape, test_oh_labels.shape)"
      ],
      "metadata": {
        "trusted": true,
        "colab": {
          "base_uri": "https://localhost:8080/"
        },
        "id": "3CfG5Jlrsvn-",
        "outputId": "6e9fabc5-309f-48bd-a5f1-56dde8b90a41"
      },
      "execution_count": null,
      "outputs": [
        {
          "output_type": "stream",
          "name": "stdout",
          "text": [
            "(60000, 10) (10000, 10)\n"
          ]
        }
      ]
    },
    {
      "cell_type": "code",
      "source": [
        "train_oh_labels"
      ],
      "metadata": {
        "colab": {
          "base_uri": "https://localhost:8080/"
        },
        "id": "_Y3vVVst6brA",
        "outputId": "da984239-0673-47cc-8d34-05686d24bec7"
      },
      "execution_count": null,
      "outputs": [
        {
          "output_type": "execute_result",
          "data": {
            "text/plain": [
              "array([[0., 0., 0., ..., 0., 0., 1.],\n",
              "       [1., 0., 0., ..., 0., 0., 0.],\n",
              "       [1., 0., 0., ..., 0., 0., 0.],\n",
              "       ...,\n",
              "       [0., 0., 0., ..., 0., 0., 0.],\n",
              "       [1., 0., 0., ..., 0., 0., 0.],\n",
              "       [0., 0., 0., ..., 0., 0., 0.]], dtype=float32)"
            ]
          },
          "metadata": {},
          "execution_count": 13
        }
      ]
    },
    {
      "cell_type": "code",
      "source": [
        "train_images.shape"
      ],
      "metadata": {
        "trusted": true,
        "colab": {
          "base_uri": "https://localhost:8080/"
        },
        "id": "p5lNW3uisvn-",
        "outputId": "592b236b-6d47-4ac2-e2d3-dfe9881e39db"
      },
      "execution_count": null,
      "outputs": [
        {
          "output_type": "execute_result",
          "data": {
            "text/plain": [
              "(60000, 28, 28)"
            ]
          },
          "metadata": {},
          "execution_count": 14
        }
      ]
    },
    {
      "cell_type": "code",
      "source": [
        "# train_images => 0~1로 정규화 되어있음\n",
        "# 3차원 => (60000, 28, 28)\n",
        "\n",
        "# train_oh_labels => categorical crossentropy를 위해서 OHE로 변경\n",
        "history = model.fit(x=train_images, y=train_oh_labels, batch_size=32, epochs=20, verbose=1)"
      ],
      "metadata": {
        "trusted": true,
        "colab": {
          "base_uri": "https://localhost:8080/",
          "height": 507
        },
        "id": "bGVOA3wTsvn-",
        "outputId": "caf18451-2e84-4eb7-ab51-a33ee52daf31"
      },
      "execution_count": null,
      "outputs": [
        {
          "output_type": "stream",
          "name": "stdout",
          "text": [
            "Epoch 1/20\n",
            "1875/1875 [==============================] - 11s 3ms/step - loss: 0.5107 - accuracy: 0.8173\n",
            "Epoch 2/20\n",
            "1875/1875 [==============================] - 8s 4ms/step - loss: 0.3778 - accuracy: 0.8634\n",
            "Epoch 3/20\n",
            "1875/1875 [==============================] - 9s 5ms/step - loss: 0.3402 - accuracy: 0.8751\n",
            "Epoch 4/20\n",
            "1803/1875 [===========================>..] - ETA: 0s - loss: 0.3154 - accuracy: 0.8842"
          ]
        },
        {
          "output_type": "error",
          "ename": "KeyboardInterrupt",
          "evalue": "ignored",
          "traceback": [
            "\u001b[0;31m---------------------------------------------------------------------------\u001b[0m",
            "\u001b[0;31mKeyboardInterrupt\u001b[0m                         Traceback (most recent call last)",
            "\u001b[0;32m<ipython-input-15-26b65569cdae>\u001b[0m in \u001b[0;36m<cell line: 5>\u001b[0;34m()\u001b[0m\n\u001b[1;32m      3\u001b[0m \u001b[0;34m\u001b[0m\u001b[0m\n\u001b[1;32m      4\u001b[0m \u001b[0;31m# train_oh_labels => categorical crossentropy를 위해서 OHE로 변경\u001b[0m\u001b[0;34m\u001b[0m\u001b[0;34m\u001b[0m\u001b[0m\n\u001b[0;32m----> 5\u001b[0;31m \u001b[0mhistory\u001b[0m \u001b[0;34m=\u001b[0m \u001b[0mmodel\u001b[0m\u001b[0;34m.\u001b[0m\u001b[0mfit\u001b[0m\u001b[0;34m(\u001b[0m\u001b[0mx\u001b[0m\u001b[0;34m=\u001b[0m\u001b[0mtrain_images\u001b[0m\u001b[0;34m,\u001b[0m \u001b[0my\u001b[0m\u001b[0;34m=\u001b[0m\u001b[0mtrain_oh_labels\u001b[0m\u001b[0;34m,\u001b[0m \u001b[0mbatch_size\u001b[0m\u001b[0;34m=\u001b[0m\u001b[0;36m32\u001b[0m\u001b[0;34m,\u001b[0m \u001b[0mepochs\u001b[0m\u001b[0;34m=\u001b[0m\u001b[0;36m20\u001b[0m\u001b[0;34m,\u001b[0m \u001b[0mverbose\u001b[0m\u001b[0;34m=\u001b[0m\u001b[0;36m1\u001b[0m\u001b[0;34m)\u001b[0m\u001b[0;34m\u001b[0m\u001b[0;34m\u001b[0m\u001b[0m\n\u001b[0m",
            "\u001b[0;32m/usr/local/lib/python3.10/dist-packages/keras/src/utils/traceback_utils.py\u001b[0m in \u001b[0;36merror_handler\u001b[0;34m(*args, **kwargs)\u001b[0m\n\u001b[1;32m     63\u001b[0m         \u001b[0mfiltered_tb\u001b[0m \u001b[0;34m=\u001b[0m \u001b[0;32mNone\u001b[0m\u001b[0;34m\u001b[0m\u001b[0;34m\u001b[0m\u001b[0m\n\u001b[1;32m     64\u001b[0m         \u001b[0;32mtry\u001b[0m\u001b[0;34m:\u001b[0m\u001b[0;34m\u001b[0m\u001b[0;34m\u001b[0m\u001b[0m\n\u001b[0;32m---> 65\u001b[0;31m             \u001b[0;32mreturn\u001b[0m \u001b[0mfn\u001b[0m\u001b[0;34m(\u001b[0m\u001b[0;34m*\u001b[0m\u001b[0margs\u001b[0m\u001b[0;34m,\u001b[0m \u001b[0;34m**\u001b[0m\u001b[0mkwargs\u001b[0m\u001b[0;34m)\u001b[0m\u001b[0;34m\u001b[0m\u001b[0;34m\u001b[0m\u001b[0m\n\u001b[0m\u001b[1;32m     66\u001b[0m         \u001b[0;32mexcept\u001b[0m \u001b[0mException\u001b[0m \u001b[0;32mas\u001b[0m \u001b[0me\u001b[0m\u001b[0;34m:\u001b[0m\u001b[0;34m\u001b[0m\u001b[0;34m\u001b[0m\u001b[0m\n\u001b[1;32m     67\u001b[0m             \u001b[0mfiltered_tb\u001b[0m \u001b[0;34m=\u001b[0m \u001b[0m_process_traceback_frames\u001b[0m\u001b[0;34m(\u001b[0m\u001b[0me\u001b[0m\u001b[0;34m.\u001b[0m\u001b[0m__traceback__\u001b[0m\u001b[0;34m)\u001b[0m\u001b[0;34m\u001b[0m\u001b[0;34m\u001b[0m\u001b[0m\n",
            "\u001b[0;32m/usr/local/lib/python3.10/dist-packages/keras/src/engine/training.py\u001b[0m in \u001b[0;36mfit\u001b[0;34m(self, x, y, batch_size, epochs, verbose, callbacks, validation_split, validation_data, shuffle, class_weight, sample_weight, initial_epoch, steps_per_epoch, validation_steps, validation_batch_size, validation_freq, max_queue_size, workers, use_multiprocessing)\u001b[0m\n\u001b[1;32m   1781\u001b[0m                         ):\n\u001b[1;32m   1782\u001b[0m                             \u001b[0mcallbacks\u001b[0m\u001b[0;34m.\u001b[0m\u001b[0mon_train_batch_begin\u001b[0m\u001b[0;34m(\u001b[0m\u001b[0mstep\u001b[0m\u001b[0;34m)\u001b[0m\u001b[0;34m\u001b[0m\u001b[0;34m\u001b[0m\u001b[0m\n\u001b[0;32m-> 1783\u001b[0;31m                             \u001b[0mtmp_logs\u001b[0m \u001b[0;34m=\u001b[0m \u001b[0mself\u001b[0m\u001b[0;34m.\u001b[0m\u001b[0mtrain_function\u001b[0m\u001b[0;34m(\u001b[0m\u001b[0miterator\u001b[0m\u001b[0;34m)\u001b[0m\u001b[0;34m\u001b[0m\u001b[0;34m\u001b[0m\u001b[0m\n\u001b[0m\u001b[1;32m   1784\u001b[0m                             \u001b[0;32mif\u001b[0m \u001b[0mdata_handler\u001b[0m\u001b[0;34m.\u001b[0m\u001b[0mshould_sync\u001b[0m\u001b[0;34m:\u001b[0m\u001b[0;34m\u001b[0m\u001b[0;34m\u001b[0m\u001b[0m\n\u001b[1;32m   1785\u001b[0m                                 \u001b[0mcontext\u001b[0m\u001b[0;34m.\u001b[0m\u001b[0masync_wait\u001b[0m\u001b[0;34m(\u001b[0m\u001b[0;34m)\u001b[0m\u001b[0;34m\u001b[0m\u001b[0;34m\u001b[0m\u001b[0m\n",
            "\u001b[0;32m/usr/local/lib/python3.10/dist-packages/tensorflow/python/util/traceback_utils.py\u001b[0m in \u001b[0;36merror_handler\u001b[0;34m(*args, **kwargs)\u001b[0m\n\u001b[1;32m    148\u001b[0m     \u001b[0mfiltered_tb\u001b[0m \u001b[0;34m=\u001b[0m \u001b[0;32mNone\u001b[0m\u001b[0;34m\u001b[0m\u001b[0;34m\u001b[0m\u001b[0m\n\u001b[1;32m    149\u001b[0m     \u001b[0;32mtry\u001b[0m\u001b[0;34m:\u001b[0m\u001b[0;34m\u001b[0m\u001b[0;34m\u001b[0m\u001b[0m\n\u001b[0;32m--> 150\u001b[0;31m       \u001b[0;32mreturn\u001b[0m \u001b[0mfn\u001b[0m\u001b[0;34m(\u001b[0m\u001b[0;34m*\u001b[0m\u001b[0margs\u001b[0m\u001b[0;34m,\u001b[0m \u001b[0;34m**\u001b[0m\u001b[0mkwargs\u001b[0m\u001b[0;34m)\u001b[0m\u001b[0;34m\u001b[0m\u001b[0;34m\u001b[0m\u001b[0m\n\u001b[0m\u001b[1;32m    151\u001b[0m     \u001b[0;32mexcept\u001b[0m \u001b[0mException\u001b[0m \u001b[0;32mas\u001b[0m \u001b[0me\u001b[0m\u001b[0;34m:\u001b[0m\u001b[0;34m\u001b[0m\u001b[0;34m\u001b[0m\u001b[0m\n\u001b[1;32m    152\u001b[0m       \u001b[0mfiltered_tb\u001b[0m \u001b[0;34m=\u001b[0m \u001b[0m_process_traceback_frames\u001b[0m\u001b[0;34m(\u001b[0m\u001b[0me\u001b[0m\u001b[0;34m.\u001b[0m\u001b[0m__traceback__\u001b[0m\u001b[0;34m)\u001b[0m\u001b[0;34m\u001b[0m\u001b[0;34m\u001b[0m\u001b[0m\n",
            "\u001b[0;32m/usr/local/lib/python3.10/dist-packages/tensorflow/python/eager/polymorphic_function/polymorphic_function.py\u001b[0m in \u001b[0;36m__call__\u001b[0;34m(self, *args, **kwds)\u001b[0m\n\u001b[1;32m    829\u001b[0m \u001b[0;34m\u001b[0m\u001b[0m\n\u001b[1;32m    830\u001b[0m       \u001b[0;32mwith\u001b[0m \u001b[0mOptionalXlaContext\u001b[0m\u001b[0;34m(\u001b[0m\u001b[0mself\u001b[0m\u001b[0;34m.\u001b[0m\u001b[0m_jit_compile\u001b[0m\u001b[0;34m)\u001b[0m\u001b[0;34m:\u001b[0m\u001b[0;34m\u001b[0m\u001b[0;34m\u001b[0m\u001b[0m\n\u001b[0;32m--> 831\u001b[0;31m         \u001b[0mresult\u001b[0m \u001b[0;34m=\u001b[0m \u001b[0mself\u001b[0m\u001b[0;34m.\u001b[0m\u001b[0m_call\u001b[0m\u001b[0;34m(\u001b[0m\u001b[0;34m*\u001b[0m\u001b[0margs\u001b[0m\u001b[0;34m,\u001b[0m \u001b[0;34m**\u001b[0m\u001b[0mkwds\u001b[0m\u001b[0;34m)\u001b[0m\u001b[0;34m\u001b[0m\u001b[0;34m\u001b[0m\u001b[0m\n\u001b[0m\u001b[1;32m    832\u001b[0m \u001b[0;34m\u001b[0m\u001b[0m\n\u001b[1;32m    833\u001b[0m       \u001b[0mnew_tracing_count\u001b[0m \u001b[0;34m=\u001b[0m \u001b[0mself\u001b[0m\u001b[0;34m.\u001b[0m\u001b[0mexperimental_get_tracing_count\u001b[0m\u001b[0;34m(\u001b[0m\u001b[0;34m)\u001b[0m\u001b[0;34m\u001b[0m\u001b[0;34m\u001b[0m\u001b[0m\n",
            "\u001b[0;32m/usr/local/lib/python3.10/dist-packages/tensorflow/python/eager/polymorphic_function/polymorphic_function.py\u001b[0m in \u001b[0;36m_call\u001b[0;34m(self, *args, **kwds)\u001b[0m\n\u001b[1;32m    865\u001b[0m       \u001b[0;31m# In this case we have created variables on the first call, so we run the\u001b[0m\u001b[0;34m\u001b[0m\u001b[0;34m\u001b[0m\u001b[0m\n\u001b[1;32m    866\u001b[0m       \u001b[0;31m# defunned version which is guaranteed to never create variables.\u001b[0m\u001b[0;34m\u001b[0m\u001b[0;34m\u001b[0m\u001b[0m\n\u001b[0;32m--> 867\u001b[0;31m       return tracing_compilation.call_function(\n\u001b[0m\u001b[1;32m    868\u001b[0m           \u001b[0margs\u001b[0m\u001b[0;34m,\u001b[0m \u001b[0mkwds\u001b[0m\u001b[0;34m,\u001b[0m \u001b[0mself\u001b[0m\u001b[0;34m.\u001b[0m\u001b[0m_no_variable_creation_config\u001b[0m\u001b[0;34m\u001b[0m\u001b[0;34m\u001b[0m\u001b[0m\n\u001b[1;32m    869\u001b[0m       )\n",
            "\u001b[0;32m/usr/local/lib/python3.10/dist-packages/tensorflow/python/eager/polymorphic_function/tracing_compilation.py\u001b[0m in \u001b[0;36mcall_function\u001b[0;34m(args, kwargs, tracing_options)\u001b[0m\n\u001b[1;32m    137\u001b[0m   \u001b[0mbound_args\u001b[0m \u001b[0;34m=\u001b[0m \u001b[0mfunction\u001b[0m\u001b[0;34m.\u001b[0m\u001b[0mfunction_type\u001b[0m\u001b[0;34m.\u001b[0m\u001b[0mbind\u001b[0m\u001b[0;34m(\u001b[0m\u001b[0;34m*\u001b[0m\u001b[0margs\u001b[0m\u001b[0;34m,\u001b[0m \u001b[0;34m**\u001b[0m\u001b[0mkwargs\u001b[0m\u001b[0;34m)\u001b[0m\u001b[0;34m\u001b[0m\u001b[0;34m\u001b[0m\u001b[0m\n\u001b[1;32m    138\u001b[0m   \u001b[0mflat_inputs\u001b[0m \u001b[0;34m=\u001b[0m \u001b[0mfunction\u001b[0m\u001b[0;34m.\u001b[0m\u001b[0mfunction_type\u001b[0m\u001b[0;34m.\u001b[0m\u001b[0munpack_inputs\u001b[0m\u001b[0;34m(\u001b[0m\u001b[0mbound_args\u001b[0m\u001b[0;34m)\u001b[0m\u001b[0;34m\u001b[0m\u001b[0;34m\u001b[0m\u001b[0m\n\u001b[0;32m--> 139\u001b[0;31m   return function._call_flat(  # pylint: disable=protected-access\n\u001b[0m\u001b[1;32m    140\u001b[0m       \u001b[0mflat_inputs\u001b[0m\u001b[0;34m,\u001b[0m \u001b[0mcaptured_inputs\u001b[0m\u001b[0;34m=\u001b[0m\u001b[0mfunction\u001b[0m\u001b[0;34m.\u001b[0m\u001b[0mcaptured_inputs\u001b[0m\u001b[0;34m\u001b[0m\u001b[0;34m\u001b[0m\u001b[0m\n\u001b[1;32m    141\u001b[0m   )\n",
            "\u001b[0;32m/usr/local/lib/python3.10/dist-packages/tensorflow/python/eager/polymorphic_function/concrete_function.py\u001b[0m in \u001b[0;36m_call_flat\u001b[0;34m(self, tensor_inputs, captured_inputs)\u001b[0m\n\u001b[1;32m   1262\u001b[0m         and executing_eagerly):\n\u001b[1;32m   1263\u001b[0m       \u001b[0;31m# No tape is watching; skip to running the function.\u001b[0m\u001b[0;34m\u001b[0m\u001b[0;34m\u001b[0m\u001b[0m\n\u001b[0;32m-> 1264\u001b[0;31m       \u001b[0;32mreturn\u001b[0m \u001b[0mself\u001b[0m\u001b[0;34m.\u001b[0m\u001b[0m_inference_function\u001b[0m\u001b[0;34m.\u001b[0m\u001b[0mflat_call\u001b[0m\u001b[0;34m(\u001b[0m\u001b[0margs\u001b[0m\u001b[0;34m)\u001b[0m\u001b[0;34m\u001b[0m\u001b[0;34m\u001b[0m\u001b[0m\n\u001b[0m\u001b[1;32m   1265\u001b[0m     forward_backward = self._select_forward_and_backward_functions(\n\u001b[1;32m   1266\u001b[0m         \u001b[0margs\u001b[0m\u001b[0;34m,\u001b[0m\u001b[0;34m\u001b[0m\u001b[0;34m\u001b[0m\u001b[0m\n",
            "\u001b[0;32m/usr/local/lib/python3.10/dist-packages/tensorflow/python/eager/polymorphic_function/atomic_function.py\u001b[0m in \u001b[0;36mflat_call\u001b[0;34m(self, args)\u001b[0m\n\u001b[1;32m    215\u001b[0m   \u001b[0;32mdef\u001b[0m \u001b[0mflat_call\u001b[0m\u001b[0;34m(\u001b[0m\u001b[0mself\u001b[0m\u001b[0;34m,\u001b[0m \u001b[0margs\u001b[0m\u001b[0;34m:\u001b[0m \u001b[0mSequence\u001b[0m\u001b[0;34m[\u001b[0m\u001b[0mcore\u001b[0m\u001b[0;34m.\u001b[0m\u001b[0mTensor\u001b[0m\u001b[0;34m]\u001b[0m\u001b[0;34m)\u001b[0m \u001b[0;34m->\u001b[0m \u001b[0mAny\u001b[0m\u001b[0;34m:\u001b[0m\u001b[0;34m\u001b[0m\u001b[0;34m\u001b[0m\u001b[0m\n\u001b[1;32m    216\u001b[0m     \u001b[0;34m\"\"\"Calls with tensor inputs and returns the structured output.\"\"\"\u001b[0m\u001b[0;34m\u001b[0m\u001b[0;34m\u001b[0m\u001b[0m\n\u001b[0;32m--> 217\u001b[0;31m     \u001b[0mflat_outputs\u001b[0m \u001b[0;34m=\u001b[0m \u001b[0mself\u001b[0m\u001b[0;34m(\u001b[0m\u001b[0;34m*\u001b[0m\u001b[0margs\u001b[0m\u001b[0;34m)\u001b[0m\u001b[0;34m\u001b[0m\u001b[0;34m\u001b[0m\u001b[0m\n\u001b[0m\u001b[1;32m    218\u001b[0m     \u001b[0;32mreturn\u001b[0m \u001b[0mself\u001b[0m\u001b[0;34m.\u001b[0m\u001b[0mfunction_type\u001b[0m\u001b[0;34m.\u001b[0m\u001b[0mpack_output\u001b[0m\u001b[0;34m(\u001b[0m\u001b[0mflat_outputs\u001b[0m\u001b[0;34m)\u001b[0m\u001b[0;34m\u001b[0m\u001b[0;34m\u001b[0m\u001b[0m\n\u001b[1;32m    219\u001b[0m \u001b[0;34m\u001b[0m\u001b[0m\n",
            "\u001b[0;32m/usr/local/lib/python3.10/dist-packages/tensorflow/python/eager/polymorphic_function/atomic_function.py\u001b[0m in \u001b[0;36m__call__\u001b[0;34m(self, *args)\u001b[0m\n\u001b[1;32m    250\u001b[0m         \u001b[0;32mwith\u001b[0m \u001b[0mrecord\u001b[0m\u001b[0;34m.\u001b[0m\u001b[0mstop_recording\u001b[0m\u001b[0;34m(\u001b[0m\u001b[0;34m)\u001b[0m\u001b[0;34m:\u001b[0m\u001b[0;34m\u001b[0m\u001b[0;34m\u001b[0m\u001b[0m\n\u001b[1;32m    251\u001b[0m           \u001b[0;32mif\u001b[0m \u001b[0mself\u001b[0m\u001b[0;34m.\u001b[0m\u001b[0m_bound_context\u001b[0m\u001b[0;34m.\u001b[0m\u001b[0mexecuting_eagerly\u001b[0m\u001b[0;34m(\u001b[0m\u001b[0;34m)\u001b[0m\u001b[0;34m:\u001b[0m\u001b[0;34m\u001b[0m\u001b[0;34m\u001b[0m\u001b[0m\n\u001b[0;32m--> 252\u001b[0;31m             outputs = self._bound_context.call_function(\n\u001b[0m\u001b[1;32m    253\u001b[0m                 \u001b[0mself\u001b[0m\u001b[0;34m.\u001b[0m\u001b[0mname\u001b[0m\u001b[0;34m,\u001b[0m\u001b[0;34m\u001b[0m\u001b[0;34m\u001b[0m\u001b[0m\n\u001b[1;32m    254\u001b[0m                 \u001b[0mlist\u001b[0m\u001b[0;34m(\u001b[0m\u001b[0margs\u001b[0m\u001b[0;34m)\u001b[0m\u001b[0;34m,\u001b[0m\u001b[0;34m\u001b[0m\u001b[0;34m\u001b[0m\u001b[0m\n",
            "\u001b[0;32m/usr/local/lib/python3.10/dist-packages/tensorflow/python/eager/context.py\u001b[0m in \u001b[0;36mcall_function\u001b[0;34m(self, name, tensor_inputs, num_outputs)\u001b[0m\n\u001b[1;32m   1477\u001b[0m     \u001b[0mcancellation_context\u001b[0m \u001b[0;34m=\u001b[0m \u001b[0mcancellation\u001b[0m\u001b[0;34m.\u001b[0m\u001b[0mcontext\u001b[0m\u001b[0;34m(\u001b[0m\u001b[0;34m)\u001b[0m\u001b[0;34m\u001b[0m\u001b[0;34m\u001b[0m\u001b[0m\n\u001b[1;32m   1478\u001b[0m     \u001b[0;32mif\u001b[0m \u001b[0mcancellation_context\u001b[0m \u001b[0;32mis\u001b[0m \u001b[0;32mNone\u001b[0m\u001b[0;34m:\u001b[0m\u001b[0;34m\u001b[0m\u001b[0;34m\u001b[0m\u001b[0m\n\u001b[0;32m-> 1479\u001b[0;31m       outputs = execute.execute(\n\u001b[0m\u001b[1;32m   1480\u001b[0m           \u001b[0mname\u001b[0m\u001b[0;34m.\u001b[0m\u001b[0mdecode\u001b[0m\u001b[0;34m(\u001b[0m\u001b[0;34m\"utf-8\"\u001b[0m\u001b[0;34m)\u001b[0m\u001b[0;34m,\u001b[0m\u001b[0;34m\u001b[0m\u001b[0;34m\u001b[0m\u001b[0m\n\u001b[1;32m   1481\u001b[0m           \u001b[0mnum_outputs\u001b[0m\u001b[0;34m=\u001b[0m\u001b[0mnum_outputs\u001b[0m\u001b[0;34m,\u001b[0m\u001b[0;34m\u001b[0m\u001b[0;34m\u001b[0m\u001b[0m\n",
            "\u001b[0;32m/usr/local/lib/python3.10/dist-packages/tensorflow/python/eager/execute.py\u001b[0m in \u001b[0;36mquick_execute\u001b[0;34m(op_name, num_outputs, inputs, attrs, ctx, name)\u001b[0m\n\u001b[1;32m     58\u001b[0m         \u001b[0;32mfor\u001b[0m \u001b[0mt\u001b[0m \u001b[0;32min\u001b[0m \u001b[0minputs\u001b[0m\u001b[0;34m\u001b[0m\u001b[0;34m\u001b[0m\u001b[0m\n\u001b[1;32m     59\u001b[0m     ]\n\u001b[0;32m---> 60\u001b[0;31m     tensors = pywrap_tfe.TFE_Py_Execute(ctx._handle, device_name, op_name,\n\u001b[0m\u001b[1;32m     61\u001b[0m                                         inputs, attrs, num_outputs)\n\u001b[1;32m     62\u001b[0m   \u001b[0;32mexcept\u001b[0m \u001b[0mcore\u001b[0m\u001b[0;34m.\u001b[0m\u001b[0m_NotOkStatusException\u001b[0m \u001b[0;32mas\u001b[0m \u001b[0me\u001b[0m\u001b[0;34m:\u001b[0m\u001b[0;34m\u001b[0m\u001b[0;34m\u001b[0m\u001b[0m\n",
            "\u001b[0;31mKeyboardInterrupt\u001b[0m: "
          ]
        }
      ]
    },
    {
      "cell_type": "code",
      "source": [
        "print(history.history['loss'])\n",
        "\n",
        "# 학습 데이터 기반으로 했으므로, 당연히 오버피팅\n",
        "print(history.history['accuracy']) # 0.9278\n"
      ],
      "metadata": {
        "trusted": true,
        "id": "98trttJhsvn-"
      },
      "execution_count": null,
      "outputs": []
    },
    {
      "cell_type": "markdown",
      "source": [
        "### 테스트 데이터를 기반으로 Label 값 예측\n",
        "* model.predict()를 이용하여 label값 예측\n",
        "* predict()의 인자로 입력되는 feature array는 학습의 feature array와 shape가 동일해야함.\n",
        "* fit() 시 3차원(28x28 2차원 array가 여러개 존재) array 입력 했으므로 predict()도 동일한 3차원 데이터 입력\n",
        "* 특히 한건만 predict() 할때도 3차원 데이터여야 함. 이를 위해 expand_dims()로 2차원 image 배열을 3차원으로 변경"
      ],
      "metadata": {
        "id": "Jeg_vIh3svn-"
      }
    },
    {
      "cell_type": "code",
      "source": [
        "test_images.shape"
      ],
      "metadata": {
        "trusted": true,
        "id": "NpKU4ydJsvn-"
      },
      "execution_count": null,
      "outputs": []
    },
    {
      "cell_type": "code",
      "source": [
        "# 위에서 train 데이터를 이용해서 이미 학습이 되어있는 model 이다.\n",
        "pred_proba = model.predict(test_images)\n",
        "print(pred_proba.shape) # softmax"
      ],
      "metadata": {
        "trusted": true,
        "id": "GLldTUOhsvn_"
      },
      "execution_count": null,
      "outputs": []
    },
    {
      "cell_type": "code",
      "source": [
        "# 가장 큰 확률의 index가 정답\n",
        "pred_proba[0]"
      ],
      "metadata": {
        "id": "YRnbLHQO-7wN"
      },
      "execution_count": null,
      "outputs": []
    },
    {
      "cell_type": "code",
      "source": [
        "test_images[0].shape"
      ],
      "metadata": {
        "id": "lfOgB-71APQU"
      },
      "execution_count": null,
      "outputs": []
    },
    {
      "cell_type": "code",
      "source": [
        "# axis=0 : 제일 앞의 차원 (1, 28, 28)\n",
        "# axis=1 : (28, 1, 28)\n",
        "# axis=2 : (28, 28, 1)\n",
        "# => 제일 마지막 차원 늘릴 때는, axis=-1 을 많이 사용한다.\n",
        "np.expand_dims(test_images[0], axis=0).shape"
      ],
      "metadata": {
        "trusted": true,
        "id": "lWqlmls_svn_"
      },
      "execution_count": null,
      "outputs": []
    },
    {
      "cell_type": "code",
      "source": [
        "pred_proba = model.predict(np.expand_dims(test_images[0], axis=0))\n",
        "print('softmax output:', pred_proba)\n",
        "\n",
        "# 위에서 차원을 늘려줬으니 np.squeeze를 사용해서 다시 차원을 줄여준다.\n",
        "# => 굳이 해주지 않아도 되지만, 해주는 것이 정석이다.\n",
        "pred = np.argmax(np.squeeze(pred_proba)) # 제일 큰 확률이 정답\n",
        "print('predicted class value:', pred)\n"
      ],
      "metadata": {
        "trusted": true,
        "id": "PFF5HnFCsvn_"
      },
      "execution_count": null,
      "outputs": []
    },
    {
      "cell_type": "code",
      "source": [
        "class_names = ['T-shirt/top', 'Trouser', 'Pullover', 'Dress', 'Coat','Sandal', 'Shirt', 'Sneaker', 'Bag', 'Ankle boot']\n",
        "print('target class value:', test_labels[0], 'predicted class value:', pred)"
      ],
      "metadata": {
        "trusted": true,
        "id": "hmL0o4unsvn_"
      },
      "execution_count": null,
      "outputs": []
    },
    {
      "cell_type": "markdown",
      "source": [
        "### 테스트 데이터 세트로 모델 성능 검증"
      ],
      "metadata": {
        "id": "RkAU2Qnpsvn_"
      }
    },
    {
      "cell_type": "code",
      "source": [
        "model.evaluate(test_images, test_oh_labels, batch_size=64)"
      ],
      "metadata": {
        "trusted": true,
        "id": "q_BVF6vhsvn_"
      },
      "execution_count": null,
      "outputs": []
    },
    {
      "cell_type": "code",
      "source": [],
      "metadata": {
        "trusted": true,
        "id": "lhvNUx2Rsvn_"
      },
      "execution_count": null,
      "outputs": []
    },
    {
      "cell_type": "markdown",
      "source": [
        "### 검증 데이터 세트를 이용하여 학습 수행.\n",
        "* 일반적으로 fit() 수행시 별도의 검증 데이터 세트를 이용하여 학습 시 과적합(Overfitting)이 발생하는지 모니터링\n",
        "* fit()을 수행하면 iteration을 반복하기 때문에 중간에 하이퍼파라미터 변경(예: Learning Rate)등의 작업이 어려움.\n",
        "* fit() iteration시 여러 작업을 하기 위해 Callback 객체를 가짐.\n",
        "* 검증 데이터 세트를 fit() 시 적용하여 과적합이나 더이상 검증 데이터 성능이 좋아 지지 않을 때 Callback을 사용하여 Learning Rate 보정 작업등을 수행 가능"
      ],
      "metadata": {
        "id": "pl1zXFXxsvn_"
      }
    },
    {
      "cell_type": "code",
      "source": [
        "import numpy as np\n",
        "import pandas as pd\n",
        "from tensorflow.keras.datasets import fashion_mnist\n",
        "\n",
        "(train_images, train_labels), (test_images, test_labels) = fashion_mnist.load_data()\n",
        "\n",
        "def get_preprocessed_data(images, labels):\n",
        "\n",
        "    # 학습과 테스트 이미지 array를 0~1 사이값으로 scale 및 float32 형 변형.\n",
        "    images = np.array(images/255.0, dtype=np.float32)\n",
        "    labels = np.array(labels, dtype=np.float32)\n",
        "\n",
        "    return images, labels\n",
        "\n",
        "train_images, train_labels = get_preprocessed_data(train_images, train_labels)\n",
        "test_images, test_labels = get_preprocessed_data(test_images, test_labels)"
      ],
      "metadata": {
        "trusted": true,
        "id": "b3cjnW-2svn_"
      },
      "execution_count": null,
      "outputs": []
    },
    {
      "cell_type": "code",
      "source": [
        "from sklearn.model_selection import train_test_split\n",
        "from tensorflow.keras.utils import to_categorical\n",
        "\n",
        "# 기존 학습 데이터를 다시 학습과 검증 데이터 세트로 분리\n",
        "tr_images, val_images, tr_labels, val_labels = train_test_split(train_images, train_labels, test_size=0.15, random_state=2021)\n",
        "print('train과 validation shape:', tr_images.shape, tr_labels.shape, val_images.shape, val_labels.shape)\n",
        "\n",
        "# OHE 적용\n",
        "tr_oh_labels = to_categorical(tr_labels)\n",
        "val_oh_labels = to_categorical(val_labels)\n",
        "\n",
        "print('after OHE:', tr_oh_labels.shape, val_oh_labels.shape)"
      ],
      "metadata": {
        "trusted": true,
        "colab": {
          "base_uri": "https://localhost:8080/"
        },
        "id": "Hyc4gn7Isvn_",
        "outputId": "a152da2e-1922-4da0-c4a1-8bf485441817"
      },
      "execution_count": null,
      "outputs": [
        {
          "output_type": "stream",
          "name": "stdout",
          "text": [
            "train과 validation shape: (51000, 28, 28) (51000,) (9000, 28, 28) (9000,)\n",
            "after OHE: (51000, 10) (9000, 10)\n"
          ]
        }
      ]
    },
    {
      "cell_type": "markdown",
      "source": [
        "### 검증 데이터 세트를 적용하여 학습 수행."
      ],
      "metadata": {
        "id": "CZYU0WAxsvoA"
      }
    },
    {
      "cell_type": "code",
      "source": [],
      "metadata": {
        "trusted": true,
        "id": "lJA202r5svoA"
      },
      "execution_count": null,
      "outputs": []
    },
    {
      "cell_type": "code",
      "source": [
        "from tensorflow.keras.layers import Dense, Flatten\n",
        "from tensorflow.keras.models import Sequential\n",
        "from tensorflow.keras.optimizers import Adam\n",
        "\n",
        "INPUT_SIZE = 28\n",
        "model = Sequential([\n",
        "    Flatten(input_shape=(INPUT_SIZE, INPUT_SIZE)),\n",
        "    Dense(100, activation='relu'),\n",
        "    Dense(30, activation='relu'),\n",
        "    Dense(10, activation='softmax')\n",
        "])\n",
        "\n",
        "model.compile(optimizer=Adam(0.001), loss='categorical_crossentropy', metrics=['accuracy'])"
      ],
      "metadata": {
        "trusted": true,
        "id": "ieTz47NqsvoA"
      },
      "execution_count": null,
      "outputs": []
    },
    {
      "cell_type": "code",
      "source": [
        "history = model.fit(x=tr_images, y=tr_oh_labels, batch_size=128, validation_data=(val_images, val_oh_labels),\n",
        "                    epochs=20, verbose=1)"
      ],
      "metadata": {
        "trusted": true,
        "colab": {
          "base_uri": "https://localhost:8080/"
        },
        "id": "GZD3b0I2svoA",
        "outputId": "acd0b1fd-1608-4b43-f47c-a80f19d751f7"
      },
      "execution_count": null,
      "outputs": [
        {
          "output_type": "stream",
          "name": "stdout",
          "text": [
            "Epoch 1/20\n",
            "399/399 [==============================] - 3s 5ms/step - loss: 0.5920 - accuracy: 0.7973 - val_loss: 0.4588 - val_accuracy: 0.8344\n",
            "Epoch 2/20\n",
            "399/399 [==============================] - 2s 4ms/step - loss: 0.4132 - accuracy: 0.8557 - val_loss: 0.4321 - val_accuracy: 0.8461\n",
            "Epoch 3/20\n",
            "399/399 [==============================] - 2s 5ms/step - loss: 0.3777 - accuracy: 0.8665 - val_loss: 0.3831 - val_accuracy: 0.8610\n",
            "Epoch 4/20\n",
            "399/399 [==============================] - 2s 4ms/step - loss: 0.3505 - accuracy: 0.8751 - val_loss: 0.3624 - val_accuracy: 0.8673\n",
            "Epoch 5/20\n",
            "399/399 [==============================] - 1s 4ms/step - loss: 0.3284 - accuracy: 0.8813 - val_loss: 0.3546 - val_accuracy: 0.8707\n",
            "Epoch 6/20\n",
            "399/399 [==============================] - 1s 4ms/step - loss: 0.3192 - accuracy: 0.8832 - val_loss: 0.3531 - val_accuracy: 0.8741\n",
            "Epoch 7/20\n",
            "399/399 [==============================] - 1s 4ms/step - loss: 0.3006 - accuracy: 0.8909 - val_loss: 0.3358 - val_accuracy: 0.8790\n",
            "Epoch 8/20\n",
            "399/399 [==============================] - 2s 4ms/step - loss: 0.2885 - accuracy: 0.8947 - val_loss: 0.3478 - val_accuracy: 0.8699\n",
            "Epoch 9/20\n",
            "399/399 [==============================] - 1s 4ms/step - loss: 0.2803 - accuracy: 0.8978 - val_loss: 0.3411 - val_accuracy: 0.8756\n",
            "Epoch 10/20\n",
            "399/399 [==============================] - 2s 4ms/step - loss: 0.2701 - accuracy: 0.8997 - val_loss: 0.3248 - val_accuracy: 0.8814\n",
            "Epoch 11/20\n",
            "399/399 [==============================] - 2s 5ms/step - loss: 0.2603 - accuracy: 0.9038 - val_loss: 0.3107 - val_accuracy: 0.8891\n",
            "Epoch 12/20\n",
            "399/399 [==============================] - 2s 5ms/step - loss: 0.2556 - accuracy: 0.9059 - val_loss: 0.3157 - val_accuracy: 0.8859\n",
            "Epoch 13/20\n",
            "399/399 [==============================] - 2s 4ms/step - loss: 0.2478 - accuracy: 0.9080 - val_loss: 0.3320 - val_accuracy: 0.8849\n",
            "Epoch 14/20\n",
            "399/399 [==============================] - 2s 4ms/step - loss: 0.2417 - accuracy: 0.9104 - val_loss: 0.3186 - val_accuracy: 0.8859\n",
            "Epoch 15/20\n",
            "399/399 [==============================] - 2s 4ms/step - loss: 0.2349 - accuracy: 0.9131 - val_loss: 0.3260 - val_accuracy: 0.8832\n",
            "Epoch 16/20\n",
            "399/399 [==============================] - 1s 4ms/step - loss: 0.2293 - accuracy: 0.9146 - val_loss: 0.3219 - val_accuracy: 0.8888\n",
            "Epoch 17/20\n",
            "399/399 [==============================] - 2s 4ms/step - loss: 0.2231 - accuracy: 0.9170 - val_loss: 0.3115 - val_accuracy: 0.8911\n",
            "Epoch 18/20\n",
            "399/399 [==============================] - 2s 4ms/step - loss: 0.2175 - accuracy: 0.9196 - val_loss: 0.3235 - val_accuracy: 0.8874\n",
            "Epoch 19/20\n",
            "399/399 [==============================] - 2s 5ms/step - loss: 0.2148 - accuracy: 0.9197 - val_loss: 0.3275 - val_accuracy: 0.8846\n",
            "Epoch 20/20\n",
            "399/399 [==============================] - 2s 5ms/step - loss: 0.2115 - accuracy: 0.9212 - val_loss: 0.3377 - val_accuracy: 0.8811\n"
          ]
        }
      ]
    },
    {
      "cell_type": "code",
      "source": [
        "print(history.history['loss'])\n",
        "print(history.history['accuracy'])\n",
        "print(history.history['val_loss'])\n",
        "print(history.history['val_accuracy'])"
      ],
      "metadata": {
        "trusted": true,
        "colab": {
          "base_uri": "https://localhost:8080/"
        },
        "id": "25vMM8LesvoB",
        "outputId": "b31d4304-4352-4cc9-abf3-bab15327a60c"
      },
      "execution_count": null,
      "outputs": [
        {
          "output_type": "stream",
          "name": "stdout",
          "text": [
            "[0.592039167881012, 0.4131626486778259, 0.37773454189300537, 0.350498229265213, 0.3283785283565521, 0.3191973865032196, 0.3006363809108734, 0.2885286509990692, 0.28033122420310974, 0.2700793445110321, 0.26033154129981995, 0.25561752915382385, 0.24781057238578796, 0.2416718751192093, 0.23488110303878784, 0.22933292388916016, 0.22313928604125977, 0.21748565137386322, 0.21480123698711395, 0.21149186789989471]\n",
            "[0.7973333597183228, 0.8557058572769165, 0.8664705753326416, 0.8751176595687866, 0.8812941312789917, 0.8832352757453918, 0.890862762928009, 0.8947058916091919, 0.8977646827697754, 0.8996862769126892, 0.9038431644439697, 0.9059019684791565, 0.9080196022987366, 0.9104117751121521, 0.9130588173866272, 0.9146274328231812, 0.9169999957084656, 0.9195882081985474, 0.9197254776954651, 0.9212157130241394]\n",
            "[0.45876193046569824, 0.4320533871650696, 0.3830602169036865, 0.3623601794242859, 0.35462138056755066, 0.35309576988220215, 0.3357681334018707, 0.34780728816986084, 0.34108883142471313, 0.32475340366363525, 0.3106613755226135, 0.31574901938438416, 0.3320026099681854, 0.3185828924179077, 0.32598012685775757, 0.3219134509563446, 0.31149521470069885, 0.3234866261482239, 0.32751065492630005, 0.3377395570278168]\n",
            "[0.8344444632530212, 0.8461111187934875, 0.8610000014305115, 0.8673333525657654, 0.8706666827201843, 0.8741111159324646, 0.8790000081062317, 0.8698889017105103, 0.8755555748939514, 0.8814444541931152, 0.8891111016273499, 0.8858888745307922, 0.8848888874053955, 0.8858888745307922, 0.883222222328186, 0.8887777924537659, 0.8911111354827881, 0.8874444365501404, 0.8845555782318115, 0.8811110854148865]\n"
          ]
        }
      ]
    },
    {
      "cell_type": "code",
      "source": [
        "import matplotlib.pyplot as plt\n",
        "%matplotlib inline\n",
        "\n",
        "plt.plot(history.history['accuracy'], label='train')\n",
        "plt.plot(history.history['val_accuracy'], label='valid')\n",
        "plt.legend()"
      ],
      "metadata": {
        "trusted": true,
        "colab": {
          "base_uri": "https://localhost:8080/",
          "height": 448
        },
        "id": "uKsjo6klsvoB",
        "outputId": "cdf11350-4e35-4076-d183-acf76854f996"
      },
      "execution_count": null,
      "outputs": [
        {
          "output_type": "execute_result",
          "data": {
            "text/plain": [
              "<matplotlib.legend.Legend at 0x7e2a94f578b0>"
            ]
          },
          "metadata": {},
          "execution_count": 21
        },
        {
          "output_type": "display_data",
          "data": {
            "text/plain": [
              "<Figure size 640x480 with 1 Axes>"
            ],
            "image/png": "[encoded data removed]"
          },
          "metadata": {}
        }
      ]
    },
    {
      "cell_type": "markdown",
      "source": [
        "### Functional API"
      ],
      "metadata": {
        "id": "a748SBulsvoB"
      }
    },
    {
      "cell_type": "code",
      "source": [
        "# Sequential Model을 이용하여 Keras 모델 생성\n",
        "from tensorflow.keras.layers import Dense, Flatten\n",
        "from tensorflow.keras.models import Sequential\n",
        "\n",
        "INPUT_SIZE = 28\n",
        "\n",
        "model = Sequential([\n",
        "    Flatten(input_shape=(INPUT_SIZE, INPUT_SIZE)),\n",
        "    Dense(100, activation='relu'),\n",
        "    Dense(30, activation='relu'),\n",
        "    Dense(10, activation='softmax')\n",
        "])\n",
        "\n",
        "model.summary()\n",
        "\n",
        "model1 = Sequential()\n",
        "model1.add(Flatten(input_shape=(INPUT_SIZE, INPUT_SIZE)))\n",
        "model1.add(Dense(100, activation='relu'))\n",
        "model1.add(Dense(30, activation='relu'))\n",
        "model1.add(Dense(10, activation='softmax'))\n",
        "\n",
        "model1.summary()\n"
      ],
      "metadata": {
        "trusted": true,
        "colab": {
          "base_uri": "https://localhost:8080/"
        },
        "id": "LDRXL5sNsvoB",
        "outputId": "1f3d23f1-0b75-48af-9757-718b0414661a"
      },
      "execution_count": null,
      "outputs": [
        {
          "output_type": "stream",
          "name": "stdout",
          "text": [
            "Model: \"sequential_2\"\n",
            "_________________________________________________________________\n",
            " Layer (type)                Output Shape              Param #   \n",
            "=================================================================\n",
            " flatten_2 (Flatten)         (None, 784)               0         \n",
            "                                                                 \n",
            " dense_6 (Dense)             (None, 100)               78500     \n",
            "                                                                 \n",
            " dense_7 (Dense)             (None, 30)                3030      \n",
            "                                                                 \n",
            " dense_8 (Dense)             (None, 10)                310       \n",
            "                                                                 \n",
            "=================================================================\n",
            "Total params: 81840 (319.69 KB)\n",
            "Trainable params: 81840 (319.69 KB)\n",
            "Non-trainable params: 0 (0.00 Byte)\n",
            "_________________________________________________________________\n",
            "Model: \"sequential_3\"\n",
            "_________________________________________________________________\n",
            " Layer (type)                Output Shape              Param #   \n",
            "=================================================================\n",
            " flatten_3 (Flatten)         (None, 784)               0         \n",
            "                                                                 \n",
            " dense_9 (Dense)             (None, 100)               78500     \n",
            "                                                                 \n",
            " dense_10 (Dense)            (None, 30)                3030      \n",
            "                                                                 \n",
            " dense_11 (Dense)            (None, 10)                310       \n",
            "                                                                 \n",
            "=================================================================\n",
            "Total params: 81840 (319.69 KB)\n",
            "Trainable params: 81840 (319.69 KB)\n",
            "Non-trainable params: 0 (0.00 Byte)\n",
            "_________________________________________________________________\n"
          ]
        }
      ]
    },
    {
      "cell_type": "code",
      "source": [
        "from tensorflow.keras.layers import Input, Flatten, Dense\n",
        "from tensorflow.keras.models import Model\n",
        "\n",
        "input_tensor = Input(shape=(INPUT_SIZE, INPUT_SIZE))\n",
        "x = Flatten()(input_tensor)\n",
        "x = Dense(100, activation='relu')(x)\n",
        "x = Dense(30, activation='relu')(x)\n",
        "output = Dense(10, activation='softmax')(x)\n",
        "\n",
        "model = Model(inputs=input_tensor, outputs=output)\n",
        "\n",
        "model.summary()"
      ],
      "metadata": {
        "trusted": true,
        "colab": {
          "base_uri": "https://localhost:8080/"
        },
        "id": "V_slzSlMsvoL",
        "outputId": "db9bbc5c-e70f-4b4f-8561-67e04c817fdb"
      },
      "execution_count": null,
      "outputs": [
        {
          "output_type": "stream",
          "name": "stdout",
          "text": [
            "Model: \"model_1\"\n",
            "_________________________________________________________________\n",
            " Layer (type)                Output Shape              Param #   \n",
            "=================================================================\n",
            " input_2 (InputLayer)        [(None, 28, 28)]          0         \n",
            "                                                                 \n",
            " flatten_5 (Flatten)         (None, 784)               0         \n",
            "                                                                 \n",
            " dense_15 (Dense)            (None, 100)               78500     \n",
            "                                                                 \n",
            " dense_16 (Dense)            (None, 30)                3030      \n",
            "                                                                 \n",
            " dense_17 (Dense)            (None, 10)                310       \n",
            "                                                                 \n",
            "=================================================================\n",
            "Total params: 81840 (319.69 KB)\n",
            "Trainable params: 81840 (319.69 KB)\n",
            "Non-trainable params: 0 (0.00 Byte)\n",
            "_________________________________________________________________\n"
          ]
        }
      ]
    },
    {
      "cell_type": "markdown",
      "source": [
        "### Custom한 Dense Layer 생성하기"
      ],
      "metadata": {
        "id": "mZ6HMwMVsvoM"
      }
    },
    {
      "cell_type": "code",
      "source": [
        "from tensorflow.keras.layers import Layer, Input\n",
        "from tensorflow.keras.models import Model\n",
        "import tensorflow as tf\n",
        "\n",
        "class CustomDense(tf.keras.layers.Layer):\n",
        "    # CustomDense 객체 생성시 입력되는 초기화 parameter 처리\n",
        "    def __init__(self, units=32):\n",
        "        super(CustomDense, self).__init__()\n",
        "        self.units = units\n",
        "\n",
        "    def build(self, input_shape):\n",
        "        self.w = self.add_weight(\n",
        "            shape=(input_shape[-1], self.units),\n",
        "            initializer=\"random_normal\",\n",
        "            trainable=True,\n",
        "        )\n",
        "        self.b = self.add_weight(\n",
        "            shape=(self.units,), initializer=\"random_normal\", trainable=True\n",
        "        )\n",
        "\n",
        "    # CustomDense 객체에 callable로 입력된 입력 데이터 처리.\n",
        "    def call(self, inputs):\n",
        "        return tf.matmul(inputs, self.w) + self.b\n",
        "\n",
        "# input 값을 4개의 원소를 가지는 1차원으로 생성.\n",
        "inputs = Input((4,))\n",
        "# 10개의 unit을 가지는 CustomDense 객체를 생성 후 callable로 inputs값 입력\n",
        "outputs = CustomDense(10)(inputs)\n",
        "\n",
        "# inputs와 outputs로 model 생성.\n",
        "model = Model(inputs, outputs)\n",
        "model.summary()\n"
      ],
      "metadata": {
        "trusted": true,
        "id": "1D5ZApFysvoM"
      },
      "execution_count": null,
      "outputs": []
    },
    {
      "cell_type": "markdown",
      "source": [
        "### Functional API는 객체 생성 부분과 Callable 인자 입력 부분을 별도로 수행해도 무방."
      ],
      "metadata": {
        "id": "qKodViHZsvoM"
      }
    },
    {
      "cell_type": "code",
      "source": [
        "inputs = Input((4,))\n",
        "# 10개의 unit을 가지는 CustomDense 객체를 생성 후 callable로 inputs값 입력\n",
        "my_layer = CustomDense(10)\n",
        "outputs = my_layer(inputs)\n",
        "\n",
        "# inputs와 outputs로 model 생성.\n",
        "model = Model(inputs, outputs)\n",
        "model.summary()"
      ],
      "metadata": {
        "trusted": true,
        "id": "9KJhH3B_svoM"
      },
      "execution_count": null,
      "outputs": []
    },
    {
      "cell_type": "markdown",
      "source": [
        "### Sequential Model 생성은 단지 Functional API Layer들을 iteration 하면서 연결한 것을 model로 만든 것임"
      ],
      "metadata": {
        "id": "wiBDwAiJsvoM"
      }
    },
    {
      "cell_type": "code",
      "source": [
        "from tensorflow.keras.models import Sequential\n",
        "\n",
        "model = Sequential([Input((4,)),\n",
        "                   CustomDense(10),\n",
        "                   CustomDense(8),\n",
        "                   tf.keras.layers.ReLU()])\n",
        "model.summary()"
      ],
      "metadata": {
        "trusted": true,
        "id": "pds52XZVsvoM"
      },
      "execution_count": null,
      "outputs": []
    },
    {
      "cell_type": "markdown",
      "source": [
        "### Sequential Model을 Functional 객체를 For loop 반복 호출하여 작성."
      ],
      "metadata": {
        "id": "bSqFy5GzsvoN"
      }
    },
    {
      "cell_type": "code",
      "source": [
        "layers_list = [Input((4,)), CustomDense(10), CustomDense(8), tf.keras.layers.ReLU()]\n",
        "\n",
        "for index, layer in enumerate(layers_list):\n",
        "        print(index, layer)"
      ],
      "metadata": {
        "trusted": true,
        "id": "pQPqHSemsvoN"
      },
      "execution_count": null,
      "outputs": []
    },
    {
      "cell_type": "code",
      "source": [
        "layers_list = [Input((4,)), CustomDense(10), CustomDense(8), tf.keras.layers.ReLU()]\n",
        "\n",
        "inputs = None\n",
        "callable_inputs = None\n",
        "outputs = None\n",
        "# layers_list에 있는 Functional 객체를 iteration 수행하면서 적용.\n",
        "for index, layer in enumerate(layers_list):\n",
        "    # layers_list의 첫번째 인자는 Input 간주.\n",
        "    if index == 0:\n",
        "        inputs = layer\n",
        "        callable_inputs = layer\n",
        "    # Functional 객체에 callable 인자로 callable_inputs를 입력하고 반환 결과 값을 다시 callable_inputs로 할당.\n",
        "    else:\n",
        "        callable_inputs = layer(callable_inputs)\n",
        "\n",
        "outputs = callable_inputs\n",
        "model = Model(inputs, outputs)\n",
        "model.summary()\n"
      ],
      "metadata": {
        "trusted": true,
        "id": "sSojOFaTsvoN"
      },
      "execution_count": null,
      "outputs": []
    },
    {
      "cell_type": "markdown",
      "source": [
        "### 앞에서 생성한 로직들을 함수화\n",
        "* Functional API로 모델 만들기\n",
        "* pixel값 1 ~ 255를 0 ~ 1사이값 Float 32로 만들기\n",
        "* One Hot Encoding Label에 적용하기\n",
        "* 학습과 검증 데이터로 나누기.\n",
        "* compile, 학습/예측/평가"
      ],
      "metadata": {
        "id": "5XNmIgifsvoN"
      }
    },
    {
      "cell_type": "code",
      "source": [
        "from tensorflow.keras.layers import Layer, Input, Dense, Flatten\n",
        "from tensorflow.keras.models import Model\n",
        "import tensorflow as tf\n",
        "\n",
        "INPUT_SIZE = 28\n",
        "\n",
        "def create_model():\n",
        "    input_tensor = Input(shape=(INPUT_SIZE, INPUT_SIZE))\n",
        "    x = Flatten()(input_tensor)\n",
        "    x = Dense(100, activation='relu')(x)\n",
        "    x = Dense(30, activation='relu')(x)\n",
        "    output = Dense(10, activation='softmax')(x)\n",
        "\n",
        "    model = Model(inputs=input_tensor, outputs=output)\n",
        "    return model\n"
      ],
      "metadata": {
        "trusted": true,
        "id": "h-Cd7lh_svoN"
      },
      "execution_count": 2,
      "outputs": []
    },
    {
      "cell_type": "code",
      "source": [
        "import numpy as np\n",
        "from tensorflow.keras.utils import to_categorical\n",
        "from sklearn.model_selection import train_test_split\n",
        "\n",
        "# 0 ~ 1사이값의 float32로 변경하는 함수\n",
        "def get_preprocessed_data(images, labels):\n",
        "\n",
        "    # 학습과 테스트 이미지 array를 0~1 사이값으로 scale 및 float32 형 변형.\n",
        "    images = np.array(images/255.0, dtype=np.float32)\n",
        "    labels = np.array(labels, dtype=np.float32)\n",
        "\n",
        "    return images, labels\n",
        "\n",
        "# 0 ~ 1사이값 float32로 변경하는 함수 호출 한 뒤 OHE 적용\n",
        "def get_preprocessed_ohe(images, labels):\n",
        "    images, labels = get_preprocessed_data(images, labels)\n",
        "    # OHE 적용\n",
        "    oh_labels = to_categorical(labels)\n",
        "    return images, oh_labels\n",
        "\n",
        "# 학습/검증/테스트 데이터 세트에 전처리 및 OHE 적용한 뒤 반환\n",
        "def get_train_valid_test_set(train_images, train_labels, test_images, test_labels, valid_size=0.15, random_state=2021):\n",
        "    # 학습 및 테스트 데이터 세트를  0 ~ 1사이값 float32로 변경 및 OHE 적용.\n",
        "    train_images, train_oh_labels = get_preprocessed_ohe(train_images, train_labels)\n",
        "    test_images, test_oh_labels = get_preprocessed_ohe(test_images, test_labels)\n",
        "\n",
        "    # 학습 데이터를 검증 데이터 세트로 다시 분리\n",
        "    tr_images, val_images, tr_oh_labels, val_oh_labels = train_test_split(train_images, train_oh_labels, test_size=valid_size, random_state=random_state)\n",
        "\n",
        "    return (tr_images, tr_oh_labels), (val_images, val_oh_labels), (test_images, test_oh_labels )\n"
      ],
      "metadata": {
        "trusted": true,
        "id": "MhHwAm4LsvoN"
      },
      "execution_count": 3,
      "outputs": []
    },
    {
      "cell_type": "code",
      "source": [
        "from tensorflow.keras.datasets import fashion_mnist\n",
        "# Fashion MNIST 데이터 재 로딩 및 전처리 적용하여 학습/검증/데이터 세트 생성.\n",
        "\n",
        "(train_images, train_labels), (test_images, test_labels) = fashion_mnist.load_data()\n",
        "print(train_images.shape, train_labels.shape, test_images.shape, test_labels.shape)\n",
        "(tr_images, tr_oh_labels), (val_images, val_oh_labels), (test_images, test_oh_labels) = \\\n",
        "    get_train_valid_test_set(train_images, train_labels, test_images, test_labels, valid_size=0.15, random_state=2021)\n",
        "print(tr_images.shape, tr_oh_labels.shape, val_images.shape, val_oh_labels.shape, test_images.shape, test_labels.shape)\n"
      ],
      "metadata": {
        "trusted": true,
        "id": "oBj9DGqxsvoO",
        "colab": {
          "base_uri": "https://localhost:8080/"
        },
        "outputId": "924889f5-769e-49bd-97a2-021ce9e3e7ee"
      },
      "execution_count": 4,
      "outputs": [
        {
          "output_type": "stream",
          "name": "stdout",
          "text": [
            "Downloading data from https://storage.googleapis.com/tensorflow/tf-keras-datasets/train-labels-idx1-ubyte.gz\n",
            "29515/29515 [==============================] - 0s 0us/step\n",
            "Downloading data from https://storage.googleapis.com/tensorflow/tf-keras-datasets/train-images-idx3-ubyte.gz\n",
            "26421880/26421880 [==============================] - 0s 0us/step\n",
            "Downloading data from https://storage.googleapis.com/tensorflow/tf-keras-datasets/t10k-labels-idx1-ubyte.gz\n",
            "5148/5148 [==============================] - 0s 0us/step\n",
            "Downloading data from https://storage.googleapis.com/tensorflow/tf-keras-datasets/t10k-images-idx3-ubyte.gz\n",
            "4422102/4422102 [==============================] - 0s 0us/step\n",
            "(60000, 28, 28) (60000,) (10000, 28, 28) (10000,)\n",
            "(51000, 28, 28) (51000, 10) (9000, 28, 28) (9000, 10) (10000, 28, 28) (10000,)\n"
          ]
        }
      ]
    },
    {
      "cell_type": "code",
      "source": [
        "from tensorflow.keras.optimizers import Adam\n",
        "\n",
        "# Model 생성 및 optimizer, loss, metric 적용\n",
        "model = create_model()\n",
        "model.summary()\n",
        "\n",
        "model.compile(optimizer=Adam(0.001), loss='categorical_crossentropy', metrics=['accuracy'])\n"
      ],
      "metadata": {
        "trusted": true,
        "id": "y61sIs9FsvoO",
        "colab": {
          "base_uri": "https://localhost:8080/"
        },
        "outputId": "55f00438-7a53-4864-adcf-24f0d4453927"
      },
      "execution_count": 5,
      "outputs": [
        {
          "output_type": "stream",
          "name": "stdout",
          "text": [
            "Model: \"model\"\n",
            "_________________________________________________________________\n",
            " Layer (type)                Output Shape              Param #   \n",
            "=================================================================\n",
            " input_1 (InputLayer)        [(None, 28, 28)]          0         \n",
            "                                                                 \n",
            " flatten (Flatten)           (None, 784)               0         \n",
            "                                                                 \n",
            " dense (Dense)               (None, 100)               78500     \n",
            "                                                                 \n",
            " dense_1 (Dense)             (None, 30)                3030      \n",
            "                                                                 \n",
            " dense_2 (Dense)             (None, 10)                310       \n",
            "                                                                 \n",
            "=================================================================\n",
            "Total params: 81840 (319.69 KB)\n",
            "Trainable params: 81840 (319.69 KB)\n",
            "Non-trainable params: 0 (0.00 Byte)\n",
            "_________________________________________________________________\n"
          ]
        }
      ]
    },
    {
      "cell_type": "code",
      "source": [
        "# 학습 수행.\n",
        "history = model.fit(x=tr_images, y=tr_oh_labels, batch_size=128, epochs=20, validation_data=(val_images, val_oh_labels))\n"
      ],
      "metadata": {
        "trusted": true,
        "id": "hQXrBSdbsvoO",
        "colab": {
          "base_uri": "https://localhost:8080/"
        },
        "outputId": "ce566e1f-5b8b-4e10-eb98-d17609077f8d"
      },
      "execution_count": 6,
      "outputs": [
        {
          "output_type": "stream",
          "name": "stdout",
          "text": [
            "Epoch 1/20\n",
            "399/399 [==============================] - 7s 4ms/step - loss: 0.5956 - accuracy: 0.7983 - val_loss: 0.4750 - val_accuracy: 0.8301\n",
            "Epoch 2/20\n",
            "399/399 [==============================] - 2s 4ms/step - loss: 0.4171 - accuracy: 0.8537 - val_loss: 0.4272 - val_accuracy: 0.8484\n",
            "Epoch 3/20\n",
            "399/399 [==============================] - 2s 4ms/step - loss: 0.3749 - accuracy: 0.8663 - val_loss: 0.4013 - val_accuracy: 0.8539\n",
            "Epoch 4/20\n",
            "399/399 [==============================] - 2s 4ms/step - loss: 0.3566 - accuracy: 0.8725 - val_loss: 0.3683 - val_accuracy: 0.8662\n",
            "Epoch 5/20\n",
            "399/399 [==============================] - 2s 4ms/step - loss: 0.3378 - accuracy: 0.8789 - val_loss: 0.3701 - val_accuracy: 0.8657\n",
            "Epoch 6/20\n",
            "399/399 [==============================] - 3s 8ms/step - loss: 0.3247 - accuracy: 0.8826 - val_loss: 0.3545 - val_accuracy: 0.8732\n",
            "Epoch 7/20\n",
            "399/399 [==============================] - 2s 5ms/step - loss: 0.3075 - accuracy: 0.8891 - val_loss: 0.3570 - val_accuracy: 0.8718\n",
            "Epoch 8/20\n",
            "399/399 [==============================] - 2s 6ms/step - loss: 0.2941 - accuracy: 0.8933 - val_loss: 0.3383 - val_accuracy: 0.8774\n",
            "Epoch 9/20\n",
            "399/399 [==============================] - 1s 4ms/step - loss: 0.2870 - accuracy: 0.8948 - val_loss: 0.3432 - val_accuracy: 0.8759\n",
            "Epoch 10/20\n",
            "399/399 [==============================] - 2s 4ms/step - loss: 0.2783 - accuracy: 0.8983 - val_loss: 0.3305 - val_accuracy: 0.8800\n",
            "Epoch 11/20\n",
            "399/399 [==============================] - 2s 4ms/step - loss: 0.2702 - accuracy: 0.9016 - val_loss: 0.3460 - val_accuracy: 0.8767\n",
            "Epoch 12/20\n",
            "399/399 [==============================] - 2s 4ms/step - loss: 0.2641 - accuracy: 0.9033 - val_loss: 0.3342 - val_accuracy: 0.8808\n",
            "Epoch 13/20\n",
            "399/399 [==============================] - 2s 6ms/step - loss: 0.2550 - accuracy: 0.9067 - val_loss: 0.3177 - val_accuracy: 0.8838\n",
            "Epoch 14/20\n",
            "399/399 [==============================] - 2s 5ms/step - loss: 0.2476 - accuracy: 0.9090 - val_loss: 0.3216 - val_accuracy: 0.8841\n",
            "Epoch 15/20\n",
            "399/399 [==============================] - 2s 4ms/step - loss: 0.2407 - accuracy: 0.9119 - val_loss: 0.3378 - val_accuracy: 0.8829\n",
            "Epoch 16/20\n",
            "399/399 [==============================] - 2s 4ms/step - loss: 0.2352 - accuracy: 0.9126 - val_loss: 0.3303 - val_accuracy: 0.8846\n",
            "Epoch 17/20\n",
            "399/399 [==============================] - 2s 4ms/step - loss: 0.2319 - accuracy: 0.9151 - val_loss: 0.3239 - val_accuracy: 0.8870\n",
            "Epoch 18/20\n",
            "399/399 [==============================] - 2s 4ms/step - loss: 0.2257 - accuracy: 0.9164 - val_loss: 0.3398 - val_accuracy: 0.8791\n",
            "Epoch 19/20\n",
            "399/399 [==============================] - 2s 4ms/step - loss: 0.2216 - accuracy: 0.9185 - val_loss: 0.3328 - val_accuracy: 0.8863\n",
            "Epoch 20/20\n",
            "399/399 [==============================] - 2s 5ms/step - loss: 0.2143 - accuracy: 0.9207 - val_loss: 0.3264 - val_accuracy: 0.8833\n"
          ]
        }
      ]
    },
    {
      "cell_type": "code",
      "source": [
        "import matplotlib.pyplot as plt\n",
        "%matplotlib inline\n",
        "\n",
        "def show_history(history):\n",
        "    plt.plot(history.history['accuracy'], label='train')\n",
        "    plt.plot(history.history['val_accuracy'], label='valid')\n",
        "    plt.legend()\n",
        "\n",
        "show_history(history)"
      ],
      "metadata": {
        "trusted": true,
        "id": "RmuFXhlesvoO",
        "colab": {
          "base_uri": "https://localhost:8080/",
          "height": 430
        },
        "outputId": "c736315c-630f-419f-d0b0-46856a368965"
      },
      "execution_count": 7,
      "outputs": [
        {
          "output_type": "display_data",
          "data": {
            "text/plain": [
              "<Figure size 640x480 with 1 Axes>"
            ],
            "image/png": "[encoded data removed]"
          },
          "metadata": {}
        }
      ]
    },
    {
      "cell_type": "code",
      "source": [
        "# 테스트 데이터 세트로 모델 성능 검증\n",
        "model.evaluate(test_images, test_oh_labels, batch_size=256, verbose=1)\n"
      ],
      "metadata": {
        "trusted": true,
        "id": "LM_tmUznsvoO",
        "colab": {
          "base_uri": "https://localhost:8080/"
        },
        "outputId": "86a1752a-c12a-48c1-b9d8-543c586e0411"
      },
      "execution_count": 8,
      "outputs": [
        {
          "output_type": "stream",
          "name": "stdout",
          "text": [
            "40/40 [==============================] - 0s 4ms/step - loss: 0.3506 - accuracy: 0.8822\n"
          ]
        },
        {
          "output_type": "execute_result",
          "data": {
            "text/plain": [
              "[0.3505743443965912, 0.8822000026702881]"
            ]
          },
          "metadata": {},
          "execution_count": 8
        }
      ]
    },
    {
      "cell_type": "markdown",
      "source": [
        "### Callback"
      ],
      "metadata": {
        "id": "va67SQdNsvoO"
      }
    },
    {
      "cell_type": "markdown",
      "source": [
        "#### ModelCheckpoint(filepath, monitor='val_loss', verbose=0, save_best_only=False, save_weights_only=False, mode='auto', period=1)\n",
        "* 특정 조건에 맞춰서 모델을 파일로 저장\n",
        "* filepath: filepath는 (on_epoch_end에서 전달되는) epoch의 값과 logs의 키로 채워진 이름 형식 옵션을 가질 수 있음.\n",
        "예를 들어 filepath가 weights.{epoch:02d}-{val_loss:.2f}.hdf5라면, 파일 이름에 세대 번호와 검증 손실을 넣어 모델의 체크포인트가 저장\n",
        "* monitor: 모니터할 지표(loss 또는 평가 지표)\n",
        "* save_best_only: 가장 좋은 성능을 나타내는 모델만 저장할 여부\n",
        "* save_weights_only: Weights만 저장할 지 여부\n",
        "* mode: {auto, min, max} 중 하나. monitor 지표가 감소해야 좋을 경우 min, 증가해야 좋을 경우 max, auto는 monitor 이름에서 자동으로 유추."
      ],
      "metadata": {
        "id": "BNB4PQnwsvoP"
      }
    },
    {
      "cell_type": "code",
      "source": [
        "!pwd"
      ],
      "metadata": {
        "trusted": true,
        "id": "H-45Xx5qsvoP",
        "colab": {
          "base_uri": "https://localhost:8080/"
        },
        "outputId": "3128cfe6-04e9-47be-b7d6-68c3680544d8"
      },
      "execution_count": 9,
      "outputs": [
        {
          "output_type": "stream",
          "name": "stdout",
          "text": [
            "/content\n"
          ]
        }
      ]
    },
    {
      "cell_type": "code",
      "source": [
        "from tensorflow.keras.callbacks import ModelCheckpoint\n",
        "\n",
        "model = create_model()\n",
        "model.compile(optimizer=Adam(0.001), loss='categorical_crossentropy', metrics=['accuracy'])\n",
        "\n",
        "mcp_cb = ModelCheckpoint(filepath='/kaggle/working/weights.{epoch:02d}-{val_loss:.2f}.hdf5', monitor='val_loss',\n",
        "                         save_best_only=True, save_weights_only=True, mode='min', period=3, verbose=1)\n",
        "history = model.fit(x=tr_images, y=tr_oh_labels, batch_size=128, epochs=10, validation_data=(val_images, val_oh_labels),\n",
        "                   callbacks=[mcp_cb])"
      ],
      "metadata": {
        "trusted": true,
        "id": "dHId-quqsvoP",
        "colab": {
          "base_uri": "https://localhost:8080/"
        },
        "outputId": "204b8393-347f-47c5-8378-644de37a947c"
      },
      "execution_count": 10,
      "outputs": [
        {
          "output_type": "stream",
          "name": "stderr",
          "text": [
            "WARNING:tensorflow:`period` argument is deprecated. Please use `save_freq` to specify the frequency in number of batches seen.\n"
          ]
        },
        {
          "output_type": "stream",
          "name": "stdout",
          "text": [
            "Epoch 1/10\n",
            "399/399 [==============================] - 3s 5ms/step - loss: 0.6214 - accuracy: 0.7857 - val_loss: 0.4627 - val_accuracy: 0.8397\n",
            "Epoch 2/10\n",
            "399/399 [==============================] - 2s 4ms/step - loss: 0.4161 - accuracy: 0.8559 - val_loss: 0.4278 - val_accuracy: 0.8484\n",
            "Epoch 3/10\n",
            "387/399 [============================>.] - ETA: 0s - loss: 0.3774 - accuracy: 0.8647\n",
            "Epoch 3: val_loss improved from inf to 0.39849, saving model to /kaggle/working/weights.03-0.40.hdf5\n",
            "399/399 [==============================] - 2s 4ms/step - loss: 0.3777 - accuracy: 0.8646 - val_loss: 0.3985 - val_accuracy: 0.8559\n",
            "Epoch 4/10\n",
            "399/399 [==============================] - 2s 4ms/step - loss: 0.3494 - accuracy: 0.8748 - val_loss: 0.3724 - val_accuracy: 0.8617\n",
            "Epoch 5/10\n",
            "399/399 [==============================] - 1s 4ms/step - loss: 0.3276 - accuracy: 0.8817 - val_loss: 0.3572 - val_accuracy: 0.8706\n",
            "Epoch 6/10\n",
            "389/399 [============================>.] - ETA: 0s - loss: 0.3112 - accuracy: 0.8868\n",
            "Epoch 6: val_loss improved from 0.39849 to 0.34474, saving model to /kaggle/working/weights.06-0.34.hdf5\n",
            "399/399 [==============================] - 2s 4ms/step - loss: 0.3111 - accuracy: 0.8866 - val_loss: 0.3447 - val_accuracy: 0.8726\n",
            "Epoch 7/10\n",
            "399/399 [==============================] - 2s 5ms/step - loss: 0.2968 - accuracy: 0.8912 - val_loss: 0.3208 - val_accuracy: 0.8850\n",
            "Epoch 8/10\n",
            "399/399 [==============================] - 2s 5ms/step - loss: 0.2855 - accuracy: 0.8960 - val_loss: 0.3340 - val_accuracy: 0.8804\n",
            "Epoch 9/10\n",
            "388/399 [============================>.] - ETA: 0s - loss: 0.2732 - accuracy: 0.8987\n",
            "Epoch 9: val_loss improved from 0.34474 to 0.32163, saving model to /kaggle/working/weights.09-0.32.hdf5\n",
            "399/399 [==============================] - 2s 4ms/step - loss: 0.2728 - accuracy: 0.8990 - val_loss: 0.3216 - val_accuracy: 0.8860\n",
            "Epoch 10/10\n",
            "399/399 [==============================] - 2s 4ms/step - loss: 0.2663 - accuracy: 0.9008 - val_loss: 0.3476 - val_accuracy: 0.8732\n"
          ]
        }
      ]
    },
    {
      "cell_type": "code",
      "source": [
        "!ls -lia\n",
        "#!rm -rf weight*\n",
        "#!ls -lia\n"
      ],
      "metadata": {
        "trusted": true,
        "id": "vgzNci30svoP",
        "colab": {
          "base_uri": "https://localhost:8080/"
        },
        "outputId": "df3f7004-8cd6-4a6d-c996-23001075f047"
      },
      "execution_count": 11,
      "outputs": [
        {
          "output_type": "stream",
          "name": "stdout",
          "text": [
            "total 16\n",
            "3801101 drwxr-xr-x 1 root root 4096 Nov 10 14:22 .\n",
            "2621466 drwxr-xr-x 1 root root 4096 Nov 14 11:11 ..\n",
            "2752557 drwxr-xr-x 4 root root 4096 Nov 10 14:21 .config\n",
            "3801102 drwxr-xr-x 1 root root 4096 Nov 10 14:22 sample_data\n"
          ]
        }
      ]
    },
    {
      "cell_type": "markdown",
      "source": [
        "#### ReduceLROnPlateau(monitor='val_loss', factor=0.1, patience=10, verbose=0, mode='auto', min_delta=0.0001, cooldown=0, min_lr=0)\n",
        "* 특정 epochs 횟수동안 성능이 개선 되지 않을 시 Learning rate를 동적으로 감소 시킴\n",
        "* monitor: 모니터할 지표(loss 또는 평가 지표)\n",
        "* factor: 학습 속도를 줄일 인수. new_lr = lr * factor\n",
        "* patience: Learing Rate를 줄이기 전에 monitor할 epochs 횟수.\n",
        "* mode: {auto, min, max} 중 하나. monitor 지표가 감소해야 좋을 경우 min, 증가해야 좋을 경우 max, auto는 monitor 이름에서 유추."
      ],
      "metadata": {
        "id": "hahXn9QEsvoP"
      }
    },
    {
      "cell_type": "code",
      "source": [
        "from tensorflow.keras.callbacks import ReduceLROnPlateau\n",
        "\n",
        "model = create_model()\n",
        "model.compile(optimizer=Adam(0.001), loss='categorical_crossentropy', metrics=['accuracy'])\n",
        "\n",
        "rlr_cb = ReduceLROnPlateau(monitor='val_loss', factor=0.3, patience=3, mode='min', verbose=1)\n",
        "history = model.fit(x=tr_images, y=tr_oh_labels, batch_size=128, epochs=30, validation_data=(val_images, val_oh_labels),\n",
        "                   callbacks=[rlr_cb])"
      ],
      "metadata": {
        "trusted": true,
        "id": "ykWblUWEsvoP",
        "colab": {
          "base_uri": "https://localhost:8080/"
        },
        "outputId": "bc8b0aac-d884-4582-f722-8df8976949db"
      },
      "execution_count": 11,
      "outputs": [
        {
          "output_type": "stream",
          "name": "stdout",
          "text": [
            "Epoch 1/30\n",
            "399/399 [==============================] - 4s 6ms/step - loss: 0.6040 - accuracy: 0.7893 - val_loss: 0.4838 - val_accuracy: 0.8254 - lr: 0.0010\n",
            "Epoch 2/30\n",
            "399/399 [==============================] - 2s 4ms/step - loss: 0.4185 - accuracy: 0.8530 - val_loss: 0.4182 - val_accuracy: 0.8493 - lr: 0.0010\n",
            "Epoch 3/30\n",
            "399/399 [==============================] - 2s 4ms/step - loss: 0.3784 - accuracy: 0.8665 - val_loss: 0.3695 - val_accuracy: 0.8664 - lr: 0.0010\n",
            "Epoch 4/30\n",
            "399/399 [==============================] - 2s 4ms/step - loss: 0.3463 - accuracy: 0.8762 - val_loss: 0.3759 - val_accuracy: 0.8660 - lr: 0.0010\n",
            "Epoch 5/30\n",
            "399/399 [==============================] - 2s 4ms/step - loss: 0.3282 - accuracy: 0.8810 - val_loss: 0.3491 - val_accuracy: 0.8751 - lr: 0.0010\n",
            "Epoch 6/30\n",
            "399/399 [==============================] - 2s 4ms/step - loss: 0.3085 - accuracy: 0.8887 - val_loss: 0.3736 - val_accuracy: 0.8656 - lr: 0.0010\n",
            "Epoch 7/30\n",
            "399/399 [==============================] - 2s 4ms/step - loss: 0.2967 - accuracy: 0.8915 - val_loss: 0.3415 - val_accuracy: 0.8764 - lr: 0.0010\n",
            "Epoch 8/30\n",
            "399/399 [==============================] - 2s 5ms/step - loss: 0.2884 - accuracy: 0.8936 - val_loss: 0.3219 - val_accuracy: 0.8844 - lr: 0.0010\n",
            "Epoch 9/30\n",
            "399/399 [==============================] - 2s 5ms/step - loss: 0.2746 - accuracy: 0.8983 - val_loss: 0.3194 - val_accuracy: 0.8854 - lr: 0.0010\n",
            "Epoch 10/30\n",
            "399/399 [==============================] - 2s 4ms/step - loss: 0.2655 - accuracy: 0.9013 - val_loss: 0.3079 - val_accuracy: 0.8893 - lr: 0.0010\n",
            "Epoch 11/30\n",
            "399/399 [==============================] - 2s 4ms/step - loss: 0.2577 - accuracy: 0.9044 - val_loss: 0.3270 - val_accuracy: 0.8833 - lr: 0.0010\n",
            "Epoch 12/30\n",
            "399/399 [==============================] - 2s 4ms/step - loss: 0.2491 - accuracy: 0.9074 - val_loss: 0.3193 - val_accuracy: 0.8867 - lr: 0.0010\n",
            "Epoch 13/30\n",
            "393/399 [============================>.] - ETA: 0s - loss: 0.2412 - accuracy: 0.9105\n",
            "Epoch 13: ReduceLROnPlateau reducing learning rate to 0.0003000000142492354.\n",
            "399/399 [==============================] - 2s 4ms/step - loss: 0.2419 - accuracy: 0.9103 - val_loss: 0.3083 - val_accuracy: 0.8903 - lr: 0.0010\n",
            "Epoch 14/30\n",
            "399/399 [==============================] - 2s 4ms/step - loss: 0.2138 - accuracy: 0.9222 - val_loss: 0.2969 - val_accuracy: 0.8938 - lr: 3.0000e-04\n",
            "Epoch 15/30\n",
            "399/399 [==============================] - 2s 4ms/step - loss: 0.2092 - accuracy: 0.9244 - val_loss: 0.2971 - val_accuracy: 0.8940 - lr: 3.0000e-04\n",
            "Epoch 16/30\n",
            "399/399 [==============================] - 2s 5ms/step - loss: 0.2063 - accuracy: 0.9249 - val_loss: 0.2969 - val_accuracy: 0.8949 - lr: 3.0000e-04\n",
            "Epoch 17/30\n",
            "395/399 [============================>.] - ETA: 0s - loss: 0.2029 - accuracy: 0.9263\n",
            "Epoch 17: ReduceLROnPlateau reducing learning rate to 9.000000427477062e-05.\n",
            "399/399 [==============================] - 4s 11ms/step - loss: 0.2026 - accuracy: 0.9264 - val_loss: 0.3073 - val_accuracy: 0.8897 - lr: 3.0000e-04\n",
            "Epoch 18/30\n",
            "399/399 [==============================] - 2s 5ms/step - loss: 0.1929 - accuracy: 0.9308 - val_loss: 0.2977 - val_accuracy: 0.8939 - lr: 9.0000e-05\n",
            "Epoch 19/30\n",
            "399/399 [==============================] - 2s 4ms/step - loss: 0.1916 - accuracy: 0.9303 - val_loss: 0.2931 - val_accuracy: 0.8970 - lr: 9.0000e-05\n",
            "Epoch 20/30\n",
            "399/399 [==============================] - 2s 4ms/step - loss: 0.1901 - accuracy: 0.9314 - val_loss: 0.2945 - val_accuracy: 0.8980 - lr: 9.0000e-05\n",
            "Epoch 21/30\n",
            "399/399 [==============================] - 2s 4ms/step - loss: 0.1893 - accuracy: 0.9315 - val_loss: 0.2966 - val_accuracy: 0.8956 - lr: 9.0000e-05\n",
            "Epoch 22/30\n",
            "399/399 [==============================] - ETA: 0s - loss: 0.1880 - accuracy: 0.9323\n",
            "Epoch 22: ReduceLROnPlateau reducing learning rate to 2.700000040931627e-05.\n",
            "399/399 [==============================] - 2s 4ms/step - loss: 0.1880 - accuracy: 0.9323 - val_loss: 0.2954 - val_accuracy: 0.8954 - lr: 9.0000e-05\n",
            "Epoch 23/30\n",
            "399/399 [==============================] - 2s 5ms/step - loss: 0.1847 - accuracy: 0.9335 - val_loss: 0.2946 - val_accuracy: 0.8960 - lr: 2.7000e-05\n",
            "Epoch 24/30\n",
            "399/399 [==============================] - 2s 5ms/step - loss: 0.1840 - accuracy: 0.9340 - val_loss: 0.2952 - val_accuracy: 0.8961 - lr: 2.7000e-05\n",
            "Epoch 25/30\n",
            "385/399 [===========================>..] - ETA: 0s - loss: 0.1836 - accuracy: 0.9338\n",
            "Epoch 25: ReduceLROnPlateau reducing learning rate to 8.100000013655517e-06.\n",
            "399/399 [==============================] - 2s 4ms/step - loss: 0.1835 - accuracy: 0.9339 - val_loss: 0.2955 - val_accuracy: 0.8966 - lr: 2.7000e-05\n",
            "Epoch 26/30\n",
            "399/399 [==============================] - 2s 4ms/step - loss: 0.1826 - accuracy: 0.9345 - val_loss: 0.2948 - val_accuracy: 0.8969 - lr: 8.1000e-06\n",
            "Epoch 27/30\n",
            "399/399 [==============================] - 2s 4ms/step - loss: 0.1824 - accuracy: 0.9345 - val_loss: 0.2949 - val_accuracy: 0.8967 - lr: 8.1000e-06\n",
            "Epoch 28/30\n",
            "389/399 [============================>.] - ETA: 0s - loss: 0.1826 - accuracy: 0.9342\n",
            "Epoch 28: ReduceLROnPlateau reducing learning rate to 2.429999949526973e-06.\n",
            "399/399 [==============================] - 2s 4ms/step - loss: 0.1823 - accuracy: 0.9345 - val_loss: 0.2948 - val_accuracy: 0.8967 - lr: 8.1000e-06\n",
            "Epoch 29/30\n",
            "399/399 [==============================] - 2s 4ms/step - loss: 0.1819 - accuracy: 0.9346 - val_loss: 0.2949 - val_accuracy: 0.8962 - lr: 2.4300e-06\n",
            "Epoch 30/30\n",
            "399/399 [==============================] - 2s 4ms/step - loss: 0.1818 - accuracy: 0.9348 - val_loss: 0.2949 - val_accuracy: 0.8962 - lr: 2.4300e-06\n"
          ]
        }
      ]
    },
    {
      "cell_type": "markdown",
      "source": [
        "#### EarlyStopping(monitor='val_loss', min_delta=0, patience=0, verbose=0, mode='auto', baseline=None, restore_best_weights=False)\n",
        "* 특정 epochs 동안 성능이 개선되지 않을 시 학습을 조기에 중단\n",
        "* monitor: 모니터할 지표(loss 또는 평가 지표)\n",
        "* patience: Early Stopping 적용 전에 monitor할 epochs 횟수.\n",
        "* mode: {auto, min, max} 중 하나. monitor 지표가 감소해야 좋을 경우 min, 증가해야 좋을 경우 max, auto는 monitor 이름에서 유추."
      ],
      "metadata": {
        "id": "OBhakUkCsvoP"
      }
    },
    {
      "cell_type": "code",
      "source": [
        "from tensorflow.keras.callbacks import EarlyStopping\n",
        "\n",
        "model = create_model()\n",
        "model.compile(optimizer=Adam(0.001), loss='categorical_crossentropy', metrics=['accuracy'])\n",
        "\n",
        "ely_cb = EarlyStopping(monitor='val_loss', patience=3, mode='min', verbose=1)\n",
        "history = model.fit(x=tr_images, y=tr_oh_labels, batch_size=128, epochs=30, validation_data=(val_images, val_oh_labels),\n",
        "                   callbacks=[ely_cb])"
      ],
      "metadata": {
        "trusted": true,
        "id": "xvK0M8vssvoQ",
        "colab": {
          "base_uri": "https://localhost:8080/"
        },
        "outputId": "52d57b75-8fda-4aba-fc95-5c4e99146b8d"
      },
      "execution_count": 12,
      "outputs": [
        {
          "output_type": "stream",
          "name": "stdout",
          "text": [
            "Epoch 1/30\n",
            "399/399 [==============================] - 3s 4ms/step - loss: 0.5939 - accuracy: 0.8016 - val_loss: 0.4489 - val_accuracy: 0.8402\n",
            "Epoch 2/30\n",
            "399/399 [==============================] - 2s 4ms/step - loss: 0.4138 - accuracy: 0.8537 - val_loss: 0.3989 - val_accuracy: 0.8550\n",
            "Epoch 3/30\n",
            "399/399 [==============================] - 2s 4ms/step - loss: 0.3727 - accuracy: 0.8683 - val_loss: 0.3670 - val_accuracy: 0.8672\n",
            "Epoch 4/30\n",
            "399/399 [==============================] - 2s 5ms/step - loss: 0.3456 - accuracy: 0.8742 - val_loss: 0.3518 - val_accuracy: 0.8733\n",
            "Epoch 5/30\n",
            "399/399 [==============================] - 2s 5ms/step - loss: 0.3272 - accuracy: 0.8825 - val_loss: 0.3515 - val_accuracy: 0.8760\n",
            "Epoch 6/30\n",
            "399/399 [==============================] - 2s 5ms/step - loss: 0.3127 - accuracy: 0.8863 - val_loss: 0.3619 - val_accuracy: 0.8670\n",
            "Epoch 7/30\n",
            "399/399 [==============================] - 2s 4ms/step - loss: 0.2978 - accuracy: 0.8917 - val_loss: 0.3289 - val_accuracy: 0.8776\n",
            "Epoch 8/30\n",
            "399/399 [==============================] - 2s 4ms/step - loss: 0.2855 - accuracy: 0.8962 - val_loss: 0.3327 - val_accuracy: 0.8792\n",
            "Epoch 9/30\n",
            "399/399 [==============================] - 2s 4ms/step - loss: 0.2758 - accuracy: 0.8988 - val_loss: 0.3243 - val_accuracy: 0.8831\n",
            "Epoch 10/30\n",
            "399/399 [==============================] - 2s 4ms/step - loss: 0.2683 - accuracy: 0.9016 - val_loss: 0.3250 - val_accuracy: 0.8827\n",
            "Epoch 11/30\n",
            "399/399 [==============================] - 2s 4ms/step - loss: 0.2585 - accuracy: 0.9044 - val_loss: 0.3593 - val_accuracy: 0.8704\n",
            "Epoch 12/30\n",
            "399/399 [==============================] - 2s 5ms/step - loss: 0.2516 - accuracy: 0.9082 - val_loss: 0.3081 - val_accuracy: 0.8877\n",
            "Epoch 13/30\n",
            "399/399 [==============================] - 2s 5ms/step - loss: 0.2444 - accuracy: 0.9099 - val_loss: 0.3223 - val_accuracy: 0.8854\n",
            "Epoch 14/30\n",
            "399/399 [==============================] - 2s 4ms/step - loss: 0.2392 - accuracy: 0.9118 - val_loss: 0.3341 - val_accuracy: 0.8813\n",
            "Epoch 15/30\n",
            "399/399 [==============================] - 2s 4ms/step - loss: 0.2316 - accuracy: 0.9147 - val_loss: 0.3107 - val_accuracy: 0.8896\n",
            "Epoch 15: early stopping\n"
          ]
        }
      ]
    },
    {
      "cell_type": "code",
      "source": [
        "!rm weigh*"
      ],
      "metadata": {
        "trusted": true,
        "id": "TGkULP-OsvoQ"
      },
      "execution_count": null,
      "outputs": []
    },
    {
      "cell_type": "code",
      "source": [
        "from tensorflow.keras.callbacks import ModelCheckpoint, ReduceLROnPlateau, EarlyStopping\n",
        "\n",
        "model = create_model()\n",
        "model.compile(optimizer=Adam(0.001), loss='categorical_crossentropy', metrics=['accuracy'])\n",
        "\n",
        "mcp_cb = ModelCheckpoint(filepath='/kaggle/working/weights.{epoch:02d}-{val_loss:.2f}.hdf5', monitor='val_loss',\n",
        "                         save_best_only=True, save_weights_only=True, mode='min', period=1, verbose=0)\n",
        "rlr_cb = ReduceLROnPlateau(monitor='val_loss', factor=0.3, patience=5, mode='min', verbose=1)\n",
        "ely_cb = EarlyStopping(monitor='val_loss', patience=7, mode='min', verbose=1)\n",
        "\n",
        "history = model.fit(x=tr_images, y=tr_oh_labels, batch_size=128, epochs=40, validation_data=(val_images, val_oh_labels),\n",
        "                   callbacks=[mcp_cb, rlr_cb, ely_cb])"
      ],
      "metadata": {
        "trusted": true,
        "id": "OHDwBX5-svoQ",
        "colab": {
          "base_uri": "https://localhost:8080/"
        },
        "outputId": "30a925d6-9fcb-4357-e84a-a3424b3d0274"
      },
      "execution_count": 13,
      "outputs": [
        {
          "output_type": "stream",
          "name": "stderr",
          "text": [
            "WARNING:tensorflow:`period` argument is deprecated. Please use `save_freq` to specify the frequency in number of batches seen.\n"
          ]
        },
        {
          "output_type": "stream",
          "name": "stdout",
          "text": [
            "Epoch 1/40\n",
            "399/399 [==============================] - 3s 5ms/step - loss: 0.5937 - accuracy: 0.7960 - val_loss: 0.4616 - val_accuracy: 0.8374 - lr: 0.0010\n",
            "Epoch 2/40\n",
            "399/399 [==============================] - 2s 4ms/step - loss: 0.4237 - accuracy: 0.8530 - val_loss: 0.4200 - val_accuracy: 0.8520 - lr: 0.0010\n",
            "Epoch 3/40\n",
            "399/399 [==============================] - 2s 4ms/step - loss: 0.3809 - accuracy: 0.8657 - val_loss: 0.3923 - val_accuracy: 0.8606 - lr: 0.0010\n",
            "Epoch 4/40\n",
            "399/399 [==============================] - 2s 4ms/step - loss: 0.3542 - accuracy: 0.8753 - val_loss: 0.3761 - val_accuracy: 0.8654 - lr: 0.0010\n",
            "Epoch 5/40\n",
            "399/399 [==============================] - 2s 5ms/step - loss: 0.3346 - accuracy: 0.8791 - val_loss: 0.3582 - val_accuracy: 0.8740 - lr: 0.0010\n",
            "Epoch 6/40\n",
            "399/399 [==============================] - 3s 7ms/step - loss: 0.3180 - accuracy: 0.8855 - val_loss: 0.3618 - val_accuracy: 0.8712 - lr: 0.0010\n",
            "Epoch 7/40\n",
            "399/399 [==============================] - 2s 4ms/step - loss: 0.3057 - accuracy: 0.8885 - val_loss: 0.3392 - val_accuracy: 0.8807 - lr: 0.0010\n",
            "Epoch 8/40\n",
            "399/399 [==============================] - 2s 4ms/step - loss: 0.2914 - accuracy: 0.8943 - val_loss: 0.3564 - val_accuracy: 0.8707 - lr: 0.0010\n",
            "Epoch 9/40\n",
            "399/399 [==============================] - 2s 4ms/step - loss: 0.2850 - accuracy: 0.8959 - val_loss: 0.3260 - val_accuracy: 0.8839 - lr: 0.0010\n",
            "Epoch 10/40\n",
            "399/399 [==============================] - 2s 6ms/step - loss: 0.2751 - accuracy: 0.8985 - val_loss: 0.3287 - val_accuracy: 0.8822 - lr: 0.0010\n",
            "Epoch 11/40\n",
            "399/399 [==============================] - 2s 4ms/step - loss: 0.2716 - accuracy: 0.8989 - val_loss: 0.3256 - val_accuracy: 0.8827 - lr: 0.0010\n",
            "Epoch 12/40\n",
            "399/399 [==============================] - 2s 4ms/step - loss: 0.2608 - accuracy: 0.9039 - val_loss: 0.3269 - val_accuracy: 0.8813 - lr: 0.0010\n",
            "Epoch 13/40\n",
            "399/399 [==============================] - 2s 6ms/step - loss: 0.2525 - accuracy: 0.9071 - val_loss: 0.3255 - val_accuracy: 0.8831 - lr: 0.0010\n",
            "Epoch 14/40\n",
            "399/399 [==============================] - 2s 5ms/step - loss: 0.2465 - accuracy: 0.9088 - val_loss: 0.3252 - val_accuracy: 0.8816 - lr: 0.0010\n",
            "Epoch 15/40\n",
            "399/399 [==============================] - 2s 4ms/step - loss: 0.2406 - accuracy: 0.9115 - val_loss: 0.3232 - val_accuracy: 0.8853 - lr: 0.0010\n",
            "Epoch 16/40\n",
            "399/399 [==============================] - 2s 4ms/step - loss: 0.2335 - accuracy: 0.9129 - val_loss: 0.3223 - val_accuracy: 0.8850 - lr: 0.0010\n",
            "Epoch 17/40\n",
            "399/399 [==============================] - 2s 4ms/step - loss: 0.2285 - accuracy: 0.9143 - val_loss: 0.3235 - val_accuracy: 0.8847 - lr: 0.0010\n",
            "Epoch 18/40\n",
            "399/399 [==============================] - 2s 4ms/step - loss: 0.2221 - accuracy: 0.9172 - val_loss: 0.3462 - val_accuracy: 0.8811 - lr: 0.0010\n",
            "Epoch 19/40\n",
            "399/399 [==============================] - 2s 4ms/step - loss: 0.2167 - accuracy: 0.9191 - val_loss: 0.3208 - val_accuracy: 0.8883 - lr: 0.0010\n",
            "Epoch 20/40\n",
            "399/399 [==============================] - 2s 5ms/step - loss: 0.2137 - accuracy: 0.9199 - val_loss: 0.3481 - val_accuracy: 0.8814 - lr: 0.0010\n",
            "Epoch 21/40\n",
            "399/399 [==============================] - 2s 6ms/step - loss: 0.2070 - accuracy: 0.9228 - val_loss: 0.3331 - val_accuracy: 0.8879 - lr: 0.0010\n",
            "Epoch 22/40\n",
            "399/399 [==============================] - 2s 6ms/step - loss: 0.2053 - accuracy: 0.9235 - val_loss: 0.3288 - val_accuracy: 0.8896 - lr: 0.0010\n",
            "Epoch 23/40\n",
            "399/399 [==============================] - 3s 8ms/step - loss: 0.2006 - accuracy: 0.9262 - val_loss: 0.3317 - val_accuracy: 0.8913 - lr: 0.0010\n",
            "Epoch 24/40\n",
            "389/399 [============================>.] - ETA: 0s - loss: 0.1941 - accuracy: 0.9277\n",
            "Epoch 24: ReduceLROnPlateau reducing learning rate to 0.0003000000142492354.\n",
            "399/399 [==============================] - 3s 7ms/step - loss: 0.1945 - accuracy: 0.9275 - val_loss: 0.3451 - val_accuracy: 0.8803 - lr: 0.0010\n",
            "Epoch 25/40\n",
            "399/399 [==============================] - 2s 4ms/step - loss: 0.1662 - accuracy: 0.9403 - val_loss: 0.3190 - val_accuracy: 0.8934 - lr: 3.0000e-04\n",
            "Epoch 26/40\n",
            "399/399 [==============================] - 2s 5ms/step - loss: 0.1621 - accuracy: 0.9408 - val_loss: 0.3246 - val_accuracy: 0.8932 - lr: 3.0000e-04\n",
            "Epoch 27/40\n",
            "399/399 [==============================] - 2s 5ms/step - loss: 0.1598 - accuracy: 0.9417 - val_loss: 0.3220 - val_accuracy: 0.8929 - lr: 3.0000e-04\n",
            "Epoch 28/40\n",
            "399/399 [==============================] - 2s 5ms/step - loss: 0.1581 - accuracy: 0.9424 - val_loss: 0.3231 - val_accuracy: 0.8928 - lr: 3.0000e-04\n",
            "Epoch 29/40\n",
            "399/399 [==============================] - 2s 4ms/step - loss: 0.1550 - accuracy: 0.9437 - val_loss: 0.3267 - val_accuracy: 0.8928 - lr: 3.0000e-04\n",
            "Epoch 30/40\n",
            "386/399 [============================>.] - ETA: 0s - loss: 0.1532 - accuracy: 0.9446\n",
            "Epoch 30: ReduceLROnPlateau reducing learning rate to 9.000000427477062e-05.\n",
            "399/399 [==============================] - 2s 4ms/step - loss: 0.1533 - accuracy: 0.9444 - val_loss: 0.3281 - val_accuracy: 0.8926 - lr: 3.0000e-04\n",
            "Epoch 31/40\n",
            "399/399 [==============================] - 2s 4ms/step - loss: 0.1442 - accuracy: 0.9490 - val_loss: 0.3232 - val_accuracy: 0.8937 - lr: 9.0000e-05\n",
            "Epoch 32/40\n",
            "399/399 [==============================] - 2s 4ms/step - loss: 0.1427 - accuracy: 0.9495 - val_loss: 0.3266 - val_accuracy: 0.8923 - lr: 9.0000e-05\n",
            "Epoch 32: early stopping\n"
          ]
        }
      ]
    },
    {
      "cell_type": "code",
      "source": [
        "!ls -lia"
      ],
      "metadata": {
        "trusted": true,
        "id": "LTDBjad3svoQ"
      },
      "execution_count": null,
      "outputs": []
    },
    {
      "cell_type": "code",
      "source": [],
      "metadata": {
        "trusted": true,
        "id": "GD9VIzExsvoR"
      },
      "execution_count": null,
      "outputs": []
    }
  ]
}