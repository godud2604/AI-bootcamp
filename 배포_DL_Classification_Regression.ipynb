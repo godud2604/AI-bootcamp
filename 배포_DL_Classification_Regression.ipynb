{
  "cells": [
    {
      "cell_type": "markdown",
      "metadata": {
        "id": "view-in-github",
        "colab_type": "text"
      },
      "source": [
        "<a href=\"https://colab.research.google.com/github/godud2604/AI-bootcamp/blob/main/%EB%B0%B0%ED%8F%AC_DL_Classification_Regression.ipynb\" target=\"_parent\"><img src=\"https://colab.research.google.com/assets/colab-badge.svg\" alt=\"Open In Colab\"/></a>"
      ]
    },
    {
      "cell_type": "code",
      "execution_count": 2,
      "id": "0a42451a",
      "metadata": {
        "id": "0a42451a"
      },
      "outputs": [],
      "source": [
        "import numpy as np\n",
        "import pandas as pd\n",
        "import matplotlib.pyplot as plt\n",
        "import seaborn as sns; sns.set()\n",
        "import warnings\n",
        "warnings.filterwarnings('ignore')\n",
        "\n",
        "from sklearn.model_selection import train_test_split\n",
        "from sklearn.preprocessing import StandardScaler\n",
        "from sklearn.metrics import confusion_matrix, classification_report\n",
        "\n",
        "import scipy.signal as sp\n",
        "import scipy.io as sio\n",
        "\n",
        "import tensorflow as tf\n",
        "from tensorflow import keras\n",
        "from tensorflow.keras import layers\n",
        "from tensorflow.keras.layers import Dense, InputLayer\n",
        "from tensorflow.keras.optimizers import Adam\n",
        "from tensorflow.keras.models import load_model\n",
        "from tensorflow.keras.callbacks import ModelCheckpoint, EarlyStopping, ReduceLROnPlateau\n",
        "from keras.utils import plot_model\n"
      ]
    },
    {
      "cell_type": "markdown",
      "source": [
        "# Multi-layered Percetron: XOR"
      ],
      "metadata": {
        "id": "r34EW9vPaOO3"
      },
      "id": "r34EW9vPaOO3"
    },
    {
      "cell_type": "code",
      "source": [
        "x = np.array([[0,0],\n",
        "              [0,1],\n",
        "              [1,0],\n",
        "              [1,1]])\n",
        "y = np.array([0, 1, 1, 0])"
      ],
      "metadata": {
        "id": "k-If3X6WaYJ7"
      },
      "id": "k-If3X6WaYJ7",
      "execution_count": 3,
      "outputs": []
    },
    {
      "cell_type": "markdown",
      "source": [
        "### (1)  Sequential API"
      ],
      "metadata": {
        "id": "h4UpnJpBaUH0"
      },
      "id": "h4UpnJpBaUH0"
    },
    {
      "cell_type": "code",
      "source": [
        "model = keras.Sequential()\n",
        "# add() 메서드를 통해 Sequential 모델을 점진적으로 작성할 수도 있습니다.\n",
        "model.add(keras.Input(shape=(2,))) # 입력층\n",
        "# model.add( InputLayer( input_shape(2,)) ) # 입력층\n",
        "model.add( Dense( 2, activation='sigmoid' ) ) # 은닉층 1\n",
        "model.add( Dense( 1, activation='sigmoid' ) ) # 출력층\n",
        "\n",
        "print(\"초기 가중치: \")\n",
        "print( model.get_weights() )\n",
        "print('초기 상태에서 신경망의 예측:')\n",
        "print( model.predict(x) )\n",
        "\n",
        "\n",
        "model.compile(loss= \"binary_crossentropy\",\n",
        "              optimizer=  Adam(learning_rate= 1E-3) )\n",
        "model.fit(  x, y  , epochs= 10_000  , verbose=  0 )\n",
        "\n",
        "print( )\n",
        "print(\"학습 후 가중치: \")\n",
        "print( model.get_weights() )\n",
        "\n",
        "pred = model.predict(x)\n",
        "\n",
        "print('학습 후 신경망의 예측:')\n",
        "print( pred )"
      ],
      "metadata": {
        "id": "8DvOGyuoaTVT",
        "outputId": "6b5f7a0d-b62e-4d6c-9b89-ef927c95e78a",
        "colab": {
          "base_uri": "https://localhost:8080/"
        }
      },
      "id": "8DvOGyuoaTVT",
      "execution_count": 6,
      "outputs": [
        {
          "output_type": "stream",
          "name": "stdout",
          "text": [
            "초기 가중치: \n",
            "[array([[0.19483769, 1.1094931 ],\n",
            "       [0.8093523 , 0.9522983 ]], dtype=float32), array([0., 0.], dtype=float32), array([[1.0926665],\n",
            "       [1.4074689]], dtype=float32), array([0.], dtype=float32)]\n",
            "초기 상태에서 신경망의 예측:\n",
            "1/1 [==============================] - 0s 42ms/step\n",
            "[[0.77731156]\n",
            " [0.8546679 ]\n",
            " [0.8399497 ]\n",
            " [0.88577735]]\n",
            "\n",
            "학습 후 가중치: \n",
            "[array([[-6.881999 ,  6.7317166],\n",
            "       [ 6.7112217, -6.6407175]], dtype=float32), array([-3.694732 , -3.7446394], dtype=float32), array([[6.9557548],\n",
            "       [6.917922 ]], dtype=float32), array([-3.445001], dtype=float32)]\n",
            "1/1 [==============================] - 0s 41ms/step\n",
            "학습 후 신경망의 예측:\n",
            "[[0.04243078]\n",
            " [0.9603127 ]\n",
            " [0.9585505 ]\n",
            " [0.04198206]]\n"
          ]
        }
      ]
    },
    {
      "cell_type": "code",
      "source": [
        "(pred >= 0.5).astype(int)"
      ],
      "metadata": {
        "id": "VOKNE0i4akf9",
        "outputId": "7035d213-8bcc-489f-a557-8cb15448587b",
        "colab": {
          "base_uri": "https://localhost:8080/"
        }
      },
      "id": "VOKNE0i4akf9",
      "execution_count": 7,
      "outputs": [
        {
          "output_type": "execute_result",
          "data": {
            "text/plain": [
              "array([[0],\n",
              "       [1],\n",
              "       [1],\n",
              "       [0]])"
            ]
          },
          "metadata": {},
          "execution_count": 7
        }
      ]
    },
    {
      "cell_type": "code",
      "source": [
        "model.summary()"
      ],
      "metadata": {
        "id": "6bT4m74rakdX",
        "outputId": "353a2f40-2db7-4f62-e6a3-0e05afb40a9a",
        "colab": {
          "base_uri": "https://localhost:8080/"
        }
      },
      "id": "6bT4m74rakdX",
      "execution_count": 8,
      "outputs": [
        {
          "output_type": "stream",
          "name": "stdout",
          "text": [
            "Model: \"sequential_2\"\n",
            "_________________________________________________________________\n",
            " Layer (type)                Output Shape              Param #   \n",
            "=================================================================\n",
            " dense_2 (Dense)             (None, 2)                 6         \n",
            "                                                                 \n",
            " dense_3 (Dense)             (None, 1)                 3         \n",
            "                                                                 \n",
            "=================================================================\n",
            "Total params: 9 (36.00 Byte)\n",
            "Trainable params: 9 (36.00 Byte)\n",
            "Non-trainable params: 0 (0.00 Byte)\n",
            "_________________________________________________________________\n"
          ]
        }
      ]
    },
    {
      "cell_type": "code",
      "source": [
        "plot_model(model, show_shapes=True)"
      ],
      "metadata": {
        "id": "pHPfLd-xakZ_",
        "outputId": "84b1f815-e0dd-45f3-e278-3af31de9dcd9",
        "colab": {
          "base_uri": "https://localhost:8080/",
          "height": 312
        }
      },
      "id": "pHPfLd-xakZ_",
      "execution_count": 10,
      "outputs": [
        {
          "output_type": "execute_result",
          "data": {
            "image/png": "[encoded data removed]",
            "text/plain": [
              "<IPython.core.display.Image object>"
            ]
          },
          "metadata": {},
          "execution_count": 10
        }
      ]
    },
    {
      "cell_type": "markdown",
      "source": [
        "### (2) Functional API"
      ],
      "metadata": {
        "id": "oAT-stq5ajO9"
      },
      "id": "oAT-stq5ajO9"
    },
    {
      "cell_type": "code",
      "source": [
        "inputs = keras.Input(shape=(2,))\n",
        "h = Dense( 2, activation='sigmoid') (inputs) # hidden => dense층 (중간층)\n",
        "outputs = Dense( 1, activation='sigmoid') (h)\n",
        "\n",
        "model = keras.Model( inputs = inputs , outputs = outputs, name = 'XOR_MLP')\n",
        "\n",
        "print(\"초기 가중치: \")\n",
        "print( model.get_weights() )\n",
        "print('초기 상태에서 신경망의 예측:')\n",
        "print( model.predict(x) )\n",
        "\n",
        "model.compile(loss= \"binary_crossentropy\",\n",
        "              optimizer=  Adam(learning_rate= 1E-3) )\n",
        "model.fit(  x, y  , epochs= 10_000  , verbose=  0 )\n",
        "\n",
        "print( )\n",
        "print(\"학습 후 가중치: \")\n",
        "print( model.get_weights() )\n",
        "\n",
        "pred = model.predict(x)\n",
        "\n",
        "print('학습 후 신경망의 예측:')\n",
        "print( pred  )\n"
      ],
      "metadata": {
        "id": "67SU-SctaN2l",
        "outputId": "e51e2084-2847-4504-e054-39447f36ab29",
        "colab": {
          "base_uri": "https://localhost:8080/"
        }
      },
      "id": "67SU-SctaN2l",
      "execution_count": 11,
      "outputs": [
        {
          "output_type": "stream",
          "name": "stderr",
          "text": [
            "WARNING:tensorflow:5 out of the last 5 calls to <function Model.make_predict_function.<locals>.predict_function at 0x7be8e3f42e60> triggered tf.function retracing. Tracing is expensive and the excessive number of tracings could be due to (1) creating @tf.function repeatedly in a loop, (2) passing tensors with different shapes, (3) passing Python objects instead of tensors. For (1), please define your @tf.function outside of the loop. For (2), @tf.function has reduce_retracing=True option that can avoid unnecessary retracing. For (3), please refer to https://www.tensorflow.org/guide/function#controlling_retracing and https://www.tensorflow.org/api_docs/python/tf/function for  more details.\n"
          ]
        },
        {
          "output_type": "stream",
          "name": "stdout",
          "text": [
            "초기 가중치: \n",
            "[array([[-1.0692183 , -1.0072207 ],\n",
            "       [ 0.51500154, -0.38740396]], dtype=float32), array([0., 0.], dtype=float32), array([[-0.86756825],\n",
            "       [ 0.10188007]], dtype=float32), array([0.], dtype=float32)]\n",
            "초기 상태에서 신경망의 예측:\n",
            "1/1 [==============================] - 0s 46ms/step\n",
            "[[0.4054411 ]\n",
            " [0.3770979 ]\n",
            " [0.45153928]\n",
            " [0.42645645]]\n"
          ]
        },
        {
          "output_type": "stream",
          "name": "stderr",
          "text": [
            "WARNING:tensorflow:6 out of the last 6 calls to <function Model.make_predict_function.<locals>.predict_function at 0x7be8e3f423b0> triggered tf.function retracing. Tracing is expensive and the excessive number of tracings could be due to (1) creating @tf.function repeatedly in a loop, (2) passing tensors with different shapes, (3) passing Python objects instead of tensors. For (1), please define your @tf.function outside of the loop. For (2), @tf.function has reduce_retracing=True option that can avoid unnecessary retracing. For (3), please refer to https://www.tensorflow.org/guide/function#controlling_retracing and https://www.tensorflow.org/api_docs/python/tf/function for  more details.\n"
          ]
        },
        {
          "output_type": "stream",
          "name": "stdout",
          "text": [
            "\n",
            "학습 후 가중치: \n",
            "[array([[-7.4796815, -8.218036 ],\n",
            "       [ 7.1981573,  7.4118695]], dtype=float32), array([ 4.1658435, -3.8854928], dtype=float32), array([[-8.441005],\n",
            "       [ 8.364029]], dtype=float32), array([4.229088], dtype=float32)]\n",
            "1/1 [==============================] - 0s 46ms/step\n",
            "학습 후 신경망의 예측:\n",
            "[[0.01955796]\n",
            " [0.9804155 ]\n",
            " [0.98078865]\n",
            " [0.01859966]]\n"
          ]
        }
      ]
    },
    {
      "cell_type": "code",
      "source": [
        "model.summary()"
      ],
      "metadata": {
        "id": "JXyQU_uksTkN",
        "outputId": "2fce7583-f29d-4ffb-b925-fbaafddb034a",
        "colab": {
          "base_uri": "https://localhost:8080/"
        }
      },
      "id": "JXyQU_uksTkN",
      "execution_count": 12,
      "outputs": [
        {
          "output_type": "stream",
          "name": "stdout",
          "text": [
            "Model: \"XOR_MLP\"\n",
            "_________________________________________________________________\n",
            " Layer (type)                Output Shape              Param #   \n",
            "=================================================================\n",
            " input_3 (InputLayer)        [(None, 2)]               0         \n",
            "                                                                 \n",
            " dense_4 (Dense)             (None, 2)                 6         \n",
            "                                                                 \n",
            " dense_5 (Dense)             (None, 1)                 3         \n",
            "                                                                 \n",
            "=================================================================\n",
            "Total params: 9 (36.00 Byte)\n",
            "Trainable params: 9 (36.00 Byte)\n",
            "Non-trainable params: 0 (0.00 Byte)\n",
            "_________________________________________________________________\n"
          ]
        }
      ]
    },
    {
      "cell_type": "markdown",
      "source": [
        "# Projects"
      ],
      "metadata": {
        "id": "uxn0Kgz7aqJl"
      },
      "id": "uxn0Kgz7aqJl"
    },
    {
      "cell_type": "code",
      "execution_count": null,
      "id": "5375cd5d",
      "metadata": {
        "id": "5375cd5d"
      },
      "outputs": [],
      "source": [
        "from google.colab import drive\n",
        "drive.mount('/content/drive')"
      ]
    },
    {
      "cell_type": "code",
      "execution_count": null,
      "id": "EgMmNmnMRv7Q",
      "metadata": {
        "id": "EgMmNmnMRv7Q"
      },
      "outputs": [],
      "source": [
        "PATH = \"/content/drive/MyDrive/biodata/\""
      ]
    },
    {
      "cell_type": "code",
      "execution_count": null,
      "id": "3e1d357f",
      "metadata": {
        "id": "3e1d357f"
      },
      "outputs": [],
      "source": [
        "def compare(y_true, y_pred):\n",
        "    d = pd.DataFrame()\n",
        "    d[\"Actual\"] = y_true\n",
        "    d[\"Predict\"] = y_pred\n",
        "    d[\"residual\"] = abs(y_true - y_pred)\n",
        "    return d"
      ]
    },
    {
      "cell_type": "code",
      "execution_count": null,
      "id": "f99a258f",
      "metadata": {
        "id": "f99a258f"
      },
      "outputs": [],
      "source": [
        "def plot_training_history(fit_history):\n",
        "    # 학습이력 그래프로 확인하기\n",
        "    vloss = fit_history.history.get('val_loss') # 검증셋 loss\n",
        "    loss = fit_history.history.get('loss') # 학습셋\n",
        "\n",
        "    plt.figure(figsize=(8,4))\n",
        "    epoch = np.arange(len(loss))\n",
        "    plt.subplot(211)\n",
        "    if vloss != None:\n",
        "        plt.plot(epoch, vloss, 'r',  marker='.',label='validation_loss')\n",
        "    plt.plot(epoch, loss, 'b',  marker='.', label='loss')\n",
        "    plt.legend(loc='best')\n",
        "\n",
        "\n",
        "    vacc = fit_history.history.get('val_accuracy') # 검증셋 정확도\n",
        "    acc = fit_history.history.get('accuracy') # 학습셋\n",
        "    if acc != None:\n",
        "        plt.subplot(212)\n",
        "        if vacc != None:\n",
        "            plt.plot(epoch, vacc, 'r', marker='.',label='validation_acc')\n",
        "        plt.plot(epoch, acc, 'b', marker='.', label='accuracy')\n",
        "        plt.legend(loc='best')\n",
        "    plt.show()"
      ]
    },
    {
      "cell_type": "code",
      "execution_count": null,
      "id": "18411d87",
      "metadata": {
        "id": "18411d87"
      },
      "outputs": [],
      "source": [
        "def dispConfusionMatrix(y_true, y_pred):\n",
        "    plt.figure( figsize=(4,3))\n",
        "    sns.heatmap(confusion_matrix(y_true, y_pred), annot=True, fmt='d' )\n",
        "    plt.xlabel('Predicted')\n",
        "    plt.ylabel('Ground truth')\n",
        "    plt.show()"
      ]
    },
    {
      "cell_type": "markdown",
      "id": "16e38774",
      "metadata": {
        "id": "16e38774"
      },
      "source": [
        "# 1. Heart Disease Prediction"
      ]
    },
    {
      "cell_type": "code",
      "execution_count": null,
      "id": "07b4c6eb",
      "metadata": {
        "id": "07b4c6eb"
      },
      "outputs": [],
      "source": [
        "df = pd.read_csv(PATH+'heart_NOdup.csv')\n",
        "df.info()"
      ]
    },
    {
      "cell_type": "code",
      "execution_count": null,
      "id": "f8c214f0",
      "metadata": {
        "id": "f8c214f0"
      },
      "outputs": [],
      "source": [
        "y = df['target']\n",
        "x = df.drop(['target'], axis = ).\n",
        "x_train, x_test, y_train, y_test = train_test_split(x, y, test_size = 0.33, random_state = 0)"
      ]
    },
    {
      "cell_type": "code",
      "execution_count": null,
      "id": "b466d2a9",
      "metadata": {
        "id": "b466d2a9"
      },
      "outputs": [],
      "source": [
        "scaler = StandardScaler()\n",
        "columns_to_scale =\n",
        "x_train [ columns_to_scale ] =  scaler. ( x_train [columns_to_scale] )\n",
        "x_test [ columns_to_scale ] =  scaler. ( x_test [columns_to_scale] )\n"
      ]
    },
    {
      "cell_type": "code",
      "source": [],
      "metadata": {
        "id": "wUIXO_wnbRWA"
      },
      "id": "wUIXO_wnbRWA",
      "execution_count": null,
      "outputs": []
    },
    {
      "cell_type": "code",
      "execution_count": null,
      "id": "927fdc5d",
      "metadata": {
        "id": "927fdc5d"
      },
      "outputs": [],
      "source": [
        "model = keras.Sequential()\n",
        "\n",
        "\n",
        "model.compile(loss=   ,\n",
        "             optimizer= ,\n",
        "              metrics=['accuracy'])\n",
        "\n",
        "# 모델 저장 조건 설정\n",
        "modelfile = PATH+'heart_best.h5'\n",
        "checkpointer =  ModelCheckpoint(filepath=modelfile, monitor=  ,\n",
        "                               verbose= , save_best_only=  )\n",
        "\n",
        "# 학습의 자동 중단 설정\n",
        "early_stopping_callback = EarlyStopping(monitor= ,\n",
        "                                        patience=  ,\n",
        "                                       verbose= )\n",
        "\n",
        "# learning rate 조정\n",
        "reduce_lr = ReduceLROnPlateau(monitor=  , factor=   ,\n",
        "                              patience=   , min_lr=  , verbose= )\n",
        "\n",
        "\n",
        "fit_history = model.fit(x_train, y_train,\n",
        "                        validation_data=    ,\n",
        "                        epochs=    , batch_size=   , verbose= ,\n",
        "                      callbacks=[  ])\n",
        "\n",
        "print(\"Training accuracy: %.3f\"% model.evaluate(x_train, y_train)[1]  )\n",
        "print(\"Test accuracy: %.3f\"% model.evaluate(x_test, y_test)[1]  )"
      ]
    },
    {
      "cell_type": "code",
      "execution_count": null,
      "id": "AoBuE3-PiszH",
      "metadata": {
        "id": "AoBuE3-PiszH"
      },
      "outputs": [],
      "source": [
        "model"
      ]
    },
    {
      "cell_type": "code",
      "execution_count": null,
      "id": "A7mnMNwPiv8B",
      "metadata": {
        "id": "A7mnMNwPiv8B"
      },
      "outputs": [],
      "source": [
        "plot_model(model, show_shapes=True)"
      ]
    },
    {
      "cell_type": "code",
      "execution_count": null,
      "id": "a46924d7",
      "metadata": {
        "id": "a46924d7"
      },
      "outputs": [],
      "source": [
        "fit_history.history"
      ]
    },
    {
      "cell_type": "code",
      "execution_count": null,
      "id": "0938f772",
      "metadata": {
        "id": "0938f772"
      },
      "outputs": [],
      "source": [
        " plot_training_history(fit_history)"
      ]
    },
    {
      "cell_type": "code",
      "execution_count": null,
      "id": "d809ca1e",
      "metadata": {
        "id": "d809ca1e"
      },
      "outputs": [],
      "source": [
        "optimal_model =   (PATH+\"heart_best.h5\")\n",
        "print(\"Optimal model:\" )\n",
        "print(\"Train set accuracy: %.4f\" % (optimal_model.evaluate(x_train, y_train)[1]))\n",
        "print(\"Test set accuracy: %.4f\" % (optimal_model.evaluate(x_test, y_test)[1]))"
      ]
    },
    {
      "cell_type": "markdown",
      "id": "395bf62f",
      "metadata": {
        "id": "395bf62f"
      },
      "source": [
        "## 예측값(Predicted values)"
      ]
    },
    {
      "cell_type": "code",
      "execution_count": null,
      "id": "2dbd636e",
      "metadata": {
        "id": "2dbd636e"
      },
      "outputs": [],
      "source": [
        "pred =\n"
      ]
    },
    {
      "cell_type": "code",
      "execution_count": null,
      "id": "2369a6dd",
      "metadata": {
        "id": "2369a6dd"
      },
      "outputs": [],
      "source": [
        "y_pred =\n",
        "compare( y_test, y_pred)"
      ]
    },
    {
      "cell_type": "code",
      "execution_count": null,
      "id": "d0aef35a",
      "metadata": {
        "id": "d0aef35a"
      },
      "outputs": [],
      "source": []
    },
    {
      "cell_type": "code",
      "execution_count": null,
      "id": "78b0d1a9",
      "metadata": {
        "id": "78b0d1a9"
      },
      "outputs": [],
      "source": [
        "dispConfusionMatrix( y_test, y_pred )"
      ]
    },
    {
      "cell_type": "markdown",
      "source": [
        "- 오답 분석"
      ],
      "metadata": {
        "id": "xx-pjlX5b2sb"
      },
      "id": "xx-pjlX5b2sb"
    },
    {
      "cell_type": "code",
      "execution_count": null,
      "id": "8791e75f",
      "metadata": {
        "id": "8791e75f"
      },
      "outputs": [],
      "source": [
        "idx ="
      ]
    },
    {
      "cell_type": "code",
      "source": [],
      "metadata": {
        "id": "Bim-wuKpb8Ra"
      },
      "id": "Bim-wuKpb8Ra",
      "execution_count": null,
      "outputs": []
    },
    {
      "cell_type": "code",
      "source": [
        "inc_df ="
      ],
      "metadata": {
        "id": "BpEopPQWb8OF"
      },
      "id": "BpEopPQWb8OF",
      "execution_count": null,
      "outputs": []
    },
    {
      "cell_type": "code",
      "source": [],
      "metadata": {
        "id": "-To2FuNrcBx2"
      },
      "id": "-To2FuNrcBx2",
      "execution_count": null,
      "outputs": []
    },
    {
      "cell_type": "code",
      "source": [],
      "metadata": {
        "id": "k2k0KO49cBvE"
      },
      "id": "k2k0KO49cBvE",
      "execution_count": null,
      "outputs": []
    },
    {
      "cell_type": "code",
      "source": [],
      "metadata": {
        "id": "XEn81lMqcBru"
      },
      "id": "XEn81lMqcBru",
      "execution_count": null,
      "outputs": []
    },
    {
      "cell_type": "code",
      "source": [],
      "metadata": {
        "id": "p-ml6Vasb8LR"
      },
      "id": "p-ml6Vasb8LR",
      "execution_count": null,
      "outputs": []
    },
    {
      "cell_type": "markdown",
      "id": "52a89ea9",
      "metadata": {
        "id": "52a89ea9"
      },
      "source": [
        "## 교차검증"
      ]
    },
    {
      "cell_type": "code",
      "execution_count": null,
      "id": "8be3708e",
      "metadata": {
        "id": "8be3708e"
      },
      "outputs": [],
      "source": [
        "x_scaled = x\n",
        "scaler = StandardScaler()\n",
        "x_scaled =  scaler.fit_transform( x_scaled)\n",
        "print(x_scaled.shape)"
      ]
    },
    {
      "cell_type": "code",
      "execution_count": null,
      "id": "2207d6b3",
      "metadata": {
        "id": "2207d6b3"
      },
      "outputs": [],
      "source": [
        "from sklearn.model_selection import StratifiedKFold\n",
        "seed = 0\n",
        "\n",
        "n_fold =\n",
        "skf = StratifiedKFold( n_splits=n_fold, shuffle=True, random_state=seed)\n",
        "\n",
        "accuracy_list = []\n",
        "for train_index, test_index in skf( ):\n",
        "\n",
        "    x_train, x_test =\n",
        "    y_train, y_test =\n",
        "\n",
        "    model.compile(   )\n",
        "    model.fit(x_train, y_train, epochs=2000, batch_size=64, verbose=0)\n",
        "\n",
        "    accuracy_list.append( model.evaluate(x_test, y_test)[1] )\n",
        "else:\n",
        "    print(n_fold,\"-fold accuracy: \", accuracy_list)\n",
        "    print(\"Average accuracy: %.4f\" % (sum(accuracy_list)/n_fold) )"
      ]
    },
    {
      "cell_type": "markdown",
      "source": [
        "## 차원 축소"
      ],
      "metadata": {
        "id": "txX5nDKgc0uU"
      },
      "id": "txX5nDKgc0uU"
    },
    {
      "cell_type": "code",
      "source": [
        "from sklearn.decomposition import PCA\n",
        "my_pca = PCA(  )"
      ],
      "metadata": {
        "id": "GMinUzoYc2Pa"
      },
      "id": "GMinUzoYc2Pa",
      "execution_count": null,
      "outputs": []
    },
    {
      "cell_type": "code",
      "source": [
        "# 주성분 보기\n",
        "plt.figure( figsize=(10,10))\n",
        "\n",
        "sns.heatmap(my_pca.components_, annot=True, fmt='.1f' )\n"
      ],
      "metadata": {
        "id": "OuHenYn0c2M6"
      },
      "id": "OuHenYn0c2M6",
      "execution_count": null,
      "outputs": []
    },
    {
      "cell_type": "code",
      "source": [
        "\n",
        "\n",
        "\n",
        "modelfile = PATH+'heart_pca_best.h5'\n"
      ],
      "metadata": {
        "id": "OCr8CVybc2KC"
      },
      "id": "OCr8CVybc2KC",
      "execution_count": null,
      "outputs": []
    },
    {
      "cell_type": "code",
      "source": [],
      "metadata": {
        "id": "avQFeggIc2HM"
      },
      "id": "avQFeggIc2HM",
      "execution_count": null,
      "outputs": []
    },
    {
      "cell_type": "code",
      "source": [],
      "metadata": {
        "id": "pJ05FJ75dKxP"
      },
      "id": "pJ05FJ75dKxP",
      "execution_count": null,
      "outputs": []
    },
    {
      "cell_type": "code",
      "source": [],
      "metadata": {
        "id": "ZS2hvYPGdKt7"
      },
      "id": "ZS2hvYPGdKt7",
      "execution_count": null,
      "outputs": []
    },
    {
      "cell_type": "markdown",
      "id": "BaXwhoC8U-fR",
      "metadata": {
        "id": "BaXwhoC8U-fR"
      },
      "source": [
        "# 2. ECG signal classification"
      ]
    },
    {
      "cell_type": "code",
      "execution_count": null,
      "id": "08ec6eb8",
      "metadata": {
        "id": "08ec6eb8"
      },
      "outputs": [],
      "source": [
        "import pickle\n",
        "\n",
        "# pickle  .pkl: 파이썬의 모든 객체(object)에 대해서 있는 그대로 저장할 수 있는 파일 형식\n",
        "\n",
        "def load_dataset(filename, extension = '.csv', directory = PATH):\n",
        "    if 'csv' in extension:\n",
        "        data = pd.read_csv(directory+filename+extension)\n",
        "    elif 'pkl' in extension:\n",
        "        data = pd.DataFrame(pickle.load(open(directory+filename+extension, 'rb')))\n",
        "    return data"
      ]
    },
    {
      "cell_type": "markdown",
      "id": "caa843ff",
      "metadata": {
        "id": "caa843ff"
      },
      "source": [
        "- ARR(Arrhythmia)\n",
        "- https://litfl.com/sinus-arrhythmia-ecg-library/\n",
        "\n",
        "- CHF(Congestive heart failure)\n",
        "- https://www.wikidoc.org/index.php/Congestive_heart_failure_electrocardiogram\n",
        "\n",
        "- NSR (Normal Sinus Rhythm)\n",
        "- https://litfl.com/normal-sinus-rhythm-ecg-library/"
      ]
    },
    {
      "cell_type": "markdown",
      "id": "SsjrdB6dV4X8",
      "metadata": {
        "id": "SsjrdB6dV4X8"
      },
      "source": [
        "## read data"
      ]
    },
    {
      "cell_type": "code",
      "execution_count": null,
      "id": "tuFp6830Vqnt",
      "metadata": {
        "id": "tuFp6830Vqnt"
      },
      "outputs": [],
      "source": [
        "fs = 128\n",
        "df = load_dataset('ecg_signal_classification', extension = '.pkl', directory=PATH)\n",
        "df.head()"
      ]
    },
    {
      "cell_type": "code",
      "source": [],
      "metadata": {
        "id": "ZOF5DlxVdWag"
      },
      "id": "ZOF5DlxVdWag",
      "execution_count": null,
      "outputs": []
    },
    {
      "cell_type": "code",
      "execution_count": null,
      "id": "F7juaHeeV7d0",
      "metadata": {
        "id": "F7juaHeeV7d0"
      },
      "outputs": [],
      "source": [
        "df.target"
      ]
    },
    {
      "cell_type": "code",
      "execution_count": null,
      "id": "JOY5a64qV7hI",
      "metadata": {
        "id": "JOY5a64qV7hI"
      },
      "outputs": [],
      "source": [
        "def plot_signal(y, fs):\n",
        "    time = np.arange(0, len(y)) * (1 / fs)\n",
        "    plt.figure( figsize= (20, 3))\n",
        "    plt.plot(time, y, linestyle='-', color='blue')\n",
        "    plt.xlabel('Time [s]', fontsize=16)\n",
        "    plt.ylabel('Amplitude', fontsize=16)\n",
        "    plt.title('Signal', fontsize=16)\n",
        "    plt.show()"
      ]
    },
    {
      "cell_type": "code",
      "execution_count": null,
      "id": "GHidPJtWV7kJ",
      "metadata": {
        "id": "GHidPJtWV7kJ"
      },
      "outputs": [],
      "source": [
        "plot_signal(df.iloc[    ], fs)  # 0, 4000, 5000"
      ]
    },
    {
      "cell_type": "code",
      "execution_count": null,
      "id": "NDCBmKDxV7mw",
      "metadata": {
        "id": "NDCBmKDxV7mw"
      },
      "outputs": [],
      "source": [
        "from scipy.fft import fft, ifft\n",
        "\n",
        "def get_fft(y, fs, vis = False):\n",
        "    sr = fs * 2\n",
        "    N = len(y)\n",
        "    f = np.linspace(0.0, sr, N)\n",
        "    fft_tmp = fft(y)\n",
        "    fft_ = 2.0 / N * np.abs(fft_tmp[:N])\n",
        "\n",
        "    ifft_ =  ifft(fft_tmp)\n",
        "\n",
        "    if vis:\n",
        "        plot_signal(y, fs )\n",
        "\n",
        "        plt.figure(figsize=(20, 8))\n",
        "        plt.subplot(211)\n",
        "        plt.plot(f, fft_, linestyle='-', color='blue')\n",
        "        plt.xlabel('Frequency [Hz]', fontsize=16)\n",
        "        plt.ylabel('Amplitude', fontsize=16)\n",
        "        plt.title('Frequency Transform', fontsize=16)\n",
        "        plt.xlim((0, sr))\n",
        "        plt.subplot(212)\n",
        "        time = np.arange(0, len(ifft_))* (1 / fs)\n",
        "        plt.plot(time, ifft_, linestyle='-', color='red')\n",
        "        plt.xlabel('Signal', fontsize=16)\n",
        "        plt.ylabel('Amplitude', fontsize=16)\n",
        "        plt.show()\n",
        "\n",
        "        plt.figure(figsize=(20, 3))\n",
        "        plt.plot(fft_[1:N//2])\n",
        "        plt.xlim((0, N//2))\n",
        "        plt.show()\n",
        "\n",
        "\n",
        "    return f, fft_[  :N//2]"
      ]
    },
    {
      "cell_type": "code",
      "execution_count": null,
      "id": "5-UPEgC4V72p",
      "metadata": {
        "id": "5-UPEgC4V72p"
      },
      "outputs": [],
      "source": [
        "signal = df.iloc[0, 0:-1]  # 0, 100, 161, 4000, 5000\n",
        "f, fft_c = get_fft(signal, fs, vis=True)"
      ]
    },
    {
      "cell_type": "code",
      "execution_count": null,
      "id": "r4KP-hWGWHOV",
      "metadata": {
        "id": "r4KP-hWGWHOV"
      },
      "outputs": [],
      "source": [
        "# frequency transform\n",
        "fft_coef = [ ]\n",
        "for i in range(df.shape[0]):\n",
        "    _, fft_c = get_fft(    )\n",
        "    fft_coef.append( fft_c )\n",
        "ecg_fft =\n",
        "ecg_fft.shape"
      ]
    },
    {
      "cell_type": "code",
      "execution_count": null,
      "id": "Qowx2EmjWUc9",
      "metadata": {
        "id": "Qowx2EmjWUc9"
      },
      "outputs": [],
      "source": [
        "# one-hot encoding\n",
        "df =\n",
        "df.info()"
      ]
    },
    {
      "cell_type": "code",
      "execution_count": null,
      "id": "s1S9GGtIWUZr",
      "metadata": {
        "id": "s1S9GGtIWUZr"
      },
      "outputs": [],
      "source": [
        "df.columns"
      ]
    },
    {
      "cell_type": "code",
      "execution_count": null,
      "id": "2rAXq3L1WHR-",
      "metadata": {
        "id": "2rAXq3L1WHR-"
      },
      "outputs": [],
      "source": [
        "y =\n",
        "x =\n",
        "x_train, x_test, y_train, y_test = train_test_split(x, y, test_size = 0.33, random_state = 0)"
      ]
    },
    {
      "cell_type": "code",
      "execution_count": null,
      "id": "ZP2YjNGTWazM",
      "metadata": {
        "id": "ZP2YjNGTWazM"
      },
      "outputs": [],
      "source": [
        "model = keras.Sequential()\n",
        "\n",
        "\n",
        "model.compile(loss= ,\n",
        "             optimizer= ,\n",
        "              metrics=['accuracy'])\n",
        "\n",
        "# 모델 저장 조건 설정\n",
        "modelfile = PATH+'ecg_best.h5'\n",
        "checkpointer = ModelCheckpoint(filepath= , monitor= ,\n",
        "                               verbose= , save_best_only=  )\n",
        "\n",
        "# 학습의 자동 중단 설정\n",
        "early_stopping_callback = EarlyStopping(monitor= ,\n",
        "                                        patience= )\n",
        "\n",
        "\n",
        "fit_history = model.fit(x_train, y_train,\n",
        "                        validation_data= ,\n",
        "                        epochs= , batch_size= , verbose= ,\n",
        "                      callbacks=[ ])\n",
        "\n",
        "print(\"Training accuracy: %.3f\"% model.evaluate(x_train, y_train)[1])\n",
        "print(\"Test accuracy: %.3f\"% model.evaluate(x_test, y_test)[1])"
      ]
    },
    {
      "cell_type": "code",
      "execution_count": null,
      "id": "gyBTmDzPWa2W",
      "metadata": {
        "id": "gyBTmDzPWa2W"
      },
      "outputs": [],
      "source": [
        "# 학습 이력 확인\n"
      ]
    },
    {
      "cell_type": "code",
      "execution_count": null,
      "id": "87qJY-FFWa5h",
      "metadata": {
        "id": "87qJY-FFWa5h"
      },
      "outputs": [],
      "source": [
        "optimal_model = load_model(PATH+\"ecg_best.h5\")\n",
        "print(\"Optimal model:\" )\n",
        "print(\"Train set accuracy: %.4f\" % (optimal_model.evaluate(x_train, y_train)[1]))\n",
        "print(\"Test set accuracy: %.4f\" % (optimal_model.evaluate(x_test, y_test)[1]))\n",
        "\n"
      ]
    },
    {
      "cell_type": "code",
      "execution_count": null,
      "id": "BZPr7fhXWHcr",
      "metadata": {
        "id": "BZPr7fhXWHcr"
      },
      "outputs": [],
      "source": [
        "y_pred =\n",
        "y_true =\n",
        "\n",
        "dispConfusionMatrix(y_true, y_pred)"
      ]
    },
    {
      "cell_type": "markdown",
      "id": "df63b71c",
      "metadata": {
        "id": "df63b71c"
      },
      "source": [
        "# 3. Regression"
      ]
    },
    {
      "cell_type": "code",
      "source": [
        "def evaluation(x, y, model) :\n",
        "    pass"
      ],
      "metadata": {
        "id": "GBAj4tKXjnmO"
      },
      "id": "GBAj4tKXjnmO",
      "execution_count": null,
      "outputs": []
    },
    {
      "cell_type": "code",
      "execution_count": null,
      "id": "45e83bb4",
      "metadata": {
        "id": "45e83bb4"
      },
      "outputs": [],
      "source": [
        "dataset = pd.read_csv(PATH + 'insurance.csv')"
      ]
    },
    {
      "cell_type": "code",
      "execution_count": null,
      "id": "cb921c22",
      "metadata": {
        "id": "cb921c22"
      },
      "outputs": [],
      "source": [
        "\n"
      ]
    },
    {
      "cell_type": "code",
      "source": [],
      "metadata": {
        "id": "jyRNVnPol7Iv"
      },
      "id": "jyRNVnPol7Iv",
      "execution_count": null,
      "outputs": []
    },
    {
      "cell_type": "code",
      "execution_count": null,
      "id": "1a93e567",
      "metadata": {
        "id": "1a93e567"
      },
      "outputs": [],
      "source": []
    },
    {
      "cell_type": "markdown",
      "id": "ad6afdab",
      "metadata": {
        "id": "ad6afdab"
      },
      "source": [
        "## SLP"
      ]
    },
    {
      "cell_type": "code",
      "execution_count": null,
      "id": "02279662",
      "metadata": {
        "id": "02279662"
      },
      "outputs": [],
      "source": []
    },
    {
      "cell_type": "code",
      "execution_count": null,
      "id": "98501c9a",
      "metadata": {
        "id": "98501c9a"
      },
      "outputs": [],
      "source": []
    },
    {
      "cell_type": "markdown",
      "id": "5af6d1b6",
      "metadata": {
        "id": "5af6d1b6"
      },
      "source": [
        "## DNN"
      ]
    },
    {
      "cell_type": "code",
      "execution_count": null,
      "id": "8a5dfa8a",
      "metadata": {
        "id": "8a5dfa8a"
      },
      "outputs": [],
      "source": []
    },
    {
      "cell_type": "code",
      "execution_count": null,
      "id": "bc74c8b0",
      "metadata": {
        "id": "bc74c8b0"
      },
      "outputs": [],
      "source": []
    }
  ],
  "metadata": {
    "colab": {
      "provenance": [],
      "gpuType": "T4",
      "include_colab_link": true
    },
    "kernelspec": {
      "display_name": "Python 3",
      "name": "python3"
    },
    "language_info": {
      "codemirror_mode": {
        "name": "ipython",
        "version": 3
      },
      "file_extension": ".py",
      "mimetype": "text/x-python",
      "name": "python",
      "nbconvert_exporter": "python",
      "pygments_lexer": "ipython3",
      "version": "3.9.13"
    },
    "accelerator": "GPU"
  },
  "nbformat": 4,
  "nbformat_minor": 5
}